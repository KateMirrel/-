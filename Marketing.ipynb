{
 "cells": [
  {
   "cell_type": "code",
   "execution_count": 1,
   "id": "edd2b089",
   "metadata": {},
   "outputs": [
    {
     "name": "stdout",
     "output_type": "stream",
     "text": [
      "Note: you may need to restart the kernel to use updated packages.\n"
     ]
    }
   ],
   "source": [
    "pip install -q phik "
   ]
  },
  {
   "cell_type": "code",
   "execution_count": 58,
   "id": "b9f0fd7e",
   "metadata": {},
   "outputs": [],
   "source": [
    "import numpy as np\n",
    "import pandas as pd\n",
    "import matplotlib.pyplot as plt\n",
    "import re\n",
    "import time\n",
    "import seaborn as sns\n",
    "from sklearn.pipeline import Pipeline\n",
    "from sklearn.compose import ColumnTransformer\n",
    "from sklearn.model_selection import train_test_split, RandomizedSearchCV, GridSearchCV\n",
    "from sklearn.preprocessing import OneHotEncoder, OrdinalEncoder, StandardScaler, MinMaxScaler, LabelEncoder, PolynomialFeatures\n",
    "from sklearn.linear_model import LogisticRegression\n",
    "from sklearn.impute import SimpleImputer\n",
    "from sklearn.metrics import roc_auc_score\n",
    "import lightgbm as lgb\n",
    "from catboost import CatBoostClassifier\n",
    "from xgboost import XGBClassifier\n",
    "import phik\n",
    "\n",
    "\n",
    "RANDOM_STATE = 42\n",
    "\n",
    "from warnings import simplefilter\n",
    "simplefilter(action='ignore', category=FutureWarning)"
   ]
  },
  {
   "cell_type": "markdown",
   "id": "618f37f1",
   "metadata": {},
   "source": [
    "\n",
    "Интернет-магазин собирает историю покупателей, проводит рассылки предложений и\n",
    "планирует будущие продажи. Для оптимизации процессов надо выделить пользователей,\n",
    "которые готовы совершить покупку в ближайшее время.\n",
    "\n",
    "Цель- Предсказать вероятность покупки в течение 90 дней\n",
    "Задачи\n",
    "●\n",
    "Изучить данные\n",
    "●\n",
    "Разработать полезные признаки\n",
    "●\n",
    "Создать модель для классификации пользователей\n",
    "●\n",
    "Улучшить модель и максимизировать метрику roc_auc\n",
    "●\n",
    "Выполнить тестирование\n",
    "Данные\n",
    "apparel-purchases\n",
    "история покупок\n",
    "●\n",
    "client_id идентификатор пользователя\n",
    "●\n",
    "quantity количество товаров в заказе\n",
    "●\n",
    "price цена товара\n",
    "●\n",
    "category_ids вложенные категории, к которым отнсится товар\n",
    "●\n",
    "date дата покупки\n",
    "●\n",
    "message_id идентификатор сообщения из рассылки\n",
    "apparel-messages\n",
    "история рекламных рассылок\n",
    "●\n",
    "bulk_campaign_id идентификатор рекламной кампании\n",
    "●\n",
    "client_id идентификатор пользователя\n",
    "●\n",
    "message_id идентификатор сообщений\n",
    "●\n",
    "event тип действия\n",
    "●\n",
    "channel канал рассылки\n",
    "●\n",
    "date дата рассылки\n",
    "●\n",
    "created_at точное время создания сообщения"
   ]
  },
  {
   "cell_type": "markdown",
   "id": "f5c44f5f",
   "metadata": {},
   "source": [
    "Загрузим все датасеты и посмотрим их содержимое"
   ]
  },
  {
   "cell_type": "code",
   "execution_count": 3,
   "id": "2590fdbd",
   "metadata": {
    "scrolled": true
   },
   "outputs": [
    {
     "data": {
      "text/html": [
       "<div>\n",
       "<style scoped>\n",
       "    .dataframe tbody tr th:only-of-type {\n",
       "        vertical-align: middle;\n",
       "    }\n",
       "\n",
       "    .dataframe tbody tr th {\n",
       "        vertical-align: top;\n",
       "    }\n",
       "\n",
       "    .dataframe thead th {\n",
       "        text-align: right;\n",
       "    }\n",
       "</style>\n",
       "<table border=\"1\" class=\"dataframe\">\n",
       "  <thead>\n",
       "    <tr style=\"text-align: right;\">\n",
       "      <th></th>\n",
       "      <th>client_id</th>\n",
       "      <th>quantity</th>\n",
       "      <th>price</th>\n",
       "      <th>category_ids</th>\n",
       "      <th>date</th>\n",
       "      <th>message_id</th>\n",
       "    </tr>\n",
       "  </thead>\n",
       "  <tbody>\n",
       "    <tr>\n",
       "      <th>0</th>\n",
       "      <td>1515915625468169594</td>\n",
       "      <td>1</td>\n",
       "      <td>1999.0</td>\n",
       "      <td>['4', '28', '57', '431']</td>\n",
       "      <td>2022-05-16</td>\n",
       "      <td>1515915625468169594-4301-627b661e9736d</td>\n",
       "    </tr>\n",
       "    <tr>\n",
       "      <th>1</th>\n",
       "      <td>1515915625468169594</td>\n",
       "      <td>1</td>\n",
       "      <td>2499.0</td>\n",
       "      <td>['4', '28', '57', '431']</td>\n",
       "      <td>2022-05-16</td>\n",
       "      <td>1515915625468169594-4301-627b661e9736d</td>\n",
       "    </tr>\n",
       "    <tr>\n",
       "      <th>2</th>\n",
       "      <td>1515915625471138230</td>\n",
       "      <td>1</td>\n",
       "      <td>6499.0</td>\n",
       "      <td>['4', '28', '57', '431']</td>\n",
       "      <td>2022-05-16</td>\n",
       "      <td>1515915625471138230-4437-6282242f27843</td>\n",
       "    </tr>\n",
       "    <tr>\n",
       "      <th>3</th>\n",
       "      <td>1515915625471138230</td>\n",
       "      <td>1</td>\n",
       "      <td>4999.0</td>\n",
       "      <td>['4', '28', '244', '432']</td>\n",
       "      <td>2022-05-16</td>\n",
       "      <td>1515915625471138230-4437-6282242f27843</td>\n",
       "    </tr>\n",
       "    <tr>\n",
       "      <th>4</th>\n",
       "      <td>1515915625471138230</td>\n",
       "      <td>1</td>\n",
       "      <td>4999.0</td>\n",
       "      <td>['4', '28', '49', '413']</td>\n",
       "      <td>2022-05-16</td>\n",
       "      <td>1515915625471138230-4437-6282242f27843</td>\n",
       "    </tr>\n",
       "  </tbody>\n",
       "</table>\n",
       "</div>"
      ],
      "text/plain": [
       "             client_id  quantity   price               category_ids  \\\n",
       "0  1515915625468169594         1  1999.0   ['4', '28', '57', '431']   \n",
       "1  1515915625468169594         1  2499.0   ['4', '28', '57', '431']   \n",
       "2  1515915625471138230         1  6499.0   ['4', '28', '57', '431']   \n",
       "3  1515915625471138230         1  4999.0  ['4', '28', '244', '432']   \n",
       "4  1515915625471138230         1  4999.0   ['4', '28', '49', '413']   \n",
       "\n",
       "         date                              message_id  \n",
       "0  2022-05-16  1515915625468169594-4301-627b661e9736d  \n",
       "1  2022-05-16  1515915625468169594-4301-627b661e9736d  \n",
       "2  2022-05-16  1515915625471138230-4437-6282242f27843  \n",
       "3  2022-05-16  1515915625471138230-4437-6282242f27843  \n",
       "4  2022-05-16  1515915625471138230-4437-6282242f27843  "
      ]
     },
     "metadata": {},
     "output_type": "display_data"
    },
    {
     "name": "stdout",
     "output_type": "stream",
     "text": [
      "<class 'pandas.core.frame.DataFrame'>\n",
      "RangeIndex: 202208 entries, 0 to 202207\n",
      "Data columns (total 6 columns):\n",
      " #   Column        Non-Null Count   Dtype  \n",
      "---  ------        --------------   -----  \n",
      " 0   client_id     202208 non-null  int64  \n",
      " 1   quantity      202208 non-null  int64  \n",
      " 2   price         202208 non-null  float64\n",
      " 3   category_ids  202208 non-null  object \n",
      " 4   date          202208 non-null  object \n",
      " 5   message_id    202208 non-null  object \n",
      "dtypes: float64(1), int64(2), object(3)\n",
      "memory usage: 9.3+ MB\n"
     ]
    },
    {
     "data": {
      "text/plain": [
       "None"
      ]
     },
     "metadata": {},
     "output_type": "display_data"
    },
    {
     "data": {
      "text/plain": [
       "client_id       0\n",
       "quantity        0\n",
       "price           0\n",
       "category_ids    0\n",
       "date            0\n",
       "message_id      0\n",
       "dtype: int64"
      ]
     },
     "metadata": {},
     "output_type": "display_data"
    }
   ],
   "source": [
    "purchases = pd.read_csv('apparel-purchases.csv')\n",
    "display(purchases.head())\n",
    "display(purchases.info())\n",
    "display(purchases.isna().sum())"
   ]
  },
  {
   "cell_type": "markdown",
   "id": "f3ff07ad",
   "metadata": {},
   "source": [
    "Пропусков нет, скорректируем тип данных в столбце date"
   ]
  },
  {
   "cell_type": "code",
   "execution_count": 4,
   "id": "f9f47c9b",
   "metadata": {},
   "outputs": [],
   "source": [
    "purchases['date'] = pd.to_datetime(purchases['date'])"
   ]
  },
  {
   "cell_type": "code",
   "execution_count": 5,
   "id": "4c33e865",
   "metadata": {},
   "outputs": [
    {
     "data": {
      "text/html": [
       "<div>\n",
       "<style scoped>\n",
       "    .dataframe tbody tr th:only-of-type {\n",
       "        vertical-align: middle;\n",
       "    }\n",
       "\n",
       "    .dataframe tbody tr th {\n",
       "        vertical-align: top;\n",
       "    }\n",
       "\n",
       "    .dataframe thead th {\n",
       "        text-align: right;\n",
       "    }\n",
       "</style>\n",
       "<table border=\"1\" class=\"dataframe\">\n",
       "  <thead>\n",
       "    <tr style=\"text-align: right;\">\n",
       "      <th></th>\n",
       "      <th>bulk_campaign_id</th>\n",
       "      <th>client_id</th>\n",
       "      <th>message_id</th>\n",
       "      <th>event</th>\n",
       "      <th>channel</th>\n",
       "      <th>date</th>\n",
       "      <th>created_at</th>\n",
       "    </tr>\n",
       "  </thead>\n",
       "  <tbody>\n",
       "    <tr>\n",
       "      <th>0</th>\n",
       "      <td>4439</td>\n",
       "      <td>1515915625626736623</td>\n",
       "      <td>1515915625626736623-4439-6283415ac07ea</td>\n",
       "      <td>open</td>\n",
       "      <td>email</td>\n",
       "      <td>2022-05-19</td>\n",
       "      <td>2022-05-19 00:14:20</td>\n",
       "    </tr>\n",
       "    <tr>\n",
       "      <th>1</th>\n",
       "      <td>4439</td>\n",
       "      <td>1515915625490086521</td>\n",
       "      <td>1515915625490086521-4439-62834150016dd</td>\n",
       "      <td>open</td>\n",
       "      <td>email</td>\n",
       "      <td>2022-05-19</td>\n",
       "      <td>2022-05-19 00:39:34</td>\n",
       "    </tr>\n",
       "    <tr>\n",
       "      <th>2</th>\n",
       "      <td>4439</td>\n",
       "      <td>1515915625553578558</td>\n",
       "      <td>1515915625553578558-4439-6283415b36b4f</td>\n",
       "      <td>open</td>\n",
       "      <td>email</td>\n",
       "      <td>2022-05-19</td>\n",
       "      <td>2022-05-19 00:51:49</td>\n",
       "    </tr>\n",
       "    <tr>\n",
       "      <th>3</th>\n",
       "      <td>4439</td>\n",
       "      <td>1515915625553578558</td>\n",
       "      <td>1515915625553578558-4439-6283415b36b4f</td>\n",
       "      <td>click</td>\n",
       "      <td>email</td>\n",
       "      <td>2022-05-19</td>\n",
       "      <td>2022-05-19 00:52:20</td>\n",
       "    </tr>\n",
       "    <tr>\n",
       "      <th>4</th>\n",
       "      <td>4439</td>\n",
       "      <td>1515915625471518311</td>\n",
       "      <td>1515915625471518311-4439-628341570c133</td>\n",
       "      <td>open</td>\n",
       "      <td>email</td>\n",
       "      <td>2022-05-19</td>\n",
       "      <td>2022-05-19 00:56:52</td>\n",
       "    </tr>\n",
       "  </tbody>\n",
       "</table>\n",
       "</div>"
      ],
      "text/plain": [
       "   bulk_campaign_id            client_id  \\\n",
       "0              4439  1515915625626736623   \n",
       "1              4439  1515915625490086521   \n",
       "2              4439  1515915625553578558   \n",
       "3              4439  1515915625553578558   \n",
       "4              4439  1515915625471518311   \n",
       "\n",
       "                               message_id  event channel        date  \\\n",
       "0  1515915625626736623-4439-6283415ac07ea   open   email  2022-05-19   \n",
       "1  1515915625490086521-4439-62834150016dd   open   email  2022-05-19   \n",
       "2  1515915625553578558-4439-6283415b36b4f   open   email  2022-05-19   \n",
       "3  1515915625553578558-4439-6283415b36b4f  click   email  2022-05-19   \n",
       "4  1515915625471518311-4439-628341570c133   open   email  2022-05-19   \n",
       "\n",
       "            created_at  \n",
       "0  2022-05-19 00:14:20  \n",
       "1  2022-05-19 00:39:34  \n",
       "2  2022-05-19 00:51:49  \n",
       "3  2022-05-19 00:52:20  \n",
       "4  2022-05-19 00:56:52  "
      ]
     },
     "metadata": {},
     "output_type": "display_data"
    },
    {
     "name": "stdout",
     "output_type": "stream",
     "text": [
      "<class 'pandas.core.frame.DataFrame'>\n",
      "RangeIndex: 12739798 entries, 0 to 12739797\n",
      "Data columns (total 7 columns):\n",
      " #   Column            Dtype \n",
      "---  ------            ----- \n",
      " 0   bulk_campaign_id  int64 \n",
      " 1   client_id         int64 \n",
      " 2   message_id        object\n",
      " 3   event             object\n",
      " 4   channel           object\n",
      " 5   date              object\n",
      " 6   created_at        object\n",
      "dtypes: int64(2), object(5)\n",
      "memory usage: 680.4+ MB\n"
     ]
    },
    {
     "data": {
      "text/plain": [
       "None"
      ]
     },
     "metadata": {},
     "output_type": "display_data"
    },
    {
     "data": {
      "text/plain": [
       "bulk_campaign_id    0\n",
       "client_id           0\n",
       "message_id          0\n",
       "event               0\n",
       "channel             0\n",
       "date                0\n",
       "created_at          0\n",
       "dtype: int64"
      ]
     },
     "metadata": {},
     "output_type": "display_data"
    }
   ],
   "source": [
    "messages = pd.read_csv('apparel-messages.csv')\n",
    "display(messages.head())\n",
    "display(messages.info())\n",
    "display(messages.isna().sum())"
   ]
  },
  {
   "cell_type": "markdown",
   "id": "812de768",
   "metadata": {},
   "source": [
    "Пропусков в данных нет, необходимо изменить тип данных в столбцах date и created_at"
   ]
  },
  {
   "cell_type": "code",
   "execution_count": 6,
   "id": "5fe29435",
   "metadata": {},
   "outputs": [],
   "source": [
    "messages['date'] = pd.to_datetime(messages['date'])\n",
    "messages['created_at'] = pd.to_datetime(messages['created_at'])"
   ]
  },
  {
   "cell_type": "code",
   "execution_count": 7,
   "id": "12ca1a34",
   "metadata": {
    "scrolled": true
   },
   "outputs": [
    {
     "data": {
      "text/html": [
       "<div>\n",
       "<style scoped>\n",
       "    .dataframe tbody tr th:only-of-type {\n",
       "        vertical-align: middle;\n",
       "    }\n",
       "\n",
       "    .dataframe tbody tr th {\n",
       "        vertical-align: top;\n",
       "    }\n",
       "\n",
       "    .dataframe thead th {\n",
       "        text-align: right;\n",
       "    }\n",
       "</style>\n",
       "<table border=\"1\" class=\"dataframe\">\n",
       "  <thead>\n",
       "    <tr style=\"text-align: right;\">\n",
       "      <th></th>\n",
       "      <th>client_id</th>\n",
       "      <th>target</th>\n",
       "    </tr>\n",
       "  </thead>\n",
       "  <tbody>\n",
       "    <tr>\n",
       "      <th>0</th>\n",
       "      <td>1515915625468060902</td>\n",
       "      <td>0</td>\n",
       "    </tr>\n",
       "    <tr>\n",
       "      <th>1</th>\n",
       "      <td>1515915625468061003</td>\n",
       "      <td>1</td>\n",
       "    </tr>\n",
       "    <tr>\n",
       "      <th>2</th>\n",
       "      <td>1515915625468061099</td>\n",
       "      <td>0</td>\n",
       "    </tr>\n",
       "    <tr>\n",
       "      <th>3</th>\n",
       "      <td>1515915625468061100</td>\n",
       "      <td>0</td>\n",
       "    </tr>\n",
       "    <tr>\n",
       "      <th>4</th>\n",
       "      <td>1515915625468061170</td>\n",
       "      <td>0</td>\n",
       "    </tr>\n",
       "  </tbody>\n",
       "</table>\n",
       "</div>"
      ],
      "text/plain": [
       "             client_id  target\n",
       "0  1515915625468060902       0\n",
       "1  1515915625468061003       1\n",
       "2  1515915625468061099       0\n",
       "3  1515915625468061100       0\n",
       "4  1515915625468061170       0"
      ]
     },
     "metadata": {},
     "output_type": "display_data"
    },
    {
     "name": "stdout",
     "output_type": "stream",
     "text": [
      "<class 'pandas.core.frame.DataFrame'>\n",
      "RangeIndex: 49849 entries, 0 to 49848\n",
      "Data columns (total 2 columns):\n",
      " #   Column     Non-Null Count  Dtype\n",
      "---  ------     --------------  -----\n",
      " 0   client_id  49849 non-null  int64\n",
      " 1   target     49849 non-null  int64\n",
      "dtypes: int64(2)\n",
      "memory usage: 779.0 KB\n"
     ]
    },
    {
     "data": {
      "text/plain": [
       "None"
      ]
     },
     "metadata": {},
     "output_type": "display_data"
    },
    {
     "data": {
      "text/plain": [
       "client_id    0\n",
       "target       0\n",
       "dtype: int64"
      ]
     },
     "metadata": {},
     "output_type": "display_data"
    }
   ],
   "source": [
    "target_binary = pd.read_csv('apparel-target_binary.csv')\n",
    "display(target_binary.head())\n",
    "display(target_binary.info())\n",
    "display(target_binary.isna().sum())"
   ]
  },
  {
   "cell_type": "markdown",
   "id": "175c0b92",
   "metadata": {},
   "source": [
    "Пропусков нет, типы данных корректные."
   ]
  },
  {
   "cell_type": "code",
   "execution_count": 8,
   "id": "d324fb07",
   "metadata": {},
   "outputs": [
    {
     "data": {
      "text/html": [
       "<div>\n",
       "<style scoped>\n",
       "    .dataframe tbody tr th:only-of-type {\n",
       "        vertical-align: middle;\n",
       "    }\n",
       "\n",
       "    .dataframe tbody tr th {\n",
       "        vertical-align: top;\n",
       "    }\n",
       "\n",
       "    .dataframe thead th {\n",
       "        text-align: right;\n",
       "    }\n",
       "</style>\n",
       "<table border=\"1\" class=\"dataframe\">\n",
       "  <thead>\n",
       "    <tr style=\"text-align: right;\">\n",
       "      <th></th>\n",
       "      <th>date</th>\n",
       "      <th>bulk_campaign_id</th>\n",
       "      <th>count_click</th>\n",
       "      <th>count_complain</th>\n",
       "      <th>count_hard_bounce</th>\n",
       "      <th>count_open</th>\n",
       "      <th>count_purchase</th>\n",
       "      <th>count_send</th>\n",
       "      <th>count_soft_bounce</th>\n",
       "      <th>count_subscribe</th>\n",
       "      <th>...</th>\n",
       "      <th>nunique_open</th>\n",
       "      <th>nunique_purchase</th>\n",
       "      <th>nunique_send</th>\n",
       "      <th>nunique_soft_bounce</th>\n",
       "      <th>nunique_subscribe</th>\n",
       "      <th>nunique_unsubscribe</th>\n",
       "      <th>count_hbq_spam</th>\n",
       "      <th>nunique_hbq_spam</th>\n",
       "      <th>count_close</th>\n",
       "      <th>nunique_close</th>\n",
       "    </tr>\n",
       "  </thead>\n",
       "  <tbody>\n",
       "    <tr>\n",
       "      <th>0</th>\n",
       "      <td>2022-05-19</td>\n",
       "      <td>563</td>\n",
       "      <td>0</td>\n",
       "      <td>0</td>\n",
       "      <td>0</td>\n",
       "      <td>4</td>\n",
       "      <td>0</td>\n",
       "      <td>0</td>\n",
       "      <td>0</td>\n",
       "      <td>0</td>\n",
       "      <td>...</td>\n",
       "      <td>4</td>\n",
       "      <td>0</td>\n",
       "      <td>0</td>\n",
       "      <td>0</td>\n",
       "      <td>0</td>\n",
       "      <td>0</td>\n",
       "      <td>0</td>\n",
       "      <td>0</td>\n",
       "      <td>0</td>\n",
       "      <td>0</td>\n",
       "    </tr>\n",
       "    <tr>\n",
       "      <th>1</th>\n",
       "      <td>2022-05-19</td>\n",
       "      <td>577</td>\n",
       "      <td>0</td>\n",
       "      <td>0</td>\n",
       "      <td>0</td>\n",
       "      <td>1</td>\n",
       "      <td>0</td>\n",
       "      <td>0</td>\n",
       "      <td>0</td>\n",
       "      <td>0</td>\n",
       "      <td>...</td>\n",
       "      <td>1</td>\n",
       "      <td>0</td>\n",
       "      <td>0</td>\n",
       "      <td>0</td>\n",
       "      <td>0</td>\n",
       "      <td>0</td>\n",
       "      <td>0</td>\n",
       "      <td>0</td>\n",
       "      <td>0</td>\n",
       "      <td>0</td>\n",
       "    </tr>\n",
       "    <tr>\n",
       "      <th>2</th>\n",
       "      <td>2022-05-19</td>\n",
       "      <td>622</td>\n",
       "      <td>0</td>\n",
       "      <td>0</td>\n",
       "      <td>0</td>\n",
       "      <td>2</td>\n",
       "      <td>0</td>\n",
       "      <td>0</td>\n",
       "      <td>0</td>\n",
       "      <td>0</td>\n",
       "      <td>...</td>\n",
       "      <td>2</td>\n",
       "      <td>0</td>\n",
       "      <td>0</td>\n",
       "      <td>0</td>\n",
       "      <td>0</td>\n",
       "      <td>0</td>\n",
       "      <td>0</td>\n",
       "      <td>0</td>\n",
       "      <td>0</td>\n",
       "      <td>0</td>\n",
       "    </tr>\n",
       "    <tr>\n",
       "      <th>3</th>\n",
       "      <td>2022-05-19</td>\n",
       "      <td>634</td>\n",
       "      <td>0</td>\n",
       "      <td>0</td>\n",
       "      <td>0</td>\n",
       "      <td>1</td>\n",
       "      <td>0</td>\n",
       "      <td>0</td>\n",
       "      <td>0</td>\n",
       "      <td>0</td>\n",
       "      <td>...</td>\n",
       "      <td>1</td>\n",
       "      <td>0</td>\n",
       "      <td>0</td>\n",
       "      <td>0</td>\n",
       "      <td>0</td>\n",
       "      <td>0</td>\n",
       "      <td>0</td>\n",
       "      <td>0</td>\n",
       "      <td>0</td>\n",
       "      <td>0</td>\n",
       "    </tr>\n",
       "    <tr>\n",
       "      <th>4</th>\n",
       "      <td>2022-05-19</td>\n",
       "      <td>676</td>\n",
       "      <td>0</td>\n",
       "      <td>0</td>\n",
       "      <td>0</td>\n",
       "      <td>1</td>\n",
       "      <td>0</td>\n",
       "      <td>0</td>\n",
       "      <td>0</td>\n",
       "      <td>0</td>\n",
       "      <td>...</td>\n",
       "      <td>1</td>\n",
       "      <td>0</td>\n",
       "      <td>0</td>\n",
       "      <td>0</td>\n",
       "      <td>0</td>\n",
       "      <td>0</td>\n",
       "      <td>0</td>\n",
       "      <td>0</td>\n",
       "      <td>0</td>\n",
       "      <td>0</td>\n",
       "    </tr>\n",
       "  </tbody>\n",
       "</table>\n",
       "<p>5 rows × 24 columns</p>\n",
       "</div>"
      ],
      "text/plain": [
       "         date  bulk_campaign_id  count_click  count_complain  \\\n",
       "0  2022-05-19               563            0               0   \n",
       "1  2022-05-19               577            0               0   \n",
       "2  2022-05-19               622            0               0   \n",
       "3  2022-05-19               634            0               0   \n",
       "4  2022-05-19               676            0               0   \n",
       "\n",
       "   count_hard_bounce  count_open  count_purchase  count_send  \\\n",
       "0                  0           4               0           0   \n",
       "1                  0           1               0           0   \n",
       "2                  0           2               0           0   \n",
       "3                  0           1               0           0   \n",
       "4                  0           1               0           0   \n",
       "\n",
       "   count_soft_bounce  count_subscribe  ...  nunique_open  nunique_purchase  \\\n",
       "0                  0                0  ...             4                 0   \n",
       "1                  0                0  ...             1                 0   \n",
       "2                  0                0  ...             2                 0   \n",
       "3                  0                0  ...             1                 0   \n",
       "4                  0                0  ...             1                 0   \n",
       "\n",
       "   nunique_send  nunique_soft_bounce  nunique_subscribe  nunique_unsubscribe  \\\n",
       "0             0                    0                  0                    0   \n",
       "1             0                    0                  0                    0   \n",
       "2             0                    0                  0                    0   \n",
       "3             0                    0                  0                    0   \n",
       "4             0                    0                  0                    0   \n",
       "\n",
       "   count_hbq_spam  nunique_hbq_spam  count_close  nunique_close  \n",
       "0               0                 0            0              0  \n",
       "1               0                 0            0              0  \n",
       "2               0                 0            0              0  \n",
       "3               0                 0            0              0  \n",
       "4               0                 0            0              0  \n",
       "\n",
       "[5 rows x 24 columns]"
      ]
     },
     "metadata": {},
     "output_type": "display_data"
    },
    {
     "name": "stdout",
     "output_type": "stream",
     "text": [
      "<class 'pandas.core.frame.DataFrame'>\n",
      "RangeIndex: 131072 entries, 0 to 131071\n",
      "Data columns (total 24 columns):\n",
      " #   Column               Non-Null Count   Dtype \n",
      "---  ------               --------------   ----- \n",
      " 0   date                 131072 non-null  object\n",
      " 1   bulk_campaign_id     131072 non-null  int64 \n",
      " 2   count_click          131072 non-null  int64 \n",
      " 3   count_complain       131072 non-null  int64 \n",
      " 4   count_hard_bounce    131072 non-null  int64 \n",
      " 5   count_open           131072 non-null  int64 \n",
      " 6   count_purchase       131072 non-null  int64 \n",
      " 7   count_send           131072 non-null  int64 \n",
      " 8   count_soft_bounce    131072 non-null  int64 \n",
      " 9   count_subscribe      131072 non-null  int64 \n",
      " 10  count_unsubscribe    131072 non-null  int64 \n",
      " 11  nunique_click        131072 non-null  int64 \n",
      " 12  nunique_complain     131072 non-null  int64 \n",
      " 13  nunique_hard_bounce  131072 non-null  int64 \n",
      " 14  nunique_open         131072 non-null  int64 \n",
      " 15  nunique_purchase     131072 non-null  int64 \n",
      " 16  nunique_send         131072 non-null  int64 \n",
      " 17  nunique_soft_bounce  131072 non-null  int64 \n",
      " 18  nunique_subscribe    131072 non-null  int64 \n",
      " 19  nunique_unsubscribe  131072 non-null  int64 \n",
      " 20  count_hbq_spam       131072 non-null  int64 \n",
      " 21  nunique_hbq_spam     131072 non-null  int64 \n",
      " 22  count_close          131072 non-null  int64 \n",
      " 23  nunique_close        131072 non-null  int64 \n",
      "dtypes: int64(23), object(1)\n",
      "memory usage: 24.0+ MB\n"
     ]
    },
    {
     "data": {
      "text/plain": [
       "None"
      ]
     },
     "metadata": {},
     "output_type": "display_data"
    },
    {
     "data": {
      "text/plain": [
       "date                   0\n",
       "bulk_campaign_id       0\n",
       "count_click            0\n",
       "count_complain         0\n",
       "count_hard_bounce      0\n",
       "count_open             0\n",
       "count_purchase         0\n",
       "count_send             0\n",
       "count_soft_bounce      0\n",
       "count_subscribe        0\n",
       "count_unsubscribe      0\n",
       "nunique_click          0\n",
       "nunique_complain       0\n",
       "nunique_hard_bounce    0\n",
       "nunique_open           0\n",
       "nunique_purchase       0\n",
       "nunique_send           0\n",
       "nunique_soft_bounce    0\n",
       "nunique_subscribe      0\n",
       "nunique_unsubscribe    0\n",
       "count_hbq_spam         0\n",
       "nunique_hbq_spam       0\n",
       "count_close            0\n",
       "nunique_close          0\n",
       "dtype: int64"
      ]
     },
     "metadata": {},
     "output_type": "display_data"
    }
   ],
   "source": [
    "full_campaign_daily_event = pd.read_csv('full_campaign_daily_event.csv')\n",
    "display(full_campaign_daily_event.head())\n",
    "display(full_campaign_daily_event.info())\n",
    "display(full_campaign_daily_event.isna().sum())"
   ]
  },
  {
   "cell_type": "markdown",
   "id": "20cce7d2",
   "metadata": {},
   "source": [
    "Пропусков в данных нет, необходимо изменить тип данных в столбце date"
   ]
  },
  {
   "cell_type": "code",
   "execution_count": 9,
   "id": "41c0fc9e",
   "metadata": {},
   "outputs": [],
   "source": [
    "full_campaign_daily_event['date'] = pd.to_datetime(full_campaign_daily_event['date'])"
   ]
  },
  {
   "cell_type": "code",
   "execution_count": 10,
   "id": "d105efed",
   "metadata": {},
   "outputs": [
    {
     "data": {
      "text/html": [
       "<div>\n",
       "<style scoped>\n",
       "    .dataframe tbody tr th:only-of-type {\n",
       "        vertical-align: middle;\n",
       "    }\n",
       "\n",
       "    .dataframe tbody tr th {\n",
       "        vertical-align: top;\n",
       "    }\n",
       "\n",
       "    .dataframe thead th {\n",
       "        text-align: right;\n",
       "    }\n",
       "</style>\n",
       "<table border=\"1\" class=\"dataframe\">\n",
       "  <thead>\n",
       "    <tr style=\"text-align: right;\">\n",
       "      <th></th>\n",
       "      <th>date</th>\n",
       "      <th>bulk_campaign_id</th>\n",
       "      <th>count_click_email</th>\n",
       "      <th>count_click_mobile_push</th>\n",
       "      <th>count_open_email</th>\n",
       "      <th>count_open_mobile_push</th>\n",
       "      <th>count_purchase_email</th>\n",
       "      <th>count_purchase_mobile_push</th>\n",
       "      <th>count_soft_bounce_email</th>\n",
       "      <th>count_subscribe_email</th>\n",
       "      <th>...</th>\n",
       "      <th>count_send_email</th>\n",
       "      <th>nunique_hard_bounce_email</th>\n",
       "      <th>nunique_hbq_spam_email</th>\n",
       "      <th>nunique_send_email</th>\n",
       "      <th>count_soft_bounce_mobile_push</th>\n",
       "      <th>nunique_soft_bounce_mobile_push</th>\n",
       "      <th>count_complain_email</th>\n",
       "      <th>nunique_complain_email</th>\n",
       "      <th>count_close_mobile_push</th>\n",
       "      <th>nunique_close_mobile_push</th>\n",
       "    </tr>\n",
       "  </thead>\n",
       "  <tbody>\n",
       "    <tr>\n",
       "      <th>0</th>\n",
       "      <td>2022-05-19</td>\n",
       "      <td>563</td>\n",
       "      <td>0</td>\n",
       "      <td>0</td>\n",
       "      <td>4</td>\n",
       "      <td>0</td>\n",
       "      <td>0</td>\n",
       "      <td>0</td>\n",
       "      <td>0</td>\n",
       "      <td>0</td>\n",
       "      <td>...</td>\n",
       "      <td>0</td>\n",
       "      <td>0</td>\n",
       "      <td>0</td>\n",
       "      <td>0</td>\n",
       "      <td>0</td>\n",
       "      <td>0</td>\n",
       "      <td>0</td>\n",
       "      <td>0</td>\n",
       "      <td>0</td>\n",
       "      <td>0</td>\n",
       "    </tr>\n",
       "    <tr>\n",
       "      <th>1</th>\n",
       "      <td>2022-05-19</td>\n",
       "      <td>577</td>\n",
       "      <td>0</td>\n",
       "      <td>0</td>\n",
       "      <td>1</td>\n",
       "      <td>0</td>\n",
       "      <td>0</td>\n",
       "      <td>0</td>\n",
       "      <td>0</td>\n",
       "      <td>0</td>\n",
       "      <td>...</td>\n",
       "      <td>0</td>\n",
       "      <td>0</td>\n",
       "      <td>0</td>\n",
       "      <td>0</td>\n",
       "      <td>0</td>\n",
       "      <td>0</td>\n",
       "      <td>0</td>\n",
       "      <td>0</td>\n",
       "      <td>0</td>\n",
       "      <td>0</td>\n",
       "    </tr>\n",
       "    <tr>\n",
       "      <th>2</th>\n",
       "      <td>2022-05-19</td>\n",
       "      <td>622</td>\n",
       "      <td>0</td>\n",
       "      <td>0</td>\n",
       "      <td>2</td>\n",
       "      <td>0</td>\n",
       "      <td>0</td>\n",
       "      <td>0</td>\n",
       "      <td>0</td>\n",
       "      <td>0</td>\n",
       "      <td>...</td>\n",
       "      <td>0</td>\n",
       "      <td>0</td>\n",
       "      <td>0</td>\n",
       "      <td>0</td>\n",
       "      <td>0</td>\n",
       "      <td>0</td>\n",
       "      <td>0</td>\n",
       "      <td>0</td>\n",
       "      <td>0</td>\n",
       "      <td>0</td>\n",
       "    </tr>\n",
       "    <tr>\n",
       "      <th>3</th>\n",
       "      <td>2022-05-19</td>\n",
       "      <td>634</td>\n",
       "      <td>0</td>\n",
       "      <td>0</td>\n",
       "      <td>1</td>\n",
       "      <td>0</td>\n",
       "      <td>0</td>\n",
       "      <td>0</td>\n",
       "      <td>0</td>\n",
       "      <td>0</td>\n",
       "      <td>...</td>\n",
       "      <td>0</td>\n",
       "      <td>0</td>\n",
       "      <td>0</td>\n",
       "      <td>0</td>\n",
       "      <td>0</td>\n",
       "      <td>0</td>\n",
       "      <td>0</td>\n",
       "      <td>0</td>\n",
       "      <td>0</td>\n",
       "      <td>0</td>\n",
       "    </tr>\n",
       "    <tr>\n",
       "      <th>4</th>\n",
       "      <td>2022-05-19</td>\n",
       "      <td>676</td>\n",
       "      <td>0</td>\n",
       "      <td>0</td>\n",
       "      <td>1</td>\n",
       "      <td>0</td>\n",
       "      <td>0</td>\n",
       "      <td>0</td>\n",
       "      <td>0</td>\n",
       "      <td>0</td>\n",
       "      <td>...</td>\n",
       "      <td>0</td>\n",
       "      <td>0</td>\n",
       "      <td>0</td>\n",
       "      <td>0</td>\n",
       "      <td>0</td>\n",
       "      <td>0</td>\n",
       "      <td>0</td>\n",
       "      <td>0</td>\n",
       "      <td>0</td>\n",
       "      <td>0</td>\n",
       "    </tr>\n",
       "  </tbody>\n",
       "</table>\n",
       "<p>5 rows × 36 columns</p>\n",
       "</div>"
      ],
      "text/plain": [
       "         date  bulk_campaign_id  count_click_email  count_click_mobile_push  \\\n",
       "0  2022-05-19               563                  0                        0   \n",
       "1  2022-05-19               577                  0                        0   \n",
       "2  2022-05-19               622                  0                        0   \n",
       "3  2022-05-19               634                  0                        0   \n",
       "4  2022-05-19               676                  0                        0   \n",
       "\n",
       "   count_open_email  count_open_mobile_push  count_purchase_email  \\\n",
       "0                 4                       0                     0   \n",
       "1                 1                       0                     0   \n",
       "2                 2                       0                     0   \n",
       "3                 1                       0                     0   \n",
       "4                 1                       0                     0   \n",
       "\n",
       "   count_purchase_mobile_push  count_soft_bounce_email  count_subscribe_email  \\\n",
       "0                           0                        0                      0   \n",
       "1                           0                        0                      0   \n",
       "2                           0                        0                      0   \n",
       "3                           0                        0                      0   \n",
       "4                           0                        0                      0   \n",
       "\n",
       "   ...  count_send_email  nunique_hard_bounce_email  nunique_hbq_spam_email  \\\n",
       "0  ...                 0                          0                       0   \n",
       "1  ...                 0                          0                       0   \n",
       "2  ...                 0                          0                       0   \n",
       "3  ...                 0                          0                       0   \n",
       "4  ...                 0                          0                       0   \n",
       "\n",
       "   nunique_send_email  count_soft_bounce_mobile_push  \\\n",
       "0                   0                              0   \n",
       "1                   0                              0   \n",
       "2                   0                              0   \n",
       "3                   0                              0   \n",
       "4                   0                              0   \n",
       "\n",
       "   nunique_soft_bounce_mobile_push  count_complain_email  \\\n",
       "0                                0                     0   \n",
       "1                                0                     0   \n",
       "2                                0                     0   \n",
       "3                                0                     0   \n",
       "4                                0                     0   \n",
       "\n",
       "   nunique_complain_email  count_close_mobile_push  nunique_close_mobile_push  \n",
       "0                       0                        0                          0  \n",
       "1                       0                        0                          0  \n",
       "2                       0                        0                          0  \n",
       "3                       0                        0                          0  \n",
       "4                       0                        0                          0  \n",
       "\n",
       "[5 rows x 36 columns]"
      ]
     },
     "metadata": {},
     "output_type": "display_data"
    },
    {
     "name": "stdout",
     "output_type": "stream",
     "text": [
      "<class 'pandas.core.frame.DataFrame'>\n",
      "RangeIndex: 131072 entries, 0 to 131071\n",
      "Data columns (total 36 columns):\n",
      " #   Column                           Non-Null Count   Dtype \n",
      "---  ------                           --------------   ----- \n",
      " 0   date                             131072 non-null  object\n",
      " 1   bulk_campaign_id                 131072 non-null  int64 \n",
      " 2   count_click_email                131072 non-null  int64 \n",
      " 3   count_click_mobile_push          131072 non-null  int64 \n",
      " 4   count_open_email                 131072 non-null  int64 \n",
      " 5   count_open_mobile_push           131072 non-null  int64 \n",
      " 6   count_purchase_email             131072 non-null  int64 \n",
      " 7   count_purchase_mobile_push       131072 non-null  int64 \n",
      " 8   count_soft_bounce_email          131072 non-null  int64 \n",
      " 9   count_subscribe_email            131072 non-null  int64 \n",
      " 10  count_unsubscribe_email          131072 non-null  int64 \n",
      " 11  nunique_click_email              131072 non-null  int64 \n",
      " 12  nunique_click_mobile_push        131072 non-null  int64 \n",
      " 13  nunique_open_email               131072 non-null  int64 \n",
      " 14  nunique_open_mobile_push         131072 non-null  int64 \n",
      " 15  nunique_purchase_email           131072 non-null  int64 \n",
      " 16  nunique_purchase_mobile_push     131072 non-null  int64 \n",
      " 17  nunique_soft_bounce_email        131072 non-null  int64 \n",
      " 18  nunique_subscribe_email          131072 non-null  int64 \n",
      " 19  nunique_unsubscribe_email        131072 non-null  int64 \n",
      " 20  count_hard_bounce_mobile_push    131072 non-null  int64 \n",
      " 21  count_send_mobile_push           131072 non-null  int64 \n",
      " 22  nunique_hard_bounce_mobile_push  131072 non-null  int64 \n",
      " 23  nunique_send_mobile_push         131072 non-null  int64 \n",
      " 24  count_hard_bounce_email          131072 non-null  int64 \n",
      " 25  count_hbq_spam_email             131072 non-null  int64 \n",
      " 26  count_send_email                 131072 non-null  int64 \n",
      " 27  nunique_hard_bounce_email        131072 non-null  int64 \n",
      " 28  nunique_hbq_spam_email           131072 non-null  int64 \n",
      " 29  nunique_send_email               131072 non-null  int64 \n",
      " 30  count_soft_bounce_mobile_push    131072 non-null  int64 \n",
      " 31  nunique_soft_bounce_mobile_push  131072 non-null  int64 \n",
      " 32  count_complain_email             131072 non-null  int64 \n",
      " 33  nunique_complain_email           131072 non-null  int64 \n",
      " 34  count_close_mobile_push          131072 non-null  int64 \n",
      " 35  nunique_close_mobile_push        131072 non-null  int64 \n",
      "dtypes: int64(35), object(1)\n",
      "memory usage: 36.0+ MB\n"
     ]
    },
    {
     "data": {
      "text/plain": [
       "None"
      ]
     },
     "metadata": {},
     "output_type": "display_data"
    },
    {
     "data": {
      "text/plain": [
       "date                               0\n",
       "bulk_campaign_id                   0\n",
       "count_click_email                  0\n",
       "count_click_mobile_push            0\n",
       "count_open_email                   0\n",
       "count_open_mobile_push             0\n",
       "count_purchase_email               0\n",
       "count_purchase_mobile_push         0\n",
       "count_soft_bounce_email            0\n",
       "count_subscribe_email              0\n",
       "count_unsubscribe_email            0\n",
       "nunique_click_email                0\n",
       "nunique_click_mobile_push          0\n",
       "nunique_open_email                 0\n",
       "nunique_open_mobile_push           0\n",
       "nunique_purchase_email             0\n",
       "nunique_purchase_mobile_push       0\n",
       "nunique_soft_bounce_email          0\n",
       "nunique_subscribe_email            0\n",
       "nunique_unsubscribe_email          0\n",
       "count_hard_bounce_mobile_push      0\n",
       "count_send_mobile_push             0\n",
       "nunique_hard_bounce_mobile_push    0\n",
       "nunique_send_mobile_push           0\n",
       "count_hard_bounce_email            0\n",
       "count_hbq_spam_email               0\n",
       "count_send_email                   0\n",
       "nunique_hard_bounce_email          0\n",
       "nunique_hbq_spam_email             0\n",
       "nunique_send_email                 0\n",
       "count_soft_bounce_mobile_push      0\n",
       "nunique_soft_bounce_mobile_push    0\n",
       "count_complain_email               0\n",
       "nunique_complain_email             0\n",
       "count_close_mobile_push            0\n",
       "nunique_close_mobile_push          0\n",
       "dtype: int64"
      ]
     },
     "metadata": {},
     "output_type": "display_data"
    }
   ],
   "source": [
    "full_campaign_daily_event_channel = pd.read_csv('full_campaign_daily_event_channel.csv')\n",
    "display(full_campaign_daily_event_channel.head())\n",
    "display(full_campaign_daily_event_channel.info())\n",
    "display(full_campaign_daily_event_channel.isna().sum())"
   ]
  },
  {
   "cell_type": "markdown",
   "id": "46aaa5e6",
   "metadata": {},
   "source": [
    "Пропусков в данных нет, необходимо изменить тип данных в столбце date"
   ]
  },
  {
   "cell_type": "code",
   "execution_count": 11,
   "id": "f34977fb",
   "metadata": {},
   "outputs": [],
   "source": [
    "full_campaign_daily_event_channel['date'] = pd.to_datetime(full_campaign_daily_event_channel['date'])"
   ]
  },
  {
   "cell_type": "markdown",
   "id": "4abeaf26",
   "metadata": {},
   "source": [
    "Проверим наличие явных дубликатов в датасетах"
   ]
  },
  {
   "cell_type": "code",
   "execution_count": 12,
   "id": "ceef53a4",
   "metadata": {},
   "outputs": [
    {
     "data": {
      "text/plain": [
       "73020"
      ]
     },
     "execution_count": 12,
     "metadata": {},
     "output_type": "execute_result"
    }
   ],
   "source": [
    "purchases.duplicated().sum()"
   ]
  },
  {
   "cell_type": "code",
   "execution_count": 13,
   "id": "983327bf",
   "metadata": {},
   "outputs": [
    {
     "data": {
      "text/plain": [
       "48610"
      ]
     },
     "execution_count": 13,
     "metadata": {},
     "output_type": "execute_result"
    }
   ],
   "source": [
    "messages.duplicated().sum()"
   ]
  },
  {
   "cell_type": "code",
   "execution_count": 14,
   "id": "8739458e",
   "metadata": {},
   "outputs": [
    {
     "data": {
      "text/plain": [
       "0"
      ]
     },
     "execution_count": 14,
     "metadata": {},
     "output_type": "execute_result"
    }
   ],
   "source": [
    "target_binary.duplicated().sum()"
   ]
  },
  {
   "cell_type": "code",
   "execution_count": 15,
   "id": "1470a292",
   "metadata": {},
   "outputs": [
    {
     "data": {
      "text/plain": [
       "0"
      ]
     },
     "execution_count": 15,
     "metadata": {},
     "output_type": "execute_result"
    }
   ],
   "source": [
    "full_campaign_daily_event.duplicated().sum()"
   ]
  },
  {
   "cell_type": "code",
   "execution_count": 16,
   "id": "e821ba0a",
   "metadata": {},
   "outputs": [
    {
     "data": {
      "text/plain": [
       "0"
      ]
     },
     "execution_count": 16,
     "metadata": {},
     "output_type": "execute_result"
    }
   ],
   "source": [
    "full_campaign_daily_event_channel.duplicated().sum()"
   ]
  },
  {
   "cell_type": "markdown",
   "id": "8c120c65",
   "metadata": {},
   "source": [
    "Видим наличие дубликатов в первых двух датасетах. Перед объединением датасета для дальнейшего анализа - удалим дубликаты (не смотря на их количество)"
   ]
  },
  {
   "cell_type": "code",
   "execution_count": 17,
   "id": "99ddd4fc",
   "metadata": {},
   "outputs": [],
   "source": [
    "purchases = purchases.drop_duplicates()"
   ]
  },
  {
   "cell_type": "code",
   "execution_count": 18,
   "id": "6d238bb7",
   "metadata": {},
   "outputs": [],
   "source": [
    "messages = messages.drop_duplicates()"
   ]
  },
  {
   "cell_type": "markdown",
   "id": "367b6099",
   "metadata": {},
   "source": [
    "Дубликаты удалили - приступим к дальнейшему преобразованию датасетов и поиску неявных дубликатов. "
   ]
  },
  {
   "cell_type": "markdown",
   "id": "832d6922",
   "metadata": {},
   "source": [
    "Для начала узнаем сколько максиимально категорий содержится в каждом списке в столбце category_ids"
   ]
  },
  {
   "cell_type": "code",
   "execution_count": 19,
   "id": "f30d84ac",
   "metadata": {},
   "outputs": [
    {
     "name": "stdout",
     "output_type": "stream",
     "text": [
      "Максимальное количество категорий в списке: 5\n"
     ]
    }
   ],
   "source": [
    "# Преобразуем строковые значения списков в объекты списка и находим максимальную длину\n",
    "max_categories = purchases['category_ids'].apply(lambda x: len(eval(x)) if isinstance(x, str) else len(x)).max()\n",
    "\n",
    "print(\"Максимальное количество категорий в списке:\", max_categories)"
   ]
  },
  {
   "cell_type": "markdown",
   "id": "68fe587d",
   "metadata": {},
   "source": [
    "разобьем значения столбца 'category_ids' на 5 столбцов , для дальнейшего анализа"
   ]
  },
  {
   "cell_type": "code",
   "execution_count": 20,
   "id": "ecde9c12",
   "metadata": {
    "scrolled": true
   },
   "outputs": [],
   "source": [
    "purchases[['category_id_1', 'category_id_2', 'category_id_3', 'category_id_4', 'category_id_5']] = (\n",
    "    purchases['category_ids']\n",
    "    .apply(lambda x: eval(x) if isinstance(x, str) else x)  # Преобразуем строку в список, если это строка\n",
    "    .apply(lambda x: x[:5] + [0] * (5 - len(x)) if len(x) < 5 else x[:5])  # Ограничиваем список до 5 элементов\n",
    "    .apply(pd.Series)  # Разделяем список на отдельные столбцы\n",
    ")\n"
   ]
  },
  {
   "cell_type": "code",
   "execution_count": 21,
   "id": "d29ba4e9",
   "metadata": {
    "scrolled": true
   },
   "outputs": [
    {
     "data": {
      "text/html": [
       "<div>\n",
       "<style scoped>\n",
       "    .dataframe tbody tr th:only-of-type {\n",
       "        vertical-align: middle;\n",
       "    }\n",
       "\n",
       "    .dataframe tbody tr th {\n",
       "        vertical-align: top;\n",
       "    }\n",
       "\n",
       "    .dataframe thead th {\n",
       "        text-align: right;\n",
       "    }\n",
       "</style>\n",
       "<table border=\"1\" class=\"dataframe\">\n",
       "  <thead>\n",
       "    <tr style=\"text-align: right;\">\n",
       "      <th></th>\n",
       "      <th>category_id_1</th>\n",
       "      <th>category_id_2</th>\n",
       "      <th>category_id_3</th>\n",
       "      <th>category_id_4</th>\n",
       "      <th>category_id_5</th>\n",
       "    </tr>\n",
       "  </thead>\n",
       "  <tbody>\n",
       "    <tr>\n",
       "      <th>0</th>\n",
       "      <td>4</td>\n",
       "      <td>28</td>\n",
       "      <td>57</td>\n",
       "      <td>431</td>\n",
       "      <td>0</td>\n",
       "    </tr>\n",
       "    <tr>\n",
       "      <th>1</th>\n",
       "      <td>4</td>\n",
       "      <td>28</td>\n",
       "      <td>57</td>\n",
       "      <td>431</td>\n",
       "      <td>0</td>\n",
       "    </tr>\n",
       "    <tr>\n",
       "      <th>2</th>\n",
       "      <td>4</td>\n",
       "      <td>28</td>\n",
       "      <td>57</td>\n",
       "      <td>431</td>\n",
       "      <td>0</td>\n",
       "    </tr>\n",
       "    <tr>\n",
       "      <th>3</th>\n",
       "      <td>4</td>\n",
       "      <td>28</td>\n",
       "      <td>244</td>\n",
       "      <td>432</td>\n",
       "      <td>0</td>\n",
       "    </tr>\n",
       "    <tr>\n",
       "      <th>4</th>\n",
       "      <td>4</td>\n",
       "      <td>28</td>\n",
       "      <td>49</td>\n",
       "      <td>413</td>\n",
       "      <td>0</td>\n",
       "    </tr>\n",
       "  </tbody>\n",
       "</table>\n",
       "</div>"
      ],
      "text/plain": [
       "  category_id_1 category_id_2 category_id_3 category_id_4 category_id_5\n",
       "0             4            28            57           431             0\n",
       "1             4            28            57           431             0\n",
       "2             4            28            57           431             0\n",
       "3             4            28           244           432             0\n",
       "4             4            28            49           413             0"
      ]
     },
     "execution_count": 21,
     "metadata": {},
     "output_type": "execute_result"
    }
   ],
   "source": [
    "purchases[['category_id_1', 'category_id_2', 'category_id_3', 'category_id_4', 'category_id_5']].head()"
   ]
  },
  {
   "cell_type": "markdown",
   "id": "84e01afa",
   "metadata": {},
   "source": [
    "Посомтрим сколько пропусков в стобце category_id_5"
   ]
  },
  {
   "cell_type": "code",
   "execution_count": 22,
   "id": "f099e951",
   "metadata": {},
   "outputs": [
    {
     "name": "stdout",
     "output_type": "stream",
     "text": [
      "Количество значений '0' в столбце category_id_5: 128843\n"
     ]
    }
   ],
   "source": [
    "zero_values = (purchases['category_id_5'] == 0).sum()\n",
    "print(\"Количество значений '0' в столбце category_id_5:\", zero_values)"
   ]
  },
  {
   "cell_type": "markdown",
   "id": "9c24e2e7",
   "metadata": {},
   "source": [
    "Проверим есть ли в созданных столбцах пропуски:"
   ]
  },
  {
   "cell_type": "code",
   "execution_count": 23,
   "id": "742b2a48",
   "metadata": {},
   "outputs": [
    {
     "data": {
      "text/plain": [
       "category_id_1    622\n",
       "category_id_2      0\n",
       "category_id_3      0\n",
       "category_id_4      0\n",
       "category_id_5      0\n",
       "dtype: int64"
      ]
     },
     "execution_count": 23,
     "metadata": {},
     "output_type": "execute_result"
    }
   ],
   "source": [
    "purchases[['category_id_1', 'category_id_2', 'category_id_3', 'category_id_4', 'category_id_5']].isna().sum()"
   ]
  },
  {
   "cell_type": "markdown",
   "id": "0a8788c6",
   "metadata": {},
   "source": [
    "Заменим выявленные пропуски в столбце category_id_1  на 0"
   ]
  },
  {
   "cell_type": "code",
   "execution_count": 24,
   "id": "e07b404a",
   "metadata": {},
   "outputs": [],
   "source": [
    "purchases['category_id_1'] = purchases['category_id_1'].fillna('0')"
   ]
  },
  {
   "cell_type": "markdown",
   "id": "92d89a3d",
   "metadata": {},
   "source": [
    "Посомтрим информацию по датасету"
   ]
  },
  {
   "cell_type": "code",
   "execution_count": 25,
   "id": "0241380a",
   "metadata": {},
   "outputs": [
    {
     "name": "stdout",
     "output_type": "stream",
     "text": [
      "<class 'pandas.core.frame.DataFrame'>\n",
      "Int64Index: 129188 entries, 0 to 202207\n",
      "Data columns (total 11 columns):\n",
      " #   Column         Non-Null Count   Dtype         \n",
      "---  ------         --------------   -----         \n",
      " 0   client_id      129188 non-null  int64         \n",
      " 1   quantity       129188 non-null  int64         \n",
      " 2   price          129188 non-null  float64       \n",
      " 3   category_ids   129188 non-null  object        \n",
      " 4   date           129188 non-null  datetime64[ns]\n",
      " 5   message_id     129188 non-null  object        \n",
      " 6   category_id_1  129188 non-null  object        \n",
      " 7   category_id_2  129188 non-null  object        \n",
      " 8   category_id_3  129188 non-null  object        \n",
      " 9   category_id_4  129188 non-null  object        \n",
      " 10  category_id_5  129188 non-null  object        \n",
      "dtypes: datetime64[ns](1), float64(1), int64(2), object(7)\n",
      "memory usage: 11.8+ MB\n"
     ]
    }
   ],
   "source": [
    "purchases.info()"
   ]
  },
  {
   "cell_type": "markdown",
   "id": "98de222c",
   "metadata": {},
   "source": [
    "Переведем значения созданных столбцов из типа object в тип int64"
   ]
  },
  {
   "cell_type": "code",
   "execution_count": 26,
   "id": "2da389ef",
   "metadata": {},
   "outputs": [],
   "source": [
    "purchases[['category_id_1', 'category_id_2', 'category_id_3', 'category_id_4', 'category_id_5']] = purchases[['category_id_1', 'category_id_2', 'category_id_3', 'category_id_4', 'category_id_5']].astype('int')"
   ]
  },
  {
   "cell_type": "markdown",
   "id": "b080096f",
   "metadata": {},
   "source": [
    "Посмотрим на распределение значений датасетов"
   ]
  },
  {
   "cell_type": "code",
   "execution_count": 27,
   "id": "94e96591",
   "metadata": {},
   "outputs": [
    {
     "data": {
      "text/html": [
       "<div>\n",
       "<style scoped>\n",
       "    .dataframe tbody tr th:only-of-type {\n",
       "        vertical-align: middle;\n",
       "    }\n",
       "\n",
       "    .dataframe tbody tr th {\n",
       "        vertical-align: top;\n",
       "    }\n",
       "\n",
       "    .dataframe thead th {\n",
       "        text-align: right;\n",
       "    }\n",
       "</style>\n",
       "<table border=\"1\" class=\"dataframe\">\n",
       "  <thead>\n",
       "    <tr style=\"text-align: right;\">\n",
       "      <th></th>\n",
       "      <th>client_id</th>\n",
       "      <th>quantity</th>\n",
       "      <th>price</th>\n",
       "      <th>category_id_1</th>\n",
       "      <th>category_id_2</th>\n",
       "      <th>category_id_3</th>\n",
       "      <th>category_id_4</th>\n",
       "      <th>category_id_5</th>\n",
       "    </tr>\n",
       "  </thead>\n",
       "  <tbody>\n",
       "    <tr>\n",
       "      <th>count</th>\n",
       "      <td>1.291880e+05</td>\n",
       "      <td>129188.000000</td>\n",
       "      <td>129188.000000</td>\n",
       "      <td>129188.000000</td>\n",
       "      <td>129188.000000</td>\n",
       "      <td>129188.000000</td>\n",
       "      <td>129188.000000</td>\n",
       "      <td>129188.000000</td>\n",
       "    </tr>\n",
       "    <tr>\n",
       "      <th>mean</th>\n",
       "      <td>1.515916e+18</td>\n",
       "      <td>1.009420</td>\n",
       "      <td>1264.532766</td>\n",
       "      <td>1503.012594</td>\n",
       "      <td>1590.442727</td>\n",
       "      <td>1737.924993</td>\n",
       "      <td>875.127427</td>\n",
       "      <td>1.247136</td>\n",
       "    </tr>\n",
       "    <tr>\n",
       "      <th>std</th>\n",
       "      <td>1.452553e+08</td>\n",
       "      <td>0.220332</td>\n",
       "      <td>1375.016339</td>\n",
       "      <td>2491.047010</td>\n",
       "      <td>2505.832499</td>\n",
       "      <td>2446.268124</td>\n",
       "      <td>1041.499742</td>\n",
       "      <td>24.101071</td>\n",
       "    </tr>\n",
       "    <tr>\n",
       "      <th>min</th>\n",
       "      <td>1.515916e+18</td>\n",
       "      <td>1.000000</td>\n",
       "      <td>1.000000</td>\n",
       "      <td>0.000000</td>\n",
       "      <td>0.000000</td>\n",
       "      <td>0.000000</td>\n",
       "      <td>0.000000</td>\n",
       "      <td>0.000000</td>\n",
       "    </tr>\n",
       "    <tr>\n",
       "      <th>25%</th>\n",
       "      <td>1.515916e+18</td>\n",
       "      <td>1.000000</td>\n",
       "      <td>399.000000</td>\n",
       "      <td>4.000000</td>\n",
       "      <td>28.000000</td>\n",
       "      <td>171.000000</td>\n",
       "      <td>432.000000</td>\n",
       "      <td>0.000000</td>\n",
       "    </tr>\n",
       "    <tr>\n",
       "      <th>50%</th>\n",
       "      <td>1.515916e+18</td>\n",
       "      <td>1.000000</td>\n",
       "      <td>999.000000</td>\n",
       "      <td>4.000000</td>\n",
       "      <td>28.000000</td>\n",
       "      <td>274.000000</td>\n",
       "      <td>551.000000</td>\n",
       "      <td>0.000000</td>\n",
       "    </tr>\n",
       "    <tr>\n",
       "      <th>75%</th>\n",
       "      <td>1.515916e+18</td>\n",
       "      <td>1.000000</td>\n",
       "      <td>1750.000000</td>\n",
       "      <td>5562.000000</td>\n",
       "      <td>5536.000000</td>\n",
       "      <td>5549.000000</td>\n",
       "      <td>726.000000</td>\n",
       "      <td>0.000000</td>\n",
       "    </tr>\n",
       "    <tr>\n",
       "      <th>max</th>\n",
       "      <td>1.515916e+18</td>\n",
       "      <td>30.000000</td>\n",
       "      <td>85499.000000</td>\n",
       "      <td>6060.000000</td>\n",
       "      <td>6059.000000</td>\n",
       "      <td>6309.000000</td>\n",
       "      <td>6323.000000</td>\n",
       "      <td>467.000000</td>\n",
       "    </tr>\n",
       "  </tbody>\n",
       "</table>\n",
       "</div>"
      ],
      "text/plain": [
       "          client_id       quantity          price  category_id_1  \\\n",
       "count  1.291880e+05  129188.000000  129188.000000  129188.000000   \n",
       "mean   1.515916e+18       1.009420    1264.532766    1503.012594   \n",
       "std    1.452553e+08       0.220332    1375.016339    2491.047010   \n",
       "min    1.515916e+18       1.000000       1.000000       0.000000   \n",
       "25%    1.515916e+18       1.000000     399.000000       4.000000   \n",
       "50%    1.515916e+18       1.000000     999.000000       4.000000   \n",
       "75%    1.515916e+18       1.000000    1750.000000    5562.000000   \n",
       "max    1.515916e+18      30.000000   85499.000000    6060.000000   \n",
       "\n",
       "       category_id_2  category_id_3  category_id_4  category_id_5  \n",
       "count  129188.000000  129188.000000  129188.000000  129188.000000  \n",
       "mean     1590.442727    1737.924993     875.127427       1.247136  \n",
       "std      2505.832499    2446.268124    1041.499742      24.101071  \n",
       "min         0.000000       0.000000       0.000000       0.000000  \n",
       "25%        28.000000     171.000000     432.000000       0.000000  \n",
       "50%        28.000000     274.000000     551.000000       0.000000  \n",
       "75%      5536.000000    5549.000000     726.000000       0.000000  \n",
       "max      6059.000000    6309.000000    6323.000000     467.000000  "
      ]
     },
     "execution_count": 27,
     "metadata": {},
     "output_type": "execute_result"
    }
   ],
   "source": [
    "purchases.describe()"
   ]
  },
  {
   "cell_type": "code",
   "execution_count": 28,
   "id": "9990f58b",
   "metadata": {},
   "outputs": [
    {
     "data": {
      "text/html": [
       "<div>\n",
       "<style scoped>\n",
       "    .dataframe tbody tr th:only-of-type {\n",
       "        vertical-align: middle;\n",
       "    }\n",
       "\n",
       "    .dataframe tbody tr th {\n",
       "        vertical-align: top;\n",
       "    }\n",
       "\n",
       "    .dataframe thead th {\n",
       "        text-align: right;\n",
       "    }\n",
       "</style>\n",
       "<table border=\"1\" class=\"dataframe\">\n",
       "  <thead>\n",
       "    <tr style=\"text-align: right;\">\n",
       "      <th></th>\n",
       "      <th>bulk_campaign_id</th>\n",
       "      <th>client_id</th>\n",
       "    </tr>\n",
       "  </thead>\n",
       "  <tbody>\n",
       "    <tr>\n",
       "      <th>count</th>\n",
       "      <td>1.269119e+07</td>\n",
       "      <td>1.269119e+07</td>\n",
       "    </tr>\n",
       "    <tr>\n",
       "      <th>mean</th>\n",
       "      <td>1.159768e+04</td>\n",
       "      <td>1.515916e+18</td>\n",
       "    </tr>\n",
       "    <tr>\n",
       "      <th>std</th>\n",
       "      <td>3.262181e+03</td>\n",
       "      <td>1.329008e+08</td>\n",
       "    </tr>\n",
       "    <tr>\n",
       "      <th>min</th>\n",
       "      <td>5.480000e+02</td>\n",
       "      <td>1.515916e+18</td>\n",
       "    </tr>\n",
       "    <tr>\n",
       "      <th>25%</th>\n",
       "      <td>8.746000e+03</td>\n",
       "      <td>1.515916e+18</td>\n",
       "    </tr>\n",
       "    <tr>\n",
       "      <th>50%</th>\n",
       "      <td>1.351600e+04</td>\n",
       "      <td>1.515916e+18</td>\n",
       "    </tr>\n",
       "    <tr>\n",
       "      <th>75%</th>\n",
       "      <td>1.415800e+04</td>\n",
       "      <td>1.515916e+18</td>\n",
       "    </tr>\n",
       "    <tr>\n",
       "      <th>max</th>\n",
       "      <td>1.465700e+04</td>\n",
       "      <td>1.515916e+18</td>\n",
       "    </tr>\n",
       "  </tbody>\n",
       "</table>\n",
       "</div>"
      ],
      "text/plain": [
       "       bulk_campaign_id     client_id\n",
       "count      1.269119e+07  1.269119e+07\n",
       "mean       1.159768e+04  1.515916e+18\n",
       "std        3.262181e+03  1.329008e+08\n",
       "min        5.480000e+02  1.515916e+18\n",
       "25%        8.746000e+03  1.515916e+18\n",
       "50%        1.351600e+04  1.515916e+18\n",
       "75%        1.415800e+04  1.515916e+18\n",
       "max        1.465700e+04  1.515916e+18"
      ]
     },
     "execution_count": 28,
     "metadata": {},
     "output_type": "execute_result"
    }
   ],
   "source": [
    "messages.describe()"
   ]
  },
  {
   "cell_type": "code",
   "execution_count": 29,
   "id": "875c5d6e",
   "metadata": {},
   "outputs": [
    {
     "data": {
      "text/html": [
       "<div>\n",
       "<style scoped>\n",
       "    .dataframe tbody tr th:only-of-type {\n",
       "        vertical-align: middle;\n",
       "    }\n",
       "\n",
       "    .dataframe tbody tr th {\n",
       "        vertical-align: top;\n",
       "    }\n",
       "\n",
       "    .dataframe thead th {\n",
       "        text-align: right;\n",
       "    }\n",
       "</style>\n",
       "<table border=\"1\" class=\"dataframe\">\n",
       "  <thead>\n",
       "    <tr style=\"text-align: right;\">\n",
       "      <th></th>\n",
       "      <th>client_id</th>\n",
       "      <th>target</th>\n",
       "    </tr>\n",
       "  </thead>\n",
       "  <tbody>\n",
       "    <tr>\n",
       "      <th>count</th>\n",
       "      <td>4.984900e+04</td>\n",
       "      <td>49849.000000</td>\n",
       "    </tr>\n",
       "    <tr>\n",
       "      <th>mean</th>\n",
       "      <td>1.515916e+18</td>\n",
       "      <td>0.019278</td>\n",
       "    </tr>\n",
       "    <tr>\n",
       "      <th>std</th>\n",
       "      <td>1.487947e+08</td>\n",
       "      <td>0.137503</td>\n",
       "    </tr>\n",
       "    <tr>\n",
       "      <th>min</th>\n",
       "      <td>1.515916e+18</td>\n",
       "      <td>0.000000</td>\n",
       "    </tr>\n",
       "    <tr>\n",
       "      <th>25%</th>\n",
       "      <td>1.515916e+18</td>\n",
       "      <td>0.000000</td>\n",
       "    </tr>\n",
       "    <tr>\n",
       "      <th>50%</th>\n",
       "      <td>1.515916e+18</td>\n",
       "      <td>0.000000</td>\n",
       "    </tr>\n",
       "    <tr>\n",
       "      <th>75%</th>\n",
       "      <td>1.515916e+18</td>\n",
       "      <td>0.000000</td>\n",
       "    </tr>\n",
       "    <tr>\n",
       "      <th>max</th>\n",
       "      <td>1.515916e+18</td>\n",
       "      <td>1.000000</td>\n",
       "    </tr>\n",
       "  </tbody>\n",
       "</table>\n",
       "</div>"
      ],
      "text/plain": [
       "          client_id        target\n",
       "count  4.984900e+04  49849.000000\n",
       "mean   1.515916e+18      0.019278\n",
       "std    1.487947e+08      0.137503\n",
       "min    1.515916e+18      0.000000\n",
       "25%    1.515916e+18      0.000000\n",
       "50%    1.515916e+18      0.000000\n",
       "75%    1.515916e+18      0.000000\n",
       "max    1.515916e+18      1.000000"
      ]
     },
     "execution_count": 29,
     "metadata": {},
     "output_type": "execute_result"
    }
   ],
   "source": [
    "target_binary.describe()"
   ]
  },
  {
   "cell_type": "code",
   "execution_count": 30,
   "id": "65f9f27e",
   "metadata": {},
   "outputs": [
    {
     "name": "stdout",
     "output_type": "stream",
     "text": [
      "<class 'pandas.core.frame.DataFrame'>\n",
      "Int64Index: 129188 entries, 0 to 202207\n",
      "Data columns (total 11 columns):\n",
      " #   Column         Non-Null Count   Dtype         \n",
      "---  ------         --------------   -----         \n",
      " 0   client_id      129188 non-null  int64         \n",
      " 1   quantity       129188 non-null  int64         \n",
      " 2   price          129188 non-null  float64       \n",
      " 3   category_ids   129188 non-null  object        \n",
      " 4   date           129188 non-null  datetime64[ns]\n",
      " 5   message_id     129188 non-null  object        \n",
      " 6   category_id_1  129188 non-null  int64         \n",
      " 7   category_id_2  129188 non-null  int64         \n",
      " 8   category_id_3  129188 non-null  int64         \n",
      " 9   category_id_4  129188 non-null  int64         \n",
      " 10  category_id_5  129188 non-null  int64         \n",
      "dtypes: datetime64[ns](1), float64(1), int64(7), object(2)\n",
      "memory usage: 11.8+ MB\n"
     ]
    }
   ],
   "source": [
    "purchases.info()"
   ]
  },
  {
   "cell_type": "code",
   "execution_count": 31,
   "id": "9ffd2b73",
   "metadata": {},
   "outputs": [
    {
     "name": "stdout",
     "output_type": "stream",
     "text": [
      "<class 'pandas.core.frame.DataFrame'>\n",
      "Int64Index: 12691188 entries, 0 to 12739797\n",
      "Data columns (total 7 columns):\n",
      " #   Column            Dtype         \n",
      "---  ------            -----         \n",
      " 0   bulk_campaign_id  int64         \n",
      " 1   client_id         int64         \n",
      " 2   message_id        object        \n",
      " 3   event             object        \n",
      " 4   channel           object        \n",
      " 5   date              datetime64[ns]\n",
      " 6   created_at        datetime64[ns]\n",
      "dtypes: datetime64[ns](2), int64(2), object(3)\n",
      "memory usage: 774.6+ MB\n"
     ]
    }
   ],
   "source": [
    "messages.info()"
   ]
  },
  {
   "cell_type": "code",
   "execution_count": 32,
   "id": "29cabb65",
   "metadata": {},
   "outputs": [
    {
     "name": "stdout",
     "output_type": "stream",
     "text": [
      "<class 'pandas.core.frame.DataFrame'>\n",
      "RangeIndex: 49849 entries, 0 to 49848\n",
      "Data columns (total 2 columns):\n",
      " #   Column     Non-Null Count  Dtype\n",
      "---  ------     --------------  -----\n",
      " 0   client_id  49849 non-null  int64\n",
      " 1   target     49849 non-null  int64\n",
      "dtypes: int64(2)\n",
      "memory usage: 779.0 KB\n"
     ]
    }
   ],
   "source": [
    "target_binary.info()"
   ]
  },
  {
   "cell_type": "markdown",
   "id": "fe29bcd2",
   "metadata": {},
   "source": [
    "В датасет purchases добавим столбец purchase_frequency, который показывает количество покупок, совершенных каждым client_id. Теперь каждое значение в этом столбце отображает, сколько раз данный client_id встречается в датасете. "
   ]
  },
  {
   "cell_type": "code",
   "execution_count": 33,
   "id": "547ae934",
   "metadata": {},
   "outputs": [
    {
     "data": {
      "text/html": [
       "<div>\n",
       "<style scoped>\n",
       "    .dataframe tbody tr th:only-of-type {\n",
       "        vertical-align: middle;\n",
       "    }\n",
       "\n",
       "    .dataframe tbody tr th {\n",
       "        vertical-align: top;\n",
       "    }\n",
       "\n",
       "    .dataframe thead th {\n",
       "        text-align: right;\n",
       "    }\n",
       "</style>\n",
       "<table border=\"1\" class=\"dataframe\">\n",
       "  <thead>\n",
       "    <tr style=\"text-align: right;\">\n",
       "      <th></th>\n",
       "      <th>client_id</th>\n",
       "      <th>quantity</th>\n",
       "      <th>price</th>\n",
       "      <th>category_ids</th>\n",
       "      <th>date</th>\n",
       "      <th>message_id</th>\n",
       "      <th>category_id_1</th>\n",
       "      <th>category_id_2</th>\n",
       "      <th>category_id_3</th>\n",
       "      <th>category_id_4</th>\n",
       "      <th>category_id_5</th>\n",
       "      <th>purchase_frequency</th>\n",
       "    </tr>\n",
       "  </thead>\n",
       "  <tbody>\n",
       "    <tr>\n",
       "      <th>0</th>\n",
       "      <td>1515915625468169594</td>\n",
       "      <td>1</td>\n",
       "      <td>1999.0</td>\n",
       "      <td>['4', '28', '57', '431']</td>\n",
       "      <td>2022-05-16</td>\n",
       "      <td>1515915625468169594-4301-627b661e9736d</td>\n",
       "      <td>4</td>\n",
       "      <td>28</td>\n",
       "      <td>57</td>\n",
       "      <td>431</td>\n",
       "      <td>0</td>\n",
       "      <td>8</td>\n",
       "    </tr>\n",
       "    <tr>\n",
       "      <th>1</th>\n",
       "      <td>1515915625468169594</td>\n",
       "      <td>1</td>\n",
       "      <td>2499.0</td>\n",
       "      <td>['4', '28', '57', '431']</td>\n",
       "      <td>2022-05-16</td>\n",
       "      <td>1515915625468169594-4301-627b661e9736d</td>\n",
       "      <td>4</td>\n",
       "      <td>28</td>\n",
       "      <td>57</td>\n",
       "      <td>431</td>\n",
       "      <td>0</td>\n",
       "      <td>8</td>\n",
       "    </tr>\n",
       "    <tr>\n",
       "      <th>2</th>\n",
       "      <td>1515915625471138230</td>\n",
       "      <td>1</td>\n",
       "      <td>6499.0</td>\n",
       "      <td>['4', '28', '57', '431']</td>\n",
       "      <td>2022-05-16</td>\n",
       "      <td>1515915625471138230-4437-6282242f27843</td>\n",
       "      <td>4</td>\n",
       "      <td>28</td>\n",
       "      <td>57</td>\n",
       "      <td>431</td>\n",
       "      <td>0</td>\n",
       "      <td>3</td>\n",
       "    </tr>\n",
       "    <tr>\n",
       "      <th>3</th>\n",
       "      <td>1515915625471138230</td>\n",
       "      <td>1</td>\n",
       "      <td>4999.0</td>\n",
       "      <td>['4', '28', '244', '432']</td>\n",
       "      <td>2022-05-16</td>\n",
       "      <td>1515915625471138230-4437-6282242f27843</td>\n",
       "      <td>4</td>\n",
       "      <td>28</td>\n",
       "      <td>244</td>\n",
       "      <td>432</td>\n",
       "      <td>0</td>\n",
       "      <td>3</td>\n",
       "    </tr>\n",
       "    <tr>\n",
       "      <th>4</th>\n",
       "      <td>1515915625471138230</td>\n",
       "      <td>1</td>\n",
       "      <td>4999.0</td>\n",
       "      <td>['4', '28', '49', '413']</td>\n",
       "      <td>2022-05-16</td>\n",
       "      <td>1515915625471138230-4437-6282242f27843</td>\n",
       "      <td>4</td>\n",
       "      <td>28</td>\n",
       "      <td>49</td>\n",
       "      <td>413</td>\n",
       "      <td>0</td>\n",
       "      <td>3</td>\n",
       "    </tr>\n",
       "    <tr>\n",
       "      <th>...</th>\n",
       "      <td>...</td>\n",
       "      <td>...</td>\n",
       "      <td>...</td>\n",
       "      <td>...</td>\n",
       "      <td>...</td>\n",
       "      <td>...</td>\n",
       "      <td>...</td>\n",
       "      <td>...</td>\n",
       "      <td>...</td>\n",
       "      <td>...</td>\n",
       "      <td>...</td>\n",
       "      <td>...</td>\n",
       "    </tr>\n",
       "    <tr>\n",
       "      <th>202196</th>\n",
       "      <td>1515915626010221592</td>\n",
       "      <td>1</td>\n",
       "      <td>1499.0</td>\n",
       "      <td>['4', '28', '260', '1194']</td>\n",
       "      <td>2024-02-16</td>\n",
       "      <td>1515915626010221592-14664-65cf1622434a9</td>\n",
       "      <td>4</td>\n",
       "      <td>28</td>\n",
       "      <td>260</td>\n",
       "      <td>1194</td>\n",
       "      <td>0</td>\n",
       "      <td>1</td>\n",
       "    </tr>\n",
       "    <tr>\n",
       "      <th>202198</th>\n",
       "      <td>1515915626010261344</td>\n",
       "      <td>1</td>\n",
       "      <td>1499.0</td>\n",
       "      <td>['2', '18', '212', '726']</td>\n",
       "      <td>2024-02-16</td>\n",
       "      <td>1515915626010261344-14648-65cdb6d56c4c8</td>\n",
       "      <td>2</td>\n",
       "      <td>18</td>\n",
       "      <td>212</td>\n",
       "      <td>726</td>\n",
       "      <td>0</td>\n",
       "      <td>1</td>\n",
       "    </tr>\n",
       "    <tr>\n",
       "      <th>202204</th>\n",
       "      <td>1515915626010439406</td>\n",
       "      <td>1</td>\n",
       "      <td>99.0</td>\n",
       "      <td>['4', '27', '233', '462']</td>\n",
       "      <td>2024-02-16</td>\n",
       "      <td>1515915625776605028-14662-65cf3abfe4f0d</td>\n",
       "      <td>4</td>\n",
       "      <td>27</td>\n",
       "      <td>233</td>\n",
       "      <td>462</td>\n",
       "      <td>0</td>\n",
       "      <td>1</td>\n",
       "    </tr>\n",
       "    <tr>\n",
       "      <th>202206</th>\n",
       "      <td>1515915626010443527</td>\n",
       "      <td>1</td>\n",
       "      <td>1999.0</td>\n",
       "      <td>['2', '18', '274', '446']</td>\n",
       "      <td>2024-02-16</td>\n",
       "      <td>1515915625766077627-14668-65cf5246bd490</td>\n",
       "      <td>2</td>\n",
       "      <td>18</td>\n",
       "      <td>274</td>\n",
       "      <td>446</td>\n",
       "      <td>0</td>\n",
       "      <td>1</td>\n",
       "    </tr>\n",
       "    <tr>\n",
       "      <th>202207</th>\n",
       "      <td>1515915626010443624</td>\n",
       "      <td>1</td>\n",
       "      <td>999.0</td>\n",
       "      <td>['4', '28', '62', '656']</td>\n",
       "      <td>2024-02-16</td>\n",
       "      <td>1515915625488468007-14668-65cf5234b1295</td>\n",
       "      <td>4</td>\n",
       "      <td>28</td>\n",
       "      <td>62</td>\n",
       "      <td>656</td>\n",
       "      <td>0</td>\n",
       "      <td>1</td>\n",
       "    </tr>\n",
       "  </tbody>\n",
       "</table>\n",
       "<p>129188 rows × 12 columns</p>\n",
       "</div>"
      ],
      "text/plain": [
       "                  client_id  quantity   price                category_ids  \\\n",
       "0       1515915625468169594         1  1999.0    ['4', '28', '57', '431']   \n",
       "1       1515915625468169594         1  2499.0    ['4', '28', '57', '431']   \n",
       "2       1515915625471138230         1  6499.0    ['4', '28', '57', '431']   \n",
       "3       1515915625471138230         1  4999.0   ['4', '28', '244', '432']   \n",
       "4       1515915625471138230         1  4999.0    ['4', '28', '49', '413']   \n",
       "...                     ...       ...     ...                         ...   \n",
       "202196  1515915626010221592         1  1499.0  ['4', '28', '260', '1194']   \n",
       "202198  1515915626010261344         1  1499.0   ['2', '18', '212', '726']   \n",
       "202204  1515915626010439406         1    99.0   ['4', '27', '233', '462']   \n",
       "202206  1515915626010443527         1  1999.0   ['2', '18', '274', '446']   \n",
       "202207  1515915626010443624         1   999.0    ['4', '28', '62', '656']   \n",
       "\n",
       "             date                               message_id  category_id_1  \\\n",
       "0      2022-05-16   1515915625468169594-4301-627b661e9736d              4   \n",
       "1      2022-05-16   1515915625468169594-4301-627b661e9736d              4   \n",
       "2      2022-05-16   1515915625471138230-4437-6282242f27843              4   \n",
       "3      2022-05-16   1515915625471138230-4437-6282242f27843              4   \n",
       "4      2022-05-16   1515915625471138230-4437-6282242f27843              4   \n",
       "...           ...                                      ...            ...   \n",
       "202196 2024-02-16  1515915626010221592-14664-65cf1622434a9              4   \n",
       "202198 2024-02-16  1515915626010261344-14648-65cdb6d56c4c8              2   \n",
       "202204 2024-02-16  1515915625776605028-14662-65cf3abfe4f0d              4   \n",
       "202206 2024-02-16  1515915625766077627-14668-65cf5246bd490              2   \n",
       "202207 2024-02-16  1515915625488468007-14668-65cf5234b1295              4   \n",
       "\n",
       "        category_id_2  category_id_3  category_id_4  category_id_5  \\\n",
       "0                  28             57            431              0   \n",
       "1                  28             57            431              0   \n",
       "2                  28             57            431              0   \n",
       "3                  28            244            432              0   \n",
       "4                  28             49            413              0   \n",
       "...               ...            ...            ...            ...   \n",
       "202196             28            260           1194              0   \n",
       "202198             18            212            726              0   \n",
       "202204             27            233            462              0   \n",
       "202206             18            274            446              0   \n",
       "202207             28             62            656              0   \n",
       "\n",
       "        purchase_frequency  \n",
       "0                        8  \n",
       "1                        8  \n",
       "2                        3  \n",
       "3                        3  \n",
       "4                        3  \n",
       "...                    ...  \n",
       "202196                   1  \n",
       "202198                   1  \n",
       "202204                   1  \n",
       "202206                   1  \n",
       "202207                   1  \n",
       "\n",
       "[129188 rows x 12 columns]"
      ]
     },
     "execution_count": 33,
     "metadata": {},
     "output_type": "execute_result"
    }
   ],
   "source": [
    "purchase_frequency = purchases['client_id'].value_counts().to_dict()\n",
    "purchases['purchase_frequency'] = purchases['client_id'].map(purchase_frequency)\n",
    "\n",
    "purchases"
   ]
  },
  {
   "cell_type": "markdown",
   "id": "feb598ae",
   "metadata": {},
   "source": [
    "Так как ключевой идентификатор во всех датасетах у меня client_id - для объединения датасета будем использовать  метод pd.merge() с how='inner'. Этот метод объединит только те записи, которые имеют совпадающие client_id во всех трех таблицах. Пере этим, чтобы избежать конфликта переименуем в датасете messages название столбца date на date_messages "
   ]
  },
  {
   "cell_type": "code",
   "execution_count": 34,
   "id": "08108407",
   "metadata": {},
   "outputs": [],
   "source": [
    "messages.rename(columns={'date': 'date_messages'}, inplace=True)"
   ]
  },
  {
   "cell_type": "markdown",
   "id": "49d11471",
   "metadata": {},
   "source": [
    "Также проверим сколько уникальных значений client_id в кажом датасете"
   ]
  },
  {
   "cell_type": "code",
   "execution_count": 35,
   "id": "6f55d673",
   "metadata": {},
   "outputs": [
    {
     "data": {
      "text/plain": [
       "'Уникальные client_id в target_binary: 49849'"
      ]
     },
     "metadata": {},
     "output_type": "display_data"
    },
    {
     "data": {
      "text/plain": [
       "'Уникальные client_id в purchases: 49849'"
      ]
     },
     "metadata": {},
     "output_type": "display_data"
    },
    {
     "data": {
      "text/plain": [
       "'Уникальные client_id в messages: 53329'"
      ]
     },
     "metadata": {},
     "output_type": "display_data"
    }
   ],
   "source": [
    "unique_target_binary = target_binary['client_id'].nunique()\n",
    "unique_purchases = purchases['client_id'].nunique()\n",
    "unique_messages = messages['client_id'].nunique()\n",
    "\n",
    "display(f\"Уникальные client_id в target_binary: {unique_target_binary}\")\n",
    "display(f\"Уникальные client_id в purchases: {unique_purchases}\")\n",
    "display(f\"Уникальные client_id в messages: {unique_messages}\")"
   ]
  },
  {
   "cell_type": "markdown",
   "id": "b3dcf3bf",
   "metadata": {},
   "source": [
    "В датасетах purchases и  messages проведем группировку по client_id с выбором наиболее часто встречающегося значения в каждом столбце"
   ]
  },
  {
   "cell_type": "code",
   "execution_count": 36,
   "id": "559bb69b",
   "metadata": {},
   "outputs": [],
   "source": [
    "purchases_group = purchases.groupby('client_id').agg(lambda x: x.mode().iloc[0] if not x.mode().empty else x.iloc[0])\n",
    "\n",
    "# Сбрасываем индекс, чтобы вернуть client_id как столбец, а не индекс\n",
    "purchases_group = purchases_group.reset_index()"
   ]
  },
  {
   "cell_type": "code",
   "execution_count": 37,
   "id": "1bf32a30",
   "metadata": {},
   "outputs": [],
   "source": [
    "messages_group = messages.groupby('client_id').agg(lambda x: x.mode().iloc[0] if not x.mode().empty else x.iloc[0])\n",
    "messages_group = messages_group.reset_index()"
   ]
  },
  {
   "cell_type": "code",
   "execution_count": 38,
   "id": "fc15e5ff",
   "metadata": {},
   "outputs": [
    {
     "name": "stdout",
     "output_type": "stream",
     "text": [
      "<class 'pandas.core.frame.DataFrame'>\n",
      "RangeIndex: 49849 entries, 0 to 49848\n",
      "Data columns (total 12 columns):\n",
      " #   Column              Non-Null Count  Dtype         \n",
      "---  ------              --------------  -----         \n",
      " 0   client_id           49849 non-null  int64         \n",
      " 1   quantity            49849 non-null  int64         \n",
      " 2   price               49849 non-null  float64       \n",
      " 3   category_ids        49849 non-null  object        \n",
      " 4   date                49849 non-null  datetime64[ns]\n",
      " 5   message_id          49849 non-null  object        \n",
      " 6   category_id_1       49849 non-null  int64         \n",
      " 7   category_id_2       49849 non-null  int64         \n",
      " 8   category_id_3       49849 non-null  int64         \n",
      " 9   category_id_4       49849 non-null  int64         \n",
      " 10  category_id_5       49849 non-null  int64         \n",
      " 11  purchase_frequency  49849 non-null  int64         \n",
      "dtypes: datetime64[ns](1), float64(1), int64(8), object(2)\n",
      "memory usage: 4.6+ MB\n"
     ]
    }
   ],
   "source": [
    "purchases_group.info()"
   ]
  },
  {
   "cell_type": "code",
   "execution_count": 39,
   "id": "a50aff23",
   "metadata": {},
   "outputs": [
    {
     "name": "stdout",
     "output_type": "stream",
     "text": [
      "<class 'pandas.core.frame.DataFrame'>\n",
      "RangeIndex: 53329 entries, 0 to 53328\n",
      "Data columns (total 7 columns):\n",
      " #   Column            Non-Null Count  Dtype         \n",
      "---  ------            --------------  -----         \n",
      " 0   client_id         53329 non-null  int64         \n",
      " 1   bulk_campaign_id  53329 non-null  int64         \n",
      " 2   message_id        53329 non-null  object        \n",
      " 3   event             53329 non-null  object        \n",
      " 4   channel           53329 non-null  object        \n",
      " 5   date_messages     53329 non-null  datetime64[ns]\n",
      " 6   created_at        53329 non-null  datetime64[ns]\n",
      "dtypes: datetime64[ns](2), int64(2), object(3)\n",
      "memory usage: 2.8+ MB\n"
     ]
    }
   ],
   "source": [
    "messages_group.info()"
   ]
  },
  {
   "cell_type": "code",
   "execution_count": 40,
   "id": "7d48993e",
   "metadata": {},
   "outputs": [],
   "source": [
    "#Объединяем purchases и target_binary по client_id с внутренним соединением\n",
    "merged_df = pd.merge(target_binary, purchases_group, on='client_id', how='inner')"
   ]
  },
  {
   "cell_type": "code",
   "execution_count": 41,
   "id": "533bfaa4",
   "metadata": {},
   "outputs": [],
   "source": [
    "# Затем объединяем результат с messages\n",
    "merged_df = pd.merge(merged_df, messages_group, on='client_id', how='inner')\n"
   ]
  },
  {
   "cell_type": "code",
   "execution_count": 42,
   "id": "dc2f121d",
   "metadata": {
    "scrolled": true
   },
   "outputs": [
    {
     "data": {
      "text/html": [
       "<div>\n",
       "<style scoped>\n",
       "    .dataframe tbody tr th:only-of-type {\n",
       "        vertical-align: middle;\n",
       "    }\n",
       "\n",
       "    .dataframe tbody tr th {\n",
       "        vertical-align: top;\n",
       "    }\n",
       "\n",
       "    .dataframe thead th {\n",
       "        text-align: right;\n",
       "    }\n",
       "</style>\n",
       "<table border=\"1\" class=\"dataframe\">\n",
       "  <thead>\n",
       "    <tr style=\"text-align: right;\">\n",
       "      <th></th>\n",
       "      <th>client_id</th>\n",
       "      <th>target</th>\n",
       "      <th>quantity</th>\n",
       "      <th>price</th>\n",
       "      <th>category_ids</th>\n",
       "      <th>date</th>\n",
       "      <th>message_id_x</th>\n",
       "      <th>category_id_1</th>\n",
       "      <th>category_id_2</th>\n",
       "      <th>category_id_3</th>\n",
       "      <th>category_id_4</th>\n",
       "      <th>category_id_5</th>\n",
       "      <th>purchase_frequency</th>\n",
       "      <th>bulk_campaign_id</th>\n",
       "      <th>message_id_y</th>\n",
       "      <th>event</th>\n",
       "      <th>channel</th>\n",
       "      <th>date_messages</th>\n",
       "      <th>created_at</th>\n",
       "    </tr>\n",
       "  </thead>\n",
       "  <tbody>\n",
       "    <tr>\n",
       "      <th>0</th>\n",
       "      <td>1515915625468060902</td>\n",
       "      <td>0</td>\n",
       "      <td>1</td>\n",
       "      <td>199.0</td>\n",
       "      <td>['4', '27', '176', '458']</td>\n",
       "      <td>2022-05-27</td>\n",
       "      <td>1515915625468060902-4617-6290657dac196</td>\n",
       "      <td>4</td>\n",
       "      <td>28</td>\n",
       "      <td>176</td>\n",
       "      <td>420</td>\n",
       "      <td>0</td>\n",
       "      <td>5</td>\n",
       "      <td>4617</td>\n",
       "      <td>1515915625468060902-4617-6290657dac196</td>\n",
       "      <td>send</td>\n",
       "      <td>email</td>\n",
       "      <td>2022-05-27</td>\n",
       "      <td>2022-05-19 06:32:28</td>\n",
       "    </tr>\n",
       "    <tr>\n",
       "      <th>1</th>\n",
       "      <td>1515915625468061003</td>\n",
       "      <td>1</td>\n",
       "      <td>1</td>\n",
       "      <td>1749.0</td>\n",
       "      <td>['4', '28', '249', '615']</td>\n",
       "      <td>2023-01-04</td>\n",
       "      <td>1515915625468061003-9148-63b54b04855a4</td>\n",
       "      <td>4</td>\n",
       "      <td>28</td>\n",
       "      <td>249</td>\n",
       "      <td>615</td>\n",
       "      <td>0</td>\n",
       "      <td>6</td>\n",
       "      <td>9148</td>\n",
       "      <td>1515915625468061003-12566-646330138e845</td>\n",
       "      <td>send</td>\n",
       "      <td>email</td>\n",
       "      <td>2023-01-04</td>\n",
       "      <td>2023-01-04 17:17:07</td>\n",
       "    </tr>\n",
       "    <tr>\n",
       "      <th>2</th>\n",
       "      <td>1515915625468061099</td>\n",
       "      <td>0</td>\n",
       "      <td>1</td>\n",
       "      <td>299.0</td>\n",
       "      <td>['4', '28', '290', '424']</td>\n",
       "      <td>2022-05-17</td>\n",
       "      <td>1515915625468061099-4439-62834141aa538</td>\n",
       "      <td>4</td>\n",
       "      <td>28</td>\n",
       "      <td>290</td>\n",
       "      <td>424</td>\n",
       "      <td>0</td>\n",
       "      <td>1</td>\n",
       "      <td>9945</td>\n",
       "      <td>1515915625468061099-9945-63e34e9af27f3</td>\n",
       "      <td>send</td>\n",
       "      <td>email</td>\n",
       "      <td>2022-08-19</td>\n",
       "      <td>2022-09-22 13:30:14</td>\n",
       "    </tr>\n",
       "    <tr>\n",
       "      <th>3</th>\n",
       "      <td>1515915625468061100</td>\n",
       "      <td>0</td>\n",
       "      <td>1</td>\n",
       "      <td>1049.0</td>\n",
       "      <td>['4', '27', '1828', '5717']</td>\n",
       "      <td>2024-02-10</td>\n",
       "      <td>1515915625468061100-14623-65c5c55eeb9e0</td>\n",
       "      <td>4</td>\n",
       "      <td>27</td>\n",
       "      <td>1828</td>\n",
       "      <td>5717</td>\n",
       "      <td>0</td>\n",
       "      <td>1</td>\n",
       "      <td>14280</td>\n",
       "      <td>1515915625468061100-14623-65c5c55eeb9e0</td>\n",
       "      <td>send</td>\n",
       "      <td>mobile_push</td>\n",
       "      <td>2023-05-18</td>\n",
       "      <td>2022-12-26 13:49:05</td>\n",
       "    </tr>\n",
       "    <tr>\n",
       "      <th>4</th>\n",
       "      <td>1515915625468061170</td>\n",
       "      <td>0</td>\n",
       "      <td>1</td>\n",
       "      <td>7.0</td>\n",
       "      <td>['4', '28', '260', '420']</td>\n",
       "      <td>2023-03-29</td>\n",
       "      <td>1515915625468061170-11208-6423f082d2fcb</td>\n",
       "      <td>4</td>\n",
       "      <td>28</td>\n",
       "      <td>260</td>\n",
       "      <td>420</td>\n",
       "      <td>0</td>\n",
       "      <td>8</td>\n",
       "      <td>11144</td>\n",
       "      <td>1515915625468061170-11144-641ad2cda77a2</td>\n",
       "      <td>send</td>\n",
       "      <td>email</td>\n",
       "      <td>2022-09-16</td>\n",
       "      <td>2023-03-25 02:05:43</td>\n",
       "    </tr>\n",
       "  </tbody>\n",
       "</table>\n",
       "</div>"
      ],
      "text/plain": [
       "             client_id  target  quantity   price                 category_ids  \\\n",
       "0  1515915625468060902       0         1   199.0    ['4', '27', '176', '458']   \n",
       "1  1515915625468061003       1         1  1749.0    ['4', '28', '249', '615']   \n",
       "2  1515915625468061099       0         1   299.0    ['4', '28', '290', '424']   \n",
       "3  1515915625468061100       0         1  1049.0  ['4', '27', '1828', '5717']   \n",
       "4  1515915625468061170       0         1     7.0    ['4', '28', '260', '420']   \n",
       "\n",
       "        date                             message_id_x  category_id_1  \\\n",
       "0 2022-05-27   1515915625468060902-4617-6290657dac196              4   \n",
       "1 2023-01-04   1515915625468061003-9148-63b54b04855a4              4   \n",
       "2 2022-05-17   1515915625468061099-4439-62834141aa538              4   \n",
       "3 2024-02-10  1515915625468061100-14623-65c5c55eeb9e0              4   \n",
       "4 2023-03-29  1515915625468061170-11208-6423f082d2fcb              4   \n",
       "\n",
       "   category_id_2  category_id_3  category_id_4  category_id_5  \\\n",
       "0             28            176            420              0   \n",
       "1             28            249            615              0   \n",
       "2             28            290            424              0   \n",
       "3             27           1828           5717              0   \n",
       "4             28            260            420              0   \n",
       "\n",
       "   purchase_frequency  bulk_campaign_id  \\\n",
       "0                   5              4617   \n",
       "1                   6              9148   \n",
       "2                   1              9945   \n",
       "3                   1             14280   \n",
       "4                   8             11144   \n",
       "\n",
       "                              message_id_y event      channel date_messages  \\\n",
       "0   1515915625468060902-4617-6290657dac196  send        email    2022-05-27   \n",
       "1  1515915625468061003-12566-646330138e845  send        email    2023-01-04   \n",
       "2   1515915625468061099-9945-63e34e9af27f3  send        email    2022-08-19   \n",
       "3  1515915625468061100-14623-65c5c55eeb9e0  send  mobile_push    2023-05-18   \n",
       "4  1515915625468061170-11144-641ad2cda77a2  send        email    2022-09-16   \n",
       "\n",
       "           created_at  \n",
       "0 2022-05-19 06:32:28  \n",
       "1 2023-01-04 17:17:07  \n",
       "2 2022-09-22 13:30:14  \n",
       "3 2022-12-26 13:49:05  \n",
       "4 2023-03-25 02:05:43  "
      ]
     },
     "metadata": {},
     "output_type": "display_data"
    },
    {
     "name": "stdout",
     "output_type": "stream",
     "text": [
      "<class 'pandas.core.frame.DataFrame'>\n",
      "Int64Index: 41982 entries, 0 to 41981\n",
      "Data columns (total 19 columns):\n",
      " #   Column              Non-Null Count  Dtype         \n",
      "---  ------              --------------  -----         \n",
      " 0   client_id           41982 non-null  int64         \n",
      " 1   target              41982 non-null  int64         \n",
      " 2   quantity            41982 non-null  int64         \n",
      " 3   price               41982 non-null  float64       \n",
      " 4   category_ids        41982 non-null  object        \n",
      " 5   date                41982 non-null  datetime64[ns]\n",
      " 6   message_id_x        41982 non-null  object        \n",
      " 7   category_id_1       41982 non-null  int64         \n",
      " 8   category_id_2       41982 non-null  int64         \n",
      " 9   category_id_3       41982 non-null  int64         \n",
      " 10  category_id_4       41982 non-null  int64         \n",
      " 11  category_id_5       41982 non-null  int64         \n",
      " 12  purchase_frequency  41982 non-null  int64         \n",
      " 13  bulk_campaign_id    41982 non-null  int64         \n",
      " 14  message_id_y        41982 non-null  object        \n",
      " 15  event               41982 non-null  object        \n",
      " 16  channel             41982 non-null  object        \n",
      " 17  date_messages       41982 non-null  datetime64[ns]\n",
      " 18  created_at          41982 non-null  datetime64[ns]\n",
      "dtypes: datetime64[ns](3), float64(1), int64(10), object(5)\n",
      "memory usage: 6.4+ MB\n"
     ]
    },
    {
     "data": {
      "text/plain": [
       "None"
      ]
     },
     "metadata": {},
     "output_type": "display_data"
    }
   ],
   "source": [
    "# Убедимся, что все client_id заполнены\n",
    "display(merged_df.head())\n",
    "display(merged_df.info())"
   ]
  },
  {
   "cell_type": "markdown",
   "id": "ad708bf2",
   "metadata": {},
   "source": [
    "Дополним датасет новыми признаками. Дополним месяцев и годом из столбца date"
   ]
  },
  {
   "cell_type": "code",
   "execution_count": 43,
   "id": "6582094e",
   "metadata": {},
   "outputs": [],
   "source": [
    "merged_df['year'] = merged_df['date'].dt.year\n",
    "merged_df['month'] = merged_df['date'].dt.month"
   ]
  },
  {
   "cell_type": "code",
   "execution_count": 44,
   "id": "607694bc",
   "metadata": {},
   "outputs": [],
   "source": [
    "#сумма за покупку в категории\n",
    "merged_df['revenue'] = merged_df['quantity'] * merged_df['price']"
   ]
  },
  {
   "cell_type": "markdown",
   "id": "70b1d32f",
   "metadata": {},
   "source": [
    "Создадим признак last_purchase_date и first_purchase_date, в котором будут данные с количеством прошедших дней от последней покупи. Для этого вычтем дату выгрузки таблицы из date. Столбец first_purchase_date аналогичен last_purchase_date, он нам понадобится в дальнейшем для агригации."
   ]
  },
  {
   "cell_type": "code",
   "execution_count": 45,
   "id": "2d27fdc5",
   "metadata": {},
   "outputs": [
    {
     "data": {
      "text/plain": [
       "Timestamp('2024-02-16 00:00:00')"
      ]
     },
     "execution_count": 45,
     "metadata": {},
     "output_type": "execute_result"
    }
   ],
   "source": [
    "merged_df['date'].max()"
   ]
  },
  {
   "cell_type": "code",
   "execution_count": 46,
   "id": "7e4c21b6",
   "metadata": {},
   "outputs": [],
   "source": [
    "merged_df['last_date'] = (pd.to_datetime('2024-02-16') - merged_df['date']).dt.days"
   ]
  },
  {
   "cell_type": "markdown",
   "id": "67fc74f6",
   "metadata": {},
   "source": [
    "логарифмируем столбец price, создавая новый столбец и новый признак соответственно"
   ]
  },
  {
   "cell_type": "code",
   "execution_count": 47,
   "id": "53757f25",
   "metadata": {},
   "outputs": [
    {
     "data": {
      "text/html": [
       "<div>\n",
       "<style scoped>\n",
       "    .dataframe tbody tr th:only-of-type {\n",
       "        vertical-align: middle;\n",
       "    }\n",
       "\n",
       "    .dataframe tbody tr th {\n",
       "        vertical-align: top;\n",
       "    }\n",
       "\n",
       "    .dataframe thead th {\n",
       "        text-align: right;\n",
       "    }\n",
       "</style>\n",
       "<table border=\"1\" class=\"dataframe\">\n",
       "  <thead>\n",
       "    <tr style=\"text-align: right;\">\n",
       "      <th></th>\n",
       "      <th>client_id</th>\n",
       "      <th>target</th>\n",
       "      <th>quantity</th>\n",
       "      <th>price</th>\n",
       "      <th>category_ids</th>\n",
       "      <th>date</th>\n",
       "      <th>message_id_x</th>\n",
       "      <th>category_id_1</th>\n",
       "      <th>category_id_2</th>\n",
       "      <th>category_id_3</th>\n",
       "      <th>...</th>\n",
       "      <th>message_id_y</th>\n",
       "      <th>event</th>\n",
       "      <th>channel</th>\n",
       "      <th>date_messages</th>\n",
       "      <th>created_at</th>\n",
       "      <th>year</th>\n",
       "      <th>month</th>\n",
       "      <th>revenue</th>\n",
       "      <th>last_date</th>\n",
       "      <th>price_log</th>\n",
       "    </tr>\n",
       "  </thead>\n",
       "  <tbody>\n",
       "    <tr>\n",
       "      <th>0</th>\n",
       "      <td>1515915625468060902</td>\n",
       "      <td>0</td>\n",
       "      <td>1</td>\n",
       "      <td>199.0</td>\n",
       "      <td>['4', '27', '176', '458']</td>\n",
       "      <td>2022-05-27</td>\n",
       "      <td>1515915625468060902-4617-6290657dac196</td>\n",
       "      <td>4</td>\n",
       "      <td>28</td>\n",
       "      <td>176</td>\n",
       "      <td>...</td>\n",
       "      <td>1515915625468060902-4617-6290657dac196</td>\n",
       "      <td>send</td>\n",
       "      <td>email</td>\n",
       "      <td>2022-05-27</td>\n",
       "      <td>2022-05-19 06:32:28</td>\n",
       "      <td>2022</td>\n",
       "      <td>5</td>\n",
       "      <td>199.0</td>\n",
       "      <td>630</td>\n",
       "      <td>5.298317</td>\n",
       "    </tr>\n",
       "    <tr>\n",
       "      <th>1</th>\n",
       "      <td>1515915625468061003</td>\n",
       "      <td>1</td>\n",
       "      <td>1</td>\n",
       "      <td>1749.0</td>\n",
       "      <td>['4', '28', '249', '615']</td>\n",
       "      <td>2023-01-04</td>\n",
       "      <td>1515915625468061003-9148-63b54b04855a4</td>\n",
       "      <td>4</td>\n",
       "      <td>28</td>\n",
       "      <td>249</td>\n",
       "      <td>...</td>\n",
       "      <td>1515915625468061003-12566-646330138e845</td>\n",
       "      <td>send</td>\n",
       "      <td>email</td>\n",
       "      <td>2023-01-04</td>\n",
       "      <td>2023-01-04 17:17:07</td>\n",
       "      <td>2023</td>\n",
       "      <td>1</td>\n",
       "      <td>1749.0</td>\n",
       "      <td>408</td>\n",
       "      <td>7.467371</td>\n",
       "    </tr>\n",
       "    <tr>\n",
       "      <th>2</th>\n",
       "      <td>1515915625468061099</td>\n",
       "      <td>0</td>\n",
       "      <td>1</td>\n",
       "      <td>299.0</td>\n",
       "      <td>['4', '28', '290', '424']</td>\n",
       "      <td>2022-05-17</td>\n",
       "      <td>1515915625468061099-4439-62834141aa538</td>\n",
       "      <td>4</td>\n",
       "      <td>28</td>\n",
       "      <td>290</td>\n",
       "      <td>...</td>\n",
       "      <td>1515915625468061099-9945-63e34e9af27f3</td>\n",
       "      <td>send</td>\n",
       "      <td>email</td>\n",
       "      <td>2022-08-19</td>\n",
       "      <td>2022-09-22 13:30:14</td>\n",
       "      <td>2022</td>\n",
       "      <td>5</td>\n",
       "      <td>299.0</td>\n",
       "      <td>640</td>\n",
       "      <td>5.703782</td>\n",
       "    </tr>\n",
       "    <tr>\n",
       "      <th>3</th>\n",
       "      <td>1515915625468061100</td>\n",
       "      <td>0</td>\n",
       "      <td>1</td>\n",
       "      <td>1049.0</td>\n",
       "      <td>['4', '27', '1828', '5717']</td>\n",
       "      <td>2024-02-10</td>\n",
       "      <td>1515915625468061100-14623-65c5c55eeb9e0</td>\n",
       "      <td>4</td>\n",
       "      <td>27</td>\n",
       "      <td>1828</td>\n",
       "      <td>...</td>\n",
       "      <td>1515915625468061100-14623-65c5c55eeb9e0</td>\n",
       "      <td>send</td>\n",
       "      <td>mobile_push</td>\n",
       "      <td>2023-05-18</td>\n",
       "      <td>2022-12-26 13:49:05</td>\n",
       "      <td>2024</td>\n",
       "      <td>2</td>\n",
       "      <td>1049.0</td>\n",
       "      <td>6</td>\n",
       "      <td>6.956545</td>\n",
       "    </tr>\n",
       "    <tr>\n",
       "      <th>4</th>\n",
       "      <td>1515915625468061170</td>\n",
       "      <td>0</td>\n",
       "      <td>1</td>\n",
       "      <td>7.0</td>\n",
       "      <td>['4', '28', '260', '420']</td>\n",
       "      <td>2023-03-29</td>\n",
       "      <td>1515915625468061170-11208-6423f082d2fcb</td>\n",
       "      <td>4</td>\n",
       "      <td>28</td>\n",
       "      <td>260</td>\n",
       "      <td>...</td>\n",
       "      <td>1515915625468061170-11144-641ad2cda77a2</td>\n",
       "      <td>send</td>\n",
       "      <td>email</td>\n",
       "      <td>2022-09-16</td>\n",
       "      <td>2023-03-25 02:05:43</td>\n",
       "      <td>2023</td>\n",
       "      <td>3</td>\n",
       "      <td>7.0</td>\n",
       "      <td>324</td>\n",
       "      <td>2.079442</td>\n",
       "    </tr>\n",
       "  </tbody>\n",
       "</table>\n",
       "<p>5 rows × 24 columns</p>\n",
       "</div>"
      ],
      "text/plain": [
       "             client_id  target  quantity   price                 category_ids  \\\n",
       "0  1515915625468060902       0         1   199.0    ['4', '27', '176', '458']   \n",
       "1  1515915625468061003       1         1  1749.0    ['4', '28', '249', '615']   \n",
       "2  1515915625468061099       0         1   299.0    ['4', '28', '290', '424']   \n",
       "3  1515915625468061100       0         1  1049.0  ['4', '27', '1828', '5717']   \n",
       "4  1515915625468061170       0         1     7.0    ['4', '28', '260', '420']   \n",
       "\n",
       "        date                             message_id_x  category_id_1  \\\n",
       "0 2022-05-27   1515915625468060902-4617-6290657dac196              4   \n",
       "1 2023-01-04   1515915625468061003-9148-63b54b04855a4              4   \n",
       "2 2022-05-17   1515915625468061099-4439-62834141aa538              4   \n",
       "3 2024-02-10  1515915625468061100-14623-65c5c55eeb9e0              4   \n",
       "4 2023-03-29  1515915625468061170-11208-6423f082d2fcb              4   \n",
       "\n",
       "   category_id_2  category_id_3  ...                             message_id_y  \\\n",
       "0             28            176  ...   1515915625468060902-4617-6290657dac196   \n",
       "1             28            249  ...  1515915625468061003-12566-646330138e845   \n",
       "2             28            290  ...   1515915625468061099-9945-63e34e9af27f3   \n",
       "3             27           1828  ...  1515915625468061100-14623-65c5c55eeb9e0   \n",
       "4             28            260  ...  1515915625468061170-11144-641ad2cda77a2   \n",
       "\n",
       "   event      channel  date_messages          created_at  year month revenue  \\\n",
       "0   send        email     2022-05-27 2022-05-19 06:32:28  2022     5   199.0   \n",
       "1   send        email     2023-01-04 2023-01-04 17:17:07  2023     1  1749.0   \n",
       "2   send        email     2022-08-19 2022-09-22 13:30:14  2022     5   299.0   \n",
       "3   send  mobile_push     2023-05-18 2022-12-26 13:49:05  2024     2  1049.0   \n",
       "4   send        email     2022-09-16 2023-03-25 02:05:43  2023     3     7.0   \n",
       "\n",
       "  last_date  price_log  \n",
       "0       630   5.298317  \n",
       "1       408   7.467371  \n",
       "2       640   5.703782  \n",
       "3         6   6.956545  \n",
       "4       324   2.079442  \n",
       "\n",
       "[5 rows x 24 columns]"
      ]
     },
     "metadata": {},
     "output_type": "display_data"
    }
   ],
   "source": [
    "# Логарифмирование столбца (используя np.log1p для обработки значений 0 корректно) \n",
    "merged_df['price_log'] = np.log1p(merged_df['price']) \n",
    "# Вывод первых строк для проверки \n",
    "display(merged_df.head())"
   ]
  },
  {
   "cell_type": "markdown",
   "id": "101537dd",
   "metadata": {},
   "source": [
    "Удалим лишние столбцы в датасете"
   ]
  },
  {
   "cell_type": "code",
   "execution_count": 48,
   "id": "c3489bbc",
   "metadata": {},
   "outputs": [
    {
     "data": {
      "text/html": [
       "<div>\n",
       "<style scoped>\n",
       "    .dataframe tbody tr th:only-of-type {\n",
       "        vertical-align: middle;\n",
       "    }\n",
       "\n",
       "    .dataframe tbody tr th {\n",
       "        vertical-align: top;\n",
       "    }\n",
       "\n",
       "    .dataframe thead th {\n",
       "        text-align: right;\n",
       "    }\n",
       "</style>\n",
       "<table border=\"1\" class=\"dataframe\">\n",
       "  <thead>\n",
       "    <tr style=\"text-align: right;\">\n",
       "      <th></th>\n",
       "      <th>target</th>\n",
       "      <th>quantity</th>\n",
       "      <th>price</th>\n",
       "      <th>category_id_1</th>\n",
       "      <th>category_id_2</th>\n",
       "      <th>category_id_3</th>\n",
       "      <th>category_id_4</th>\n",
       "      <th>category_id_5</th>\n",
       "      <th>purchase_frequency</th>\n",
       "      <th>bulk_campaign_id</th>\n",
       "      <th>event</th>\n",
       "      <th>channel</th>\n",
       "      <th>year</th>\n",
       "      <th>month</th>\n",
       "      <th>revenue</th>\n",
       "      <th>last_date</th>\n",
       "      <th>price_log</th>\n",
       "    </tr>\n",
       "  </thead>\n",
       "  <tbody>\n",
       "    <tr>\n",
       "      <th>0</th>\n",
       "      <td>0</td>\n",
       "      <td>1</td>\n",
       "      <td>199.0</td>\n",
       "      <td>4</td>\n",
       "      <td>28</td>\n",
       "      <td>176</td>\n",
       "      <td>420</td>\n",
       "      <td>0</td>\n",
       "      <td>5</td>\n",
       "      <td>4617</td>\n",
       "      <td>send</td>\n",
       "      <td>email</td>\n",
       "      <td>2022</td>\n",
       "      <td>5</td>\n",
       "      <td>199.0</td>\n",
       "      <td>630</td>\n",
       "      <td>5.298317</td>\n",
       "    </tr>\n",
       "    <tr>\n",
       "      <th>1</th>\n",
       "      <td>1</td>\n",
       "      <td>1</td>\n",
       "      <td>1749.0</td>\n",
       "      <td>4</td>\n",
       "      <td>28</td>\n",
       "      <td>249</td>\n",
       "      <td>615</td>\n",
       "      <td>0</td>\n",
       "      <td>6</td>\n",
       "      <td>9148</td>\n",
       "      <td>send</td>\n",
       "      <td>email</td>\n",
       "      <td>2023</td>\n",
       "      <td>1</td>\n",
       "      <td>1749.0</td>\n",
       "      <td>408</td>\n",
       "      <td>7.467371</td>\n",
       "    </tr>\n",
       "    <tr>\n",
       "      <th>2</th>\n",
       "      <td>0</td>\n",
       "      <td>1</td>\n",
       "      <td>299.0</td>\n",
       "      <td>4</td>\n",
       "      <td>28</td>\n",
       "      <td>290</td>\n",
       "      <td>424</td>\n",
       "      <td>0</td>\n",
       "      <td>1</td>\n",
       "      <td>9945</td>\n",
       "      <td>send</td>\n",
       "      <td>email</td>\n",
       "      <td>2022</td>\n",
       "      <td>5</td>\n",
       "      <td>299.0</td>\n",
       "      <td>640</td>\n",
       "      <td>5.703782</td>\n",
       "    </tr>\n",
       "    <tr>\n",
       "      <th>3</th>\n",
       "      <td>0</td>\n",
       "      <td>1</td>\n",
       "      <td>1049.0</td>\n",
       "      <td>4</td>\n",
       "      <td>27</td>\n",
       "      <td>1828</td>\n",
       "      <td>5717</td>\n",
       "      <td>0</td>\n",
       "      <td>1</td>\n",
       "      <td>14280</td>\n",
       "      <td>send</td>\n",
       "      <td>mobile_push</td>\n",
       "      <td>2024</td>\n",
       "      <td>2</td>\n",
       "      <td>1049.0</td>\n",
       "      <td>6</td>\n",
       "      <td>6.956545</td>\n",
       "    </tr>\n",
       "    <tr>\n",
       "      <th>4</th>\n",
       "      <td>0</td>\n",
       "      <td>1</td>\n",
       "      <td>7.0</td>\n",
       "      <td>4</td>\n",
       "      <td>28</td>\n",
       "      <td>260</td>\n",
       "      <td>420</td>\n",
       "      <td>0</td>\n",
       "      <td>8</td>\n",
       "      <td>11144</td>\n",
       "      <td>send</td>\n",
       "      <td>email</td>\n",
       "      <td>2023</td>\n",
       "      <td>3</td>\n",
       "      <td>7.0</td>\n",
       "      <td>324</td>\n",
       "      <td>2.079442</td>\n",
       "    </tr>\n",
       "  </tbody>\n",
       "</table>\n",
       "</div>"
      ],
      "text/plain": [
       "   target  quantity   price  category_id_1  category_id_2  category_id_3  \\\n",
       "0       0         1   199.0              4             28            176   \n",
       "1       1         1  1749.0              4             28            249   \n",
       "2       0         1   299.0              4             28            290   \n",
       "3       0         1  1049.0              4             27           1828   \n",
       "4       0         1     7.0              4             28            260   \n",
       "\n",
       "   category_id_4  category_id_5  purchase_frequency  bulk_campaign_id event  \\\n",
       "0            420              0                   5              4617  send   \n",
       "1            615              0                   6              9148  send   \n",
       "2            424              0                   1              9945  send   \n",
       "3           5717              0                   1             14280  send   \n",
       "4            420              0                   8             11144  send   \n",
       "\n",
       "       channel  year  month  revenue  last_date  price_log  \n",
       "0        email  2022      5    199.0        630   5.298317  \n",
       "1        email  2023      1   1749.0        408   7.467371  \n",
       "2        email  2022      5    299.0        640   5.703782  \n",
       "3  mobile_push  2024      2   1049.0          6   6.956545  \n",
       "4        email  2023      3      7.0        324   2.079442  "
      ]
     },
     "execution_count": 48,
     "metadata": {},
     "output_type": "execute_result"
    }
   ],
   "source": [
    "merged_df = merged_df.drop(columns=['client_id','category_ids', 'date', 'message_id_x', 'message_id_y', 'date_messages', 'created_at'])\n",
    "\n",
    "# Выводим результат, чтобы убедиться, что столбцы удалены\n",
    "merged_df.head()"
   ]
  },
  {
   "cell_type": "code",
   "execution_count": 49,
   "id": "a1e049f0",
   "metadata": {},
   "outputs": [
    {
     "data": {
      "text/plain": [
       "<AxesSubplot:ylabel='target'>"
      ]
     },
     "metadata": {},
     "output_type": "display_data"
    },
    {
     "data": {
      "image/png": "[encoded data removed]",
      "text/plain": [
       "<Figure size 360x360 with 1 Axes>"
      ]
     },
     "metadata": {},
     "output_type": "display_data"
    }
   ],
   "source": [
    "# Посмотрим на распределение целевого признака:\n",
    "display(merged_df['target'].value_counts().plot(y='count', kind='pie', figsize=(5, 5), autopct='%.0f%%'))\n",
    "plt.title('Распределение целевого признака')\n",
    "plt.show();"
   ]
  },
  {
   "cell_type": "code",
   "execution_count": 50,
   "id": "9c6a6d42",
   "metadata": {},
   "outputs": [
    {
     "name": "stderr",
     "output_type": "stream",
     "text": [
      "/opt/conda/lib/python3.9/site-packages/phik/data_quality.py:59: UserWarning: The number of unique values of variable bulk_campaign_id is large: 1249. Are you sure this is not an interval variable? Analysis for pairs of variables including bulk_campaign_id can be slow.\n",
      "  warnings.warn(\n"
     ]
    },
    {
     "data": {
      "image/png": "[encoded data removed]",
      "text/plain": [
       "<Figure size 1080x720 with 2 Axes>"
      ]
     },
     "metadata": {
      "needs_background": "light"
     },
     "output_type": "display_data"
    }
   ],
   "source": [
    "# Расчет корреляционной матрицы PHIK \n",
    "phik_matrix = merged_df.phik_matrix(interval_cols=['quantity', 'price', 'price_log','year', 'month','last_date', 'revenue', 'purchase_frequency'])\n",
    "# Построение тепловой карты \n",
    "plt.figure(figsize=(15, 10)) \n",
    "sns.heatmap(phik_matrix, annot=True, cmap='coolwarm', square=True) \n",
    "plt.title('Тепловая карта корреляционной матрицы PHIK') \n",
    "plt.show()"
   ]
  },
  {
   "cell_type": "markdown",
   "id": "6c74d24d",
   "metadata": {},
   "source": [
    "Корреляция между purchase_frequency и target:\n",
    "\n",
    "purchase_frequency имеет небольшую положительную корреляцию с target (PHIK ≈ 0.1). Это говорит о том, что клиенты с более высокой частотой покупок немного чаще достигают целевого события. Таким образом, purchase_frequency можно считать полезным признаком для модели.\n",
    "Корреляция с другими переменными:\n",
    "\n",
    "purchase_frequency также имеет заметную корреляцию с некоторыми признаками категорий (например, category_id_1, category_id_3), что указывает на определенную связь между частотой покупок и принадлежностью клиента к определенным категориям товаров.\n",
    "Наблюдается небольшая корреляция purchase_frequency с price и price_log, что может свидетельствовать о том, что клиенты с более высокой частотой покупок склонны покупать товары с определенной ценовой категорией.\n",
    "Прочие признаки и target:\n",
    "\n",
    "Как и в предыдущем анализе, признаки bulk_campaign_id, price, и category_id_4 остаются значимыми, поскольку они показывают слабую или умеренную корреляцию с target.\n",
    "Корреляции между target и признаками времени (year, month) по-прежнему остаются низкими, что указывает на слабую зависимость целевой переменной от сезонности.\n",
    "Рекомендации:\n",
    "\n",
    "purchase_frequency может быть полезен для модели, так как он добавляет дополнительную информацию о поведении клиентов.\n",
    "Можно также рассмотреть создание дополнительных признаков, связанных с взаимодействием клиента с разными категориями, либо показатели их активности на временной шкале для дальнейшего улучшения предсказательной силы модели."
   ]
  },
  {
   "cell_type": "markdown",
   "id": "b692ec21",
   "metadata": {},
   "source": [
    "выделим целевую переменную и разделим выборку на тренировочную и тестовую"
   ]
  },
  {
   "cell_type": "code",
   "execution_count": 51,
   "id": "56f4b474",
   "metadata": {},
   "outputs": [],
   "source": [
    "features = merged_df.drop(['target'], axis=1)\n",
    "target = merged_df['target']\n",
    "\n",
    "features_train, features_test, target_train, target_test = train_test_split(\n",
    "    features,\n",
    "    target,\n",
    "    test_size = 0.25, \n",
    "    random_state = RANDOM_STATE)"
   ]
  },
  {
   "cell_type": "markdown",
   "id": "f681608f",
   "metadata": {},
   "source": [
    "проведем масштабирование колличественных признаков и кодирование категориальных"
   ]
  },
  {
   "cell_type": "code",
   "execution_count": 52,
   "id": "46e2fe99",
   "metadata": {},
   "outputs": [
    {
     "name": "stdout",
     "output_type": "stream",
     "text": [
      "<class 'pandas.core.frame.DataFrame'>\n",
      "Int64Index: 41982 entries, 0 to 41981\n",
      "Data columns (total 17 columns):\n",
      " #   Column              Non-Null Count  Dtype  \n",
      "---  ------              --------------  -----  \n",
      " 0   target              41982 non-null  int64  \n",
      " 1   quantity            41982 non-null  int64  \n",
      " 2   price               41982 non-null  float64\n",
      " 3   category_id_1       41982 non-null  int64  \n",
      " 4   category_id_2       41982 non-null  int64  \n",
      " 5   category_id_3       41982 non-null  int64  \n",
      " 6   category_id_4       41982 non-null  int64  \n",
      " 7   category_id_5       41982 non-null  int64  \n",
      " 8   purchase_frequency  41982 non-null  int64  \n",
      " 9   bulk_campaign_id    41982 non-null  int64  \n",
      " 10  event               41982 non-null  object \n",
      " 11  channel             41982 non-null  object \n",
      " 12  year                41982 non-null  int64  \n",
      " 13  month               41982 non-null  int64  \n",
      " 14  revenue             41982 non-null  float64\n",
      " 15  last_date           41982 non-null  int64  \n",
      " 16  price_log           41982 non-null  float64\n",
      "dtypes: float64(3), int64(12), object(2)\n",
      "memory usage: 5.8+ MB\n"
     ]
    }
   ],
   "source": [
    "merged_df.info()"
   ]
  },
  {
   "cell_type": "code",
   "execution_count": 53,
   "id": "e46c29d7",
   "metadata": {},
   "outputs": [],
   "source": [
    "# Определение категориальных и числовых признаков\n",
    "ohe_columns = ['event', 'channel']\n",
    "num_columns = ['quantity', 'price', 'purchase_frequency', 'year', 'month', 'revenue', 'last_date', 'price_log']\n",
    "\n",
    "# Pipeline для числовых признаков\n",
    "num_pipe = Pipeline([\n",
    "    ('imputer', SimpleImputer(strategy='median')),\n",
    "    ('scaler', MinMaxScaler())\n",
    "])\n",
    "\n",
    "# Pipeline для категориальных признаков (One-Hot Encoding)\n",
    "ohe_pipe = Pipeline([\n",
    "    ('simpleImputer_ohe', SimpleImputer(missing_values=np.nan, strategy='most_frequent')),\n",
    "    ('ohe', OneHotEncoder(drop='first', handle_unknown='error', sparse=False))\n",
    "])\n",
    "\n",
    "# Объединение числового и категориального пайплайнов с помощью ColumnTransformer\n",
    "data_preprocessor = ColumnTransformer([\n",
    "    ('num', num_pipe, num_columns),\n",
    "    ('ohe', ohe_pipe, ohe_columns)\n",
    "])\n",
    "\n",
    "# Финальный пайплайн с моделью LogisticRegression\n",
    "pipe_final = Pipeline([\n",
    "    ('preprocessor', data_preprocessor),\n",
    "    ('model', LogisticRegression(max_iter=1000))  # Увеличиваем число итераций для сходимости\n",
    "])"
   ]
  },
  {
   "cell_type": "markdown",
   "id": "ca1868d8",
   "metadata": {},
   "source": [
    "Обучим модель линейной регрессии"
   ]
  },
  {
   "cell_type": "code",
   "execution_count": 54,
   "id": "024b47dc",
   "metadata": {},
   "outputs": [
    {
     "name": "stdout",
     "output_type": "stream",
     "text": [
      "Лучшие гиперпараметры для CatBoost:  {'learning_rate': 0.1, 'l2_leaf_reg': 1, 'iterations': 200, 'depth': 4, 'border_count': 32, 'bagging_temperature': 0.2}\n",
      "Среднее время обучения: 3.85 секунд\n",
      "Среднее время предсказания: 0.01 секунд\n",
      "Метрика roc_auc на валидации: 0.68\n"
     ]
    }
   ],
   "source": [
    "model_catboost = CatBoostClassifier(verbose=0)\n",
    "\n",
    "# Определяем сетку гиперпараметров для поиска\n",
    "param_grid_catboost = {\n",
    "    'iterations': [100, 200], \n",
    "    'depth': [4, 6],\n",
    "    'learning_rate': [0.01, 0.1],\n",
    "    'l2_leaf_reg': [1, 3],\n",
    "    'bagging_temperature': [0.2, 0.5],\n",
    "    'border_count': [32, 64]\n",
    "}\n",
    "\n",
    "random_search_cv_catboost = RandomizedSearchCV(\n",
    "    estimator=model_catboost, \n",
    "    param_distributions=param_grid_catboost,\n",
    "    n_iter=5,\n",
    "    cv=3, \n",
    "    scoring='roc_auc', \n",
    "    random_state=RANDOM_STATE,\n",
    "    n_jobs=-1,\n",
    "    refit=True\n",
    ")\n",
    "\n",
    "# Обучаем модель с подбором гиперпараметров\n",
    "random_search_cv_catboost.fit(\n",
    "    features_train, \n",
    "    target_train, \n",
    "    cat_features=ohe_columns\n",
    ")\n",
    "\n",
    "# Получаем лучшие гиперпараметры\n",
    "best_params_catboost = random_search_cv_catboost.best_params_\n",
    "\n",
    "# Получаем среднее время обучения и предсказания из cv_results_\n",
    "mean_fit_time_catboost = random_search_cv_catboost.cv_results_['mean_fit_time'][random_search_cv_catboost.best_index_]\n",
    "mean_score_time_catboost = random_search_cv_catboost.cv_results_['mean_score_time'][random_search_cv_catboost.best_index_]\n",
    "\n",
    "# Получаем метрику ROC AUC на валидации\n",
    "best_roc_auc_catboost = random_search_cv_catboost.best_score_\n",
    "\n",
    "# Выводим результаты\n",
    "print(\"Лучшие гиперпараметры для CatBoost: \", best_params_catboost)\n",
    "print(f\"Среднее время обучения: {mean_fit_time_catboost:.2f} секунд\")\n",
    "print(f\"Среднее время предсказания: {mean_score_time_catboost:.2f} секунд\")\n",
    "print(f\"Метрика roc_auc на валидации: {best_roc_auc_catboost:.2f}\")\n"
   ]
  },
  {
   "cell_type": "markdown",
   "id": "984558ba",
   "metadata": {},
   "source": [
    "Преобразуем категориальные данные: event и channel можем преобразовать их в числовые представления."
   ]
  },
  {
   "cell_type": "code",
   "execution_count": 55,
   "id": "cfd3a29d",
   "metadata": {
    "scrolled": true
   },
   "outputs": [
    {
     "name": "stderr",
     "output_type": "stream",
     "text": [
      "/tmp/ipykernel_63/2374497055.py:2: SettingWithCopyWarning: \n",
      "A value is trying to be set on a copy of a slice from a DataFrame.\n",
      "Try using .loc[row_indexer,col_indexer] = value instead\n",
      "\n",
      "See the caveats in the documentation: https://pandas.pydata.org/pandas-docs/stable/user_guide/indexing.html#returning-a-view-versus-a-copy\n",
      "  features_train['event'] = le_event.fit_transform(features_train['event'])\n",
      "/tmp/ipykernel_63/2374497055.py:5: SettingWithCopyWarning: \n",
      "A value is trying to be set on a copy of a slice from a DataFrame.\n",
      "Try using .loc[row_indexer,col_indexer] = value instead\n",
      "\n",
      "See the caveats in the documentation: https://pandas.pydata.org/pandas-docs/stable/user_guide/indexing.html#returning-a-view-versus-a-copy\n",
      "  features_train['channel'] = le_channel.fit_transform(features_train['channel'])\n"
     ]
    }
   ],
   "source": [
    "le_event = LabelEncoder()\n",
    "features_train['event'] = le_event.fit_transform(features_train['event'])\n",
    "\n",
    "le_channel = LabelEncoder()\n",
    "features_train['channel'] = le_channel.fit_transform(features_train['channel'])"
   ]
  },
  {
   "cell_type": "markdown",
   "id": "5e42ddef",
   "metadata": {},
   "source": [
    "Попробуем другую модель"
   ]
  },
  {
   "cell_type": "code",
   "execution_count": 56,
   "id": "9c66fc64",
   "metadata": {},
   "outputs": [
    {
     "name": "stdout",
     "output_type": "stream",
     "text": [
      "Лучшие гиперпараметры для XGBoost: {'subsample': 0.7, 'reg_lambda': 1.5, 'reg_alpha': 1, 'n_estimators': 200, 'max_depth': 3, 'learning_rate': 0.01, 'colsample_bytree': 0.7}\n",
      "Среднее время обучения: 11.55 секунд\n",
      "Среднее время предсказания: 0.06 секунд\n",
      "Метрика AUC на валидации: 0.69\n"
     ]
    }
   ],
   "source": [
    "model_xgb = XGBClassifier(\n",
    "    objective='binary:logistic',  # Задаем цель для бинарной классификации\n",
    "    eval_metric='auc',             # Метрика для оценки\n",
    "    verbosity=0,                   # Отключаем вывод логов\n",
    "    use_label_encoder=False         # Отключаем использование LabelEncoder\n",
    ")\n",
    "\n",
    "\n",
    "# Определяем распределение гиперпараметров для поиска\n",
    "param_distributions_xgb = {\n",
    "    'n_estimators': [100, 200],    \n",
    "    'max_depth': [3, 5, 7],       \n",
    "    'learning_rate': [0.01, 0.1, 0.2], \n",
    "    'subsample': [0.6, 0.7, 0.8],  \n",
    "    'colsample_bytree': [0.6, 0.7],  \n",
    "    'reg_alpha': [0, 0.1, 1],       \n",
    "    'reg_lambda': [1, 1.5, 2]       \n",
    "}\n",
    "\n",
    "# Заменяем GridSearchCV на RandomizedSearchCV\n",
    "random_search_cv_xgb = RandomizedSearchCV(\n",
    "    estimator=model_xgb, \n",
    "    param_distributions=param_distributions_xgb, \n",
    "    n_iter=10,  # Количество итераций для случайного поиска\n",
    "    cv=3, \n",
    "    scoring='roc_auc',  # Используем метрику roc_auc для классификации\n",
    "    n_jobs=-1,  \n",
    "    random_state=RANDOM_STATE,  \n",
    "    refit=True  \n",
    ")\n",
    "\n",
    "# Обучаем модель с подбором гиперпараметров\n",
    "random_search_cv_xgb.fit(features_train, target_train)\n",
    "\n",
    "# Получаем лучшие гиперпараметры\n",
    "best_params_xgb = random_search_cv_xgb.best_params_\n",
    "\n",
    "# Получаем среднее время обучения и предсказания из cv_results_\n",
    "mean_fit_time_xgb = random_search_cv_xgb.cv_results_['mean_fit_time'][random_search_cv_xgb.best_index_]\n",
    "mean_score_time_xgb = random_search_cv_xgb.cv_results_['mean_score_time'][random_search_cv_xgb.best_index_]\n",
    "\n",
    "# Получаем метрику AUC на валидации\n",
    "best_auc_xgb = random_search_cv_xgb.best_score_\n",
    "\n",
    "# Выводим результаты\n",
    "print(f\"Лучшие гиперпараметры для XGBoost: {best_params_xgb}\")\n",
    "print(f\"Среднее время обучения: {mean_fit_time_xgb:.2f} секунд\")\n",
    "print(f\"Среднее время предсказания: {mean_score_time_xgb:.2f} секунд\")\n",
    "print(f\"Метрика AUC на валидации: {best_auc_xgb:.2f}\")"
   ]
  },
  {
   "cell_type": "markdown",
   "id": "711005ef",
   "metadata": {},
   "source": [
    "Для построения прогноза на тестовых данных будем использовать модель CatBoostClassifier, так как она демонстрирует наилучший баланс между качеством предсказаний и временем обучения. Метрика на 0.01 ниже, чем у модели XGBoost - не существенно."
   ]
  },
  {
   "cell_type": "code",
   "execution_count": 60,
   "id": "fb311bf1",
   "metadata": {},
   "outputs": [
    {
     "data": {
      "text/plain": [
       "0.6804974641121735"
      ]
     },
     "execution_count": 60,
     "metadata": {},
     "output_type": "execute_result"
    }
   ],
   "source": [
    "# Получаем лучшую модель после подбора гиперпараметров и делаем предсказания.\n",
    "best_model_catboost = random_search_cv_catboost.best_estimator_\n",
    "predictions_probabilities = best_model_catboost.predict_proba(features_test)[:, 1]\n",
    "\n",
    "# Рассчитываем roc_auc на тестовой выборке\n",
    "auc_catboost = roc_auc_score(target_test, predictions_probabilities)\n",
    "\n",
    "auc_catboost"
   ]
  },
  {
   "cell_type": "markdown",
   "id": "99f35ebb",
   "metadata": {},
   "source": [
    "# Вывод по проекту\n",
    "\n",
    "В данном проекте была поставлена задача предсказать вероятность покупки товаров пользователями интернет-магазина в течение 90 дней. Для достижения этой цели была проведена комплексная работа, включающая изучение данных, разработку новых признаков, создание и оптимизацию моделей машинного обучения.\n",
    "\n",
    "**Описание процесса**\n",
    "\n",
    "* Изучение данных: На начальном этапе был проведен анализ доступных данных, что позволило лучше понять структуру и характеристики пользователей, а также выявить потенциальные закономерности.\n",
    "\n",
    "* Разработка признаков: На основе анализа были созданы новые признаки, которые могут улучшить качество предсказаний. \n",
    "\n",
    "* Создание моделей: В рамках проекта были построены две модели классификации: CatBoost и XGBoost. Обе модели были настроены на максимизацию метрики ROC AUC, что позволяет оценить качество предсказаний в контексте бинарной классификации.\n",
    "\n",
    "* Для финального прогноза на тестовых данных была выбрана модель CatBoostClassifier, так как она продемонстрировала наилучший баланс между качеством предсказаний и временем обучения. Несмотря на то, что метрика на тестовых данных (0.6805) оказалась на 0.01 ниже, чем у модели XGBoost, это различие является несущественным в контексте практического применения.\n",
    "\n",
    "**Заключение**\n",
    "\n",
    "В результате проведенной работы была достигнута поставленная цель — предсказание вероятности покупки пользователями интернет-магазина в течение 90 дней. Модель CatBoostClassifier, выбранная для финального прогноза, показала удовлетворительные результаты, что позволяет использовать её для дальнейших бизнес-процессов, таких как целевая рассылка предложений и планирование будущих продаж. Рекомендуется продолжать мониторинг и улучшение модели с учетом новых данных и изменений в поведении пользователей для повышения точности предсказаний."
   ]
  }
 ],
 "metadata": {
  "ExecuteTimeLog": [
   {
    "duration": 1846,
    "start_time": "2024-10-19T14:44:43.018Z"
   },
   {
    "duration": 3468,
    "start_time": "2024-10-19T14:44:54.968Z"
   },
   {
    "duration": 34,
    "start_time": "2024-10-19T14:45:16.901Z"
   },
   {
    "duration": 468,
    "start_time": "2024-10-19T15:05:54.319Z"
   },
   {
    "duration": 40,
    "start_time": "2024-10-19T15:34:32.549Z"
   },
   {
    "duration": 3673,
    "start_time": "2024-10-20T16:21:58.796Z"
   },
   {
    "duration": 1810,
    "start_time": "2024-10-20T16:22:02.471Z"
   },
   {
    "duration": 615,
    "start_time": "2024-10-20T16:22:04.283Z"
   },
   {
    "duration": 43,
    "start_time": "2024-10-20T16:22:04.900Z"
   },
   {
    "duration": 37667,
    "start_time": "2024-10-20T16:22:22.241Z"
   },
   {
    "duration": 3492,
    "start_time": "2024-10-22T10:04:21.207Z"
   },
   {
    "duration": 1966,
    "start_time": "2024-10-22T10:04:24.701Z"
   },
   {
    "duration": 633,
    "start_time": "2024-10-22T10:04:26.670Z"
   },
   {
    "duration": 43,
    "start_time": "2024-10-22T10:04:27.306Z"
   },
   {
    "duration": 43761,
    "start_time": "2024-10-22T10:04:27.351Z"
   },
   {
    "duration": 2769,
    "start_time": "2024-10-22T10:06:36.595Z"
   },
   {
    "duration": 1717,
    "start_time": "2024-10-22T10:06:39.367Z"
   },
   {
    "duration": 498,
    "start_time": "2024-10-22T10:06:41.085Z"
   },
   {
    "duration": 61,
    "start_time": "2024-10-22T10:06:41.584Z"
   },
   {
    "duration": 36359,
    "start_time": "2024-10-22T10:06:41.647Z"
   },
   {
    "duration": 2712,
    "start_time": "2024-10-22T10:09:37.375Z"
   },
   {
    "duration": 1679,
    "start_time": "2024-10-22T10:09:40.090Z"
   },
   {
    "duration": 679,
    "start_time": "2024-10-22T10:09:41.771Z"
   },
   {
    "duration": 38,
    "start_time": "2024-10-22T10:09:42.452Z"
   },
   {
    "duration": 34632,
    "start_time": "2024-10-22T10:09:42.492Z"
   },
   {
    "duration": 98,
    "start_time": "2024-10-22T10:10:17.126Z"
   },
   {
    "duration": 12159,
    "start_time": "2024-10-22T10:14:09.487Z"
   },
   {
    "duration": 3496,
    "start_time": "2024-10-22T13:05:34.803Z"
   },
   {
    "duration": 1674,
    "start_time": "2024-10-22T13:05:38.301Z"
   },
   {
    "duration": 542,
    "start_time": "2024-10-22T13:05:39.976Z"
   },
   {
    "duration": 35,
    "start_time": "2024-10-22T13:05:40.520Z"
   },
   {
    "duration": 38895,
    "start_time": "2024-10-22T13:05:40.556Z"
   },
   {
    "duration": 11089,
    "start_time": "2024-10-22T13:06:19.452Z"
   },
   {
    "duration": 107,
    "start_time": "2024-10-22T13:06:30.542Z"
   },
   {
    "duration": 75,
    "start_time": "2024-10-22T13:06:30.650Z"
   },
   {
    "duration": 15797,
    "start_time": "2024-10-22T13:06:30.727Z"
   },
   {
    "duration": 9,
    "start_time": "2024-10-22T13:06:46.526Z"
   },
   {
    "duration": 2,
    "start_time": "2024-10-22T13:06:46.536Z"
   },
   {
    "duration": 3,
    "start_time": "2024-10-22T13:06:46.540Z"
   },
   {
    "duration": 4,
    "start_time": "2024-10-22T13:06:46.544Z"
   },
   {
    "duration": 3,
    "start_time": "2024-10-22T13:06:46.549Z"
   },
   {
    "duration": 3,
    "start_time": "2024-10-22T13:06:46.554Z"
   },
   {
    "duration": 37,
    "start_time": "2024-10-22T13:06:46.558Z"
   },
   {
    "duration": 4,
    "start_time": "2024-10-22T13:06:46.596Z"
   },
   {
    "duration": 5,
    "start_time": "2024-10-22T13:06:46.601Z"
   },
   {
    "duration": 4,
    "start_time": "2024-10-22T13:06:46.607Z"
   },
   {
    "duration": 35,
    "start_time": "2024-10-22T13:09:14.615Z"
   },
   {
    "duration": 1127,
    "start_time": "2024-10-22T13:09:22.471Z"
   },
   {
    "duration": 15,
    "start_time": "2024-10-22T13:09:45.640Z"
   },
   {
    "duration": 3568,
    "start_time": "2024-10-26T11:15:33.491Z"
   },
   {
    "duration": 1634,
    "start_time": "2024-10-26T11:15:37.062Z"
   },
   {
    "duration": 607,
    "start_time": "2024-10-26T11:15:38.697Z"
   },
   {
    "duration": 32,
    "start_time": "2024-10-26T11:15:39.307Z"
   },
   {
    "duration": 29018,
    "start_time": "2024-10-26T11:15:39.341Z"
   },
   {
    "duration": 9302,
    "start_time": "2024-10-26T11:16:08.361Z"
   },
   {
    "duration": 301,
    "start_time": "2024-10-26T11:16:17.665Z"
   },
   {
    "duration": 68,
    "start_time": "2024-10-26T11:16:17.968Z"
   },
   {
    "duration": 14284,
    "start_time": "2024-10-26T11:16:18.037Z"
   },
   {
    "duration": 8,
    "start_time": "2024-10-26T11:16:32.323Z"
   },
   {
    "duration": 10,
    "start_time": "2024-10-26T11:16:32.332Z"
   },
   {
    "duration": 8,
    "start_time": "2024-10-26T11:16:32.343Z"
   },
   {
    "duration": 21,
    "start_time": "2024-10-26T11:16:32.352Z"
   },
   {
    "duration": 95,
    "start_time": "2024-10-26T11:16:32.375Z"
   },
   {
    "duration": 48,
    "start_time": "2024-10-26T11:16:32.472Z"
   },
   {
    "duration": 5,
    "start_time": "2024-10-26T11:16:32.522Z"
   },
   {
    "duration": 20,
    "start_time": "2024-10-26T11:16:32.531Z"
   },
   {
    "duration": 29,
    "start_time": "2024-10-26T11:16:32.553Z"
   },
   {
    "duration": 64,
    "start_time": "2024-10-26T11:16:32.583Z"
   },
   {
    "duration": 1022,
    "start_time": "2024-10-26T11:16:32.649Z"
   },
   {
    "duration": 13,
    "start_time": "2024-10-26T11:16:33.672Z"
   },
   {
    "duration": 2534,
    "start_time": "2024-10-26T11:16:56.970Z"
   },
   {
    "duration": 1521,
    "start_time": "2024-10-26T11:16:59.506Z"
   },
   {
    "duration": 496,
    "start_time": "2024-10-26T11:17:01.029Z"
   },
   {
    "duration": 31,
    "start_time": "2024-10-26T11:17:01.527Z"
   },
   {
    "duration": 29042,
    "start_time": "2024-10-26T11:17:01.559Z"
   },
   {
    "duration": 9407,
    "start_time": "2024-10-26T11:17:30.602Z"
   },
   {
    "duration": 66,
    "start_time": "2024-10-26T11:17:40.011Z"
   },
   {
    "duration": 71,
    "start_time": "2024-10-26T11:17:40.078Z"
   },
   {
    "duration": 14456,
    "start_time": "2024-10-26T11:17:40.151Z"
   },
   {
    "duration": 8,
    "start_time": "2024-10-26T11:17:54.610Z"
   },
   {
    "duration": 7,
    "start_time": "2024-10-26T11:17:54.620Z"
   },
   {
    "duration": 9,
    "start_time": "2024-10-26T11:17:54.628Z"
   },
   {
    "duration": 14,
    "start_time": "2024-10-26T11:17:54.638Z"
   },
   {
    "duration": 4,
    "start_time": "2024-10-26T11:17:54.653Z"
   },
   {
    "duration": 16,
    "start_time": "2024-10-26T11:17:54.658Z"
   },
   {
    "duration": 34,
    "start_time": "2024-10-26T11:17:54.675Z"
   },
   {
    "duration": 28,
    "start_time": "2024-10-26T11:17:54.711Z"
   },
   {
    "duration": 4,
    "start_time": "2024-10-26T11:17:54.741Z"
   },
   {
    "duration": 39,
    "start_time": "2024-10-26T11:17:54.746Z"
   },
   {
    "duration": 1001,
    "start_time": "2024-10-26T11:17:54.786Z"
   },
   {
    "duration": 19,
    "start_time": "2024-10-26T11:17:55.788Z"
   },
   {
    "duration": 283,
    "start_time": "2024-10-26T11:24:29.885Z"
   },
   {
    "duration": 396,
    "start_time": "2024-10-26T11:25:24.819Z"
   },
   {
    "duration": 304,
    "start_time": "2024-10-26T11:25:36.744Z"
   },
   {
    "duration": 2497,
    "start_time": "2024-10-26T11:25:42.170Z"
   },
   {
    "duration": 1475,
    "start_time": "2024-10-26T11:25:44.670Z"
   },
   {
    "duration": 443,
    "start_time": "2024-10-26T11:25:46.147Z"
   },
   {
    "duration": 36,
    "start_time": "2024-10-26T11:25:46.592Z"
   },
   {
    "duration": 25669,
    "start_time": "2024-10-26T11:25:46.629Z"
   },
   {
    "duration": 9342,
    "start_time": "2024-10-26T11:26:12.300Z"
   },
   {
    "duration": 68,
    "start_time": "2024-10-26T11:26:21.644Z"
   },
   {
    "duration": 328,
    "start_time": "2024-10-26T11:26:21.713Z"
   },
   {
    "duration": 375,
    "start_time": "2024-10-26T11:26:22.043Z"
   },
   {
    "duration": 0,
    "start_time": "2024-10-26T11:26:22.420Z"
   },
   {
    "duration": 0,
    "start_time": "2024-10-26T11:26:22.421Z"
   },
   {
    "duration": 0,
    "start_time": "2024-10-26T11:26:22.423Z"
   },
   {
    "duration": 0,
    "start_time": "2024-10-26T11:26:22.424Z"
   },
   {
    "duration": 0,
    "start_time": "2024-10-26T11:26:22.425Z"
   },
   {
    "duration": 0,
    "start_time": "2024-10-26T11:26:22.427Z"
   },
   {
    "duration": 0,
    "start_time": "2024-10-26T11:26:22.428Z"
   },
   {
    "duration": 0,
    "start_time": "2024-10-26T11:26:22.429Z"
   },
   {
    "duration": 0,
    "start_time": "2024-10-26T11:26:22.430Z"
   },
   {
    "duration": 0,
    "start_time": "2024-10-26T11:26:22.431Z"
   },
   {
    "duration": 0,
    "start_time": "2024-10-26T11:26:22.433Z"
   },
   {
    "duration": 0,
    "start_time": "2024-10-26T11:26:22.434Z"
   },
   {
    "duration": 0,
    "start_time": "2024-10-26T11:26:22.435Z"
   },
   {
    "duration": 0,
    "start_time": "2024-10-26T11:26:22.437Z"
   },
   {
    "duration": 41,
    "start_time": "2024-10-26T11:27:12.350Z"
   },
   {
    "duration": 42,
    "start_time": "2024-10-26T11:27:29.510Z"
   },
   {
    "duration": 2566,
    "start_time": "2024-10-26T11:27:49.766Z"
   },
   {
    "duration": 1456,
    "start_time": "2024-10-26T11:27:52.334Z"
   },
   {
    "duration": 467,
    "start_time": "2024-10-26T11:27:53.792Z"
   },
   {
    "duration": 30,
    "start_time": "2024-10-26T11:27:54.260Z"
   },
   {
    "duration": 29517,
    "start_time": "2024-10-26T11:27:54.292Z"
   },
   {
    "duration": 9344,
    "start_time": "2024-10-26T11:28:23.811Z"
   },
   {
    "duration": 76,
    "start_time": "2024-10-26T11:28:33.156Z"
   },
   {
    "duration": 262,
    "start_time": "2024-10-26T11:28:33.234Z"
   },
   {
    "duration": 141,
    "start_time": "2024-10-26T11:28:33.497Z"
   },
   {
    "duration": 0,
    "start_time": "2024-10-26T11:28:33.640Z"
   },
   {
    "duration": 0,
    "start_time": "2024-10-26T11:28:33.641Z"
   },
   {
    "duration": 0,
    "start_time": "2024-10-26T11:28:33.642Z"
   },
   {
    "duration": 0,
    "start_time": "2024-10-26T11:28:33.643Z"
   },
   {
    "duration": 0,
    "start_time": "2024-10-26T11:28:33.644Z"
   },
   {
    "duration": 0,
    "start_time": "2024-10-26T11:28:33.644Z"
   },
   {
    "duration": 0,
    "start_time": "2024-10-26T11:28:33.645Z"
   },
   {
    "duration": 0,
    "start_time": "2024-10-26T11:28:33.646Z"
   },
   {
    "duration": 0,
    "start_time": "2024-10-26T11:28:33.647Z"
   },
   {
    "duration": 0,
    "start_time": "2024-10-26T11:28:33.648Z"
   },
   {
    "duration": 0,
    "start_time": "2024-10-26T11:28:33.649Z"
   },
   {
    "duration": 0,
    "start_time": "2024-10-26T11:28:33.650Z"
   },
   {
    "duration": 0,
    "start_time": "2024-10-26T11:28:33.651Z"
   },
   {
    "duration": 0,
    "start_time": "2024-10-26T11:28:33.652Z"
   },
   {
    "duration": 2422,
    "start_time": "2024-10-26T11:31:18.225Z"
   },
   {
    "duration": 1417,
    "start_time": "2024-10-26T11:31:20.649Z"
   },
   {
    "duration": 403,
    "start_time": "2024-10-26T11:31:22.067Z"
   },
   {
    "duration": 41,
    "start_time": "2024-10-26T11:31:22.472Z"
   },
   {
    "duration": 27441,
    "start_time": "2024-10-26T11:31:22.515Z"
   },
   {
    "duration": 9501,
    "start_time": "2024-10-26T11:31:49.957Z"
   },
   {
    "duration": 105,
    "start_time": "2024-10-26T11:31:59.459Z"
   },
   {
    "duration": 283,
    "start_time": "2024-10-26T11:31:59.565Z"
   },
   {
    "duration": 142,
    "start_time": "2024-10-26T11:31:59.850Z"
   },
   {
    "duration": 0,
    "start_time": "2024-10-26T11:31:59.994Z"
   },
   {
    "duration": 0,
    "start_time": "2024-10-26T11:31:59.995Z"
   },
   {
    "duration": 0,
    "start_time": "2024-10-26T11:31:59.996Z"
   },
   {
    "duration": 0,
    "start_time": "2024-10-26T11:31:59.997Z"
   },
   {
    "duration": 0,
    "start_time": "2024-10-26T11:31:59.998Z"
   },
   {
    "duration": 0,
    "start_time": "2024-10-26T11:32:00.007Z"
   },
   {
    "duration": 0,
    "start_time": "2024-10-26T11:32:00.008Z"
   },
   {
    "duration": 0,
    "start_time": "2024-10-26T11:32:00.009Z"
   },
   {
    "duration": 0,
    "start_time": "2024-10-26T11:32:00.010Z"
   },
   {
    "duration": 0,
    "start_time": "2024-10-26T11:32:00.011Z"
   },
   {
    "duration": 0,
    "start_time": "2024-10-26T11:32:00.011Z"
   },
   {
    "duration": 0,
    "start_time": "2024-10-26T11:32:00.012Z"
   },
   {
    "duration": 0,
    "start_time": "2024-10-26T11:32:00.013Z"
   },
   {
    "duration": 0,
    "start_time": "2024-10-26T11:32:00.014Z"
   },
   {
    "duration": 333,
    "start_time": "2024-10-26T11:34:28.858Z"
   },
   {
    "duration": 19,
    "start_time": "2024-10-26T11:45:02.457Z"
   },
   {
    "duration": 61,
    "start_time": "2024-10-26T11:50:15.487Z"
   },
   {
    "duration": 14257,
    "start_time": "2024-10-26T11:50:16.468Z"
   },
   {
    "duration": 7,
    "start_time": "2024-10-26T11:50:30.728Z"
   },
   {
    "duration": 69,
    "start_time": "2024-10-26T11:57:56.367Z"
   },
   {
    "duration": 124,
    "start_time": "2024-10-26T11:57:58.659Z"
   },
   {
    "duration": 64,
    "start_time": "2024-10-26T12:10:45.290Z"
   },
   {
    "duration": 15180,
    "start_time": "2024-10-26T12:10:45.963Z"
   },
   {
    "duration": 21,
    "start_time": "2024-10-26T12:14:02.527Z"
   },
   {
    "duration": 1131,
    "start_time": "2024-10-26T12:19:18.653Z"
   },
   {
    "duration": 19585,
    "start_time": "2024-10-26T12:22:57.762Z"
   },
   {
    "duration": 19616,
    "start_time": "2024-10-26T12:23:30.903Z"
   },
   {
    "duration": 12,
    "start_time": "2024-10-26T12:43:35.108Z"
   },
   {
    "duration": 18946,
    "start_time": "2024-10-26T12:43:38.084Z"
   },
   {
    "duration": 11,
    "start_time": "2024-10-26T12:44:15.437Z"
   },
   {
    "duration": 8,
    "start_time": "2024-10-26T12:44:29.381Z"
   },
   {
    "duration": 7,
    "start_time": "2024-10-26T12:44:42.912Z"
   },
   {
    "duration": 29,
    "start_time": "2024-10-26T12:44:50.784Z"
   },
   {
    "duration": 8,
    "start_time": "2024-10-26T12:45:39.348Z"
   },
   {
    "duration": 27,
    "start_time": "2024-10-26T12:45:48.975Z"
   },
   {
    "duration": 8,
    "start_time": "2024-10-26T12:47:40.764Z"
   },
   {
    "duration": 52,
    "start_time": "2024-10-26T12:47:52.587Z"
   },
   {
    "duration": 57,
    "start_time": "2024-10-26T12:49:13.785Z"
   },
   {
    "duration": 17,
    "start_time": "2024-10-26T12:49:16.195Z"
   },
   {
    "duration": 49,
    "start_time": "2024-10-26T12:52:28.866Z"
   },
   {
    "duration": 868,
    "start_time": "2024-10-26T12:52:31.581Z"
   },
   {
    "duration": 13,
    "start_time": "2024-10-26T12:52:50.339Z"
   },
   {
    "duration": 18,
    "start_time": "2024-10-26T12:58:37.297Z"
   },
   {
    "duration": 7,
    "start_time": "2024-10-26T12:58:51.720Z"
   },
   {
    "duration": 9,
    "start_time": "2024-10-26T12:59:21.594Z"
   },
   {
    "duration": 45,
    "start_time": "2024-10-26T13:12:22.478Z"
   },
   {
    "duration": 2604,
    "start_time": "2024-10-26T13:12:47.774Z"
   },
   {
    "duration": 1593,
    "start_time": "2024-10-26T13:12:50.380Z"
   },
   {
    "duration": 566,
    "start_time": "2024-10-26T13:12:51.974Z"
   },
   {
    "duration": 35,
    "start_time": "2024-10-26T13:12:52.542Z"
   },
   {
    "duration": 29828,
    "start_time": "2024-10-26T13:12:52.579Z"
   },
   {
    "duration": 9163,
    "start_time": "2024-10-26T13:13:22.409Z"
   },
   {
    "duration": 111,
    "start_time": "2024-10-26T13:13:31.573Z"
   },
   {
    "duration": 362,
    "start_time": "2024-10-26T13:13:31.685Z"
   },
   {
    "duration": 18,
    "start_time": "2024-10-26T13:13:32.048Z"
   },
   {
    "duration": 412,
    "start_time": "2024-10-26T13:13:32.067Z"
   },
   {
    "duration": 17,
    "start_time": "2024-10-26T13:13:32.480Z"
   },
   {
    "duration": 68,
    "start_time": "2024-10-26T13:13:32.507Z"
   },
   {
    "duration": 13900,
    "start_time": "2024-10-26T13:13:32.577Z"
   },
   {
    "duration": 9,
    "start_time": "2024-10-26T13:13:46.480Z"
   },
   {
    "duration": 82,
    "start_time": "2024-10-26T13:13:46.490Z"
   },
   {
    "duration": 102,
    "start_time": "2024-10-26T13:13:46.574Z"
   },
   {
    "duration": 69,
    "start_time": "2024-10-26T13:13:46.677Z"
   },
   {
    "duration": 14702,
    "start_time": "2024-10-26T13:13:46.748Z"
   },
   {
    "duration": 1116,
    "start_time": "2024-10-26T13:14:01.451Z"
   },
   {
    "duration": 18987,
    "start_time": "2024-10-26T13:14:02.568Z"
   },
   {
    "duration": 19,
    "start_time": "2024-10-26T13:14:21.556Z"
   },
   {
    "duration": 8,
    "start_time": "2024-10-26T13:14:21.576Z"
   },
   {
    "duration": 50,
    "start_time": "2024-10-26T13:14:21.585Z"
   },
   {
    "duration": 8,
    "start_time": "2024-10-26T13:14:21.636Z"
   },
   {
    "duration": 44,
    "start_time": "2024-10-26T13:14:21.645Z"
   },
   {
    "duration": 99,
    "start_time": "2024-10-26T13:14:21.691Z"
   },
   {
    "duration": 54,
    "start_time": "2024-10-26T13:14:21.791Z"
   },
   {
    "duration": 874,
    "start_time": "2024-10-26T13:14:21.847Z"
   },
   {
    "duration": 12,
    "start_time": "2024-10-26T13:14:22.723Z"
   },
   {
    "duration": 17,
    "start_time": "2024-10-26T13:14:22.736Z"
   },
   {
    "duration": 8,
    "start_time": "2024-10-26T13:14:22.754Z"
   },
   {
    "duration": 14,
    "start_time": "2024-10-26T13:14:22.763Z"
   },
   {
    "duration": 2,
    "start_time": "2024-10-26T13:14:22.779Z"
   },
   {
    "duration": 2671,
    "start_time": "2024-10-26T13:16:29.763Z"
   },
   {
    "duration": 1569,
    "start_time": "2024-10-26T13:16:32.437Z"
   },
   {
    "duration": 468,
    "start_time": "2024-10-26T13:16:34.008Z"
   },
   {
    "duration": 48,
    "start_time": "2024-10-26T13:16:34.478Z"
   },
   {
    "duration": 28875,
    "start_time": "2024-10-26T13:16:34.529Z"
   },
   {
    "duration": 9233,
    "start_time": "2024-10-26T13:17:03.405Z"
   },
   {
    "duration": 104,
    "start_time": "2024-10-26T13:17:12.640Z"
   },
   {
    "duration": 384,
    "start_time": "2024-10-26T13:17:12.745Z"
   },
   {
    "duration": 16,
    "start_time": "2024-10-26T13:17:13.130Z"
   },
   {
    "duration": 299,
    "start_time": "2024-10-26T13:17:13.147Z"
   },
   {
    "duration": 16,
    "start_time": "2024-10-26T13:17:13.447Z"
   },
   {
    "duration": 70,
    "start_time": "2024-10-26T13:17:13.465Z"
   },
   {
    "duration": 14224,
    "start_time": "2024-10-26T13:17:13.536Z"
   },
   {
    "duration": 8,
    "start_time": "2024-10-26T13:17:27.762Z"
   },
   {
    "duration": 89,
    "start_time": "2024-10-26T13:17:27.771Z"
   },
   {
    "duration": 113,
    "start_time": "2024-10-26T13:17:27.862Z"
   },
   {
    "duration": 66,
    "start_time": "2024-10-26T13:17:27.976Z"
   },
   {
    "duration": 15269,
    "start_time": "2024-10-26T13:17:28.043Z"
   },
   {
    "duration": 1134,
    "start_time": "2024-10-26T13:17:43.314Z"
   },
   {
    "duration": 19302,
    "start_time": "2024-10-26T13:17:44.449Z"
   },
   {
    "duration": 20,
    "start_time": "2024-10-26T13:18:03.752Z"
   },
   {
    "duration": 21,
    "start_time": "2024-10-26T13:18:03.773Z"
   },
   {
    "duration": 31,
    "start_time": "2024-10-26T13:18:03.795Z"
   },
   {
    "duration": 7,
    "start_time": "2024-10-26T13:18:03.827Z"
   },
   {
    "duration": 47,
    "start_time": "2024-10-26T13:18:03.836Z"
   },
   {
    "duration": 68,
    "start_time": "2024-10-26T13:18:03.884Z"
   },
   {
    "duration": 46,
    "start_time": "2024-10-26T13:18:03.953Z"
   },
   {
    "duration": 864,
    "start_time": "2024-10-26T13:18:04.000Z"
   },
   {
    "duration": 12,
    "start_time": "2024-10-26T13:18:04.866Z"
   },
   {
    "duration": 31,
    "start_time": "2024-10-26T13:18:04.879Z"
   },
   {
    "duration": 126,
    "start_time": "2024-10-26T13:18:04.912Z"
   },
   {
    "duration": 28,
    "start_time": "2024-10-26T13:18:05.039Z"
   },
   {
    "duration": 34,
    "start_time": "2024-10-26T13:18:05.069Z"
   },
   {
    "duration": 31,
    "start_time": "2024-10-26T13:18:05.105Z"
   },
   {
    "duration": 44,
    "start_time": "2024-10-26T13:43:26.314Z"
   },
   {
    "duration": 2608,
    "start_time": "2024-10-26T13:43:30.517Z"
   },
   {
    "duration": 1426,
    "start_time": "2024-10-26T13:43:33.127Z"
   },
   {
    "duration": 532,
    "start_time": "2024-10-26T13:43:34.555Z"
   },
   {
    "duration": 38,
    "start_time": "2024-10-26T13:43:35.088Z"
   },
   {
    "duration": 34942,
    "start_time": "2024-10-26T13:43:35.127Z"
   },
   {
    "duration": 9598,
    "start_time": "2024-10-26T13:44:10.071Z"
   },
   {
    "duration": 255,
    "start_time": "2024-10-26T13:44:19.671Z"
   },
   {
    "duration": 406,
    "start_time": "2024-10-26T13:44:19.927Z"
   },
   {
    "duration": 19,
    "start_time": "2024-10-26T13:44:20.334Z"
   },
   {
    "duration": 685,
    "start_time": "2024-10-26T13:44:20.354Z"
   },
   {
    "duration": 18,
    "start_time": "2024-10-26T13:44:21.041Z"
   },
   {
    "duration": 180,
    "start_time": "2024-10-26T13:44:21.060Z"
   },
   {
    "duration": 14534,
    "start_time": "2024-10-26T13:44:21.242Z"
   },
   {
    "duration": 7,
    "start_time": "2024-10-26T13:44:35.779Z"
   },
   {
    "duration": 117,
    "start_time": "2024-10-26T13:44:35.787Z"
   },
   {
    "duration": 105,
    "start_time": "2024-10-26T13:44:35.905Z"
   },
   {
    "duration": 65,
    "start_time": "2024-10-26T13:44:36.011Z"
   },
   {
    "duration": 15223,
    "start_time": "2024-10-26T13:44:36.077Z"
   },
   {
    "duration": 1143,
    "start_time": "2024-10-26T13:44:51.302Z"
   },
   {
    "duration": 19540,
    "start_time": "2024-10-26T13:44:52.446Z"
   },
   {
    "duration": 21,
    "start_time": "2024-10-26T13:45:11.987Z"
   },
   {
    "duration": 9,
    "start_time": "2024-10-26T13:45:12.010Z"
   },
   {
    "duration": 131,
    "start_time": "2024-10-26T13:45:12.020Z"
   },
   {
    "duration": 25,
    "start_time": "2024-10-26T13:45:12.152Z"
   },
   {
    "duration": 48,
    "start_time": "2024-10-26T13:45:12.178Z"
   },
   {
    "duration": 67,
    "start_time": "2024-10-26T13:45:12.227Z"
   },
   {
    "duration": 55,
    "start_time": "2024-10-26T13:45:12.296Z"
   },
   {
    "duration": 968,
    "start_time": "2024-10-26T13:45:12.352Z"
   },
   {
    "duration": 12,
    "start_time": "2024-10-26T13:45:13.321Z"
   },
   {
    "duration": 19,
    "start_time": "2024-10-26T13:45:13.334Z"
   },
   {
    "duration": 8,
    "start_time": "2024-10-26T13:45:13.355Z"
   },
   {
    "duration": 26,
    "start_time": "2024-10-26T13:45:13.366Z"
   },
   {
    "duration": 30,
    "start_time": "2024-10-26T13:45:13.394Z"
   },
   {
    "duration": 49,
    "start_time": "2024-10-26T13:45:13.425Z"
   },
   {
    "duration": 55,
    "start_time": "2024-10-27T07:29:59.103Z"
   },
   {
    "duration": 3476,
    "start_time": "2024-10-27T07:30:03.222Z"
   },
   {
    "duration": 1630,
    "start_time": "2024-10-27T07:30:06.700Z"
   },
   {
    "duration": 506,
    "start_time": "2024-10-27T07:30:08.331Z"
   },
   {
    "duration": 31,
    "start_time": "2024-10-27T07:30:08.839Z"
   },
   {
    "duration": 30566,
    "start_time": "2024-10-27T07:30:08.872Z"
   },
   {
    "duration": 9016,
    "start_time": "2024-10-27T07:30:39.440Z"
   },
   {
    "duration": 153,
    "start_time": "2024-10-27T07:30:48.458Z"
   },
   {
    "duration": 338,
    "start_time": "2024-10-27T07:30:48.613Z"
   },
   {
    "duration": 17,
    "start_time": "2024-10-27T07:30:48.953Z"
   },
   {
    "duration": 421,
    "start_time": "2024-10-27T07:30:48.974Z"
   },
   {
    "duration": 25,
    "start_time": "2024-10-27T07:30:49.397Z"
   },
   {
    "duration": 61,
    "start_time": "2024-10-27T07:30:49.423Z"
   },
   {
    "duration": 13452,
    "start_time": "2024-10-27T07:30:49.485Z"
   },
   {
    "duration": 7,
    "start_time": "2024-10-27T07:31:02.938Z"
   },
   {
    "duration": 101,
    "start_time": "2024-10-27T07:31:02.946Z"
   },
   {
    "duration": 106,
    "start_time": "2024-10-27T07:31:03.048Z"
   },
   {
    "duration": 69,
    "start_time": "2024-10-27T07:31:03.156Z"
   },
   {
    "duration": 14499,
    "start_time": "2024-10-27T07:31:03.227Z"
   },
   {
    "duration": 1157,
    "start_time": "2024-10-27T07:31:17.727Z"
   },
   {
    "duration": 19611,
    "start_time": "2024-10-27T07:31:18.885Z"
   },
   {
    "duration": 30,
    "start_time": "2024-10-27T07:31:38.497Z"
   },
   {
    "duration": 8,
    "start_time": "2024-10-27T07:31:38.528Z"
   },
   {
    "duration": 32,
    "start_time": "2024-10-27T07:31:38.537Z"
   },
   {
    "duration": 7,
    "start_time": "2024-10-27T07:31:38.571Z"
   },
   {
    "duration": 47,
    "start_time": "2024-10-27T07:31:38.579Z"
   },
   {
    "duration": 61,
    "start_time": "2024-10-27T07:31:38.628Z"
   },
   {
    "duration": 57,
    "start_time": "2024-10-27T07:31:38.690Z"
   },
   {
    "duration": 842,
    "start_time": "2024-10-27T07:31:38.750Z"
   },
   {
    "duration": 19,
    "start_time": "2024-10-27T07:31:39.593Z"
   },
   {
    "duration": 17,
    "start_time": "2024-10-27T07:31:39.614Z"
   },
   {
    "duration": 8,
    "start_time": "2024-10-27T07:31:39.632Z"
   },
   {
    "duration": 9,
    "start_time": "2024-10-27T07:31:39.641Z"
   },
   {
    "duration": 8,
    "start_time": "2024-10-27T07:31:39.652Z"
   },
   {
    "duration": 32,
    "start_time": "2024-10-27T07:31:39.661Z"
   },
   {
    "duration": 29,
    "start_time": "2024-10-27T07:31:39.695Z"
   },
   {
    "duration": 46,
    "start_time": "2024-10-27T07:32:11.270Z"
   },
   {
    "duration": 2618,
    "start_time": "2024-10-27T07:32:15.439Z"
   },
   {
    "duration": 1437,
    "start_time": "2024-10-27T07:32:18.060Z"
   },
   {
    "duration": 431,
    "start_time": "2024-10-27T07:32:19.500Z"
   },
   {
    "duration": 30,
    "start_time": "2024-10-27T07:32:19.932Z"
   },
   {
    "duration": 26492,
    "start_time": "2024-10-27T07:32:19.963Z"
   },
   {
    "duration": 9188,
    "start_time": "2024-10-27T07:32:46.457Z"
   },
   {
    "duration": 69,
    "start_time": "2024-10-27T07:32:55.647Z"
   },
   {
    "duration": 250,
    "start_time": "2024-10-27T07:32:55.717Z"
   },
   {
    "duration": 18,
    "start_time": "2024-10-27T07:32:55.968Z"
   },
   {
    "duration": 327,
    "start_time": "2024-10-27T07:32:55.987Z"
   },
   {
    "duration": 17,
    "start_time": "2024-10-27T07:32:56.315Z"
   },
   {
    "duration": 62,
    "start_time": "2024-10-27T07:32:56.333Z"
   },
   {
    "duration": 13873,
    "start_time": "2024-10-27T07:32:56.411Z"
   },
   {
    "duration": 7,
    "start_time": "2024-10-27T07:33:10.285Z"
   },
   {
    "duration": 80,
    "start_time": "2024-10-27T07:33:10.293Z"
   },
   {
    "duration": 105,
    "start_time": "2024-10-27T07:33:10.375Z"
   },
   {
    "duration": 71,
    "start_time": "2024-10-27T07:33:10.481Z"
   },
   {
    "duration": 14712,
    "start_time": "2024-10-27T07:33:10.553Z"
   },
   {
    "duration": 1182,
    "start_time": "2024-10-27T07:33:25.266Z"
   },
   {
    "duration": 20061,
    "start_time": "2024-10-27T07:33:26.449Z"
   },
   {
    "duration": 20,
    "start_time": "2024-10-27T07:33:46.511Z"
   },
   {
    "duration": 8,
    "start_time": "2024-10-27T07:33:46.532Z"
   },
   {
    "duration": 29,
    "start_time": "2024-10-27T07:33:46.542Z"
   },
   {
    "duration": 9,
    "start_time": "2024-10-27T07:33:46.573Z"
   },
   {
    "duration": 61,
    "start_time": "2024-10-27T07:33:46.583Z"
   },
   {
    "duration": 80,
    "start_time": "2024-10-27T07:33:46.646Z"
   },
   {
    "duration": 47,
    "start_time": "2024-10-27T07:33:46.728Z"
   },
   {
    "duration": 839,
    "start_time": "2024-10-27T07:33:46.776Z"
   },
   {
    "duration": 11,
    "start_time": "2024-10-27T07:33:47.617Z"
   },
   {
    "duration": 69,
    "start_time": "2024-10-27T07:33:47.630Z"
   },
   {
    "duration": 8,
    "start_time": "2024-10-27T07:33:47.700Z"
   },
   {
    "duration": 21,
    "start_time": "2024-10-27T07:33:47.709Z"
   },
   {
    "duration": 3,
    "start_time": "2024-10-27T07:33:47.731Z"
   },
   {
    "duration": 37,
    "start_time": "2024-10-27T07:33:47.735Z"
   },
   {
    "duration": 18,
    "start_time": "2024-10-27T07:33:47.774Z"
   },
   {
    "duration": 2536,
    "start_time": "2024-10-27T07:35:40.361Z"
   },
   {
    "duration": 1542,
    "start_time": "2024-10-27T07:35:42.899Z"
   },
   {
    "duration": 383,
    "start_time": "2024-10-27T07:35:44.443Z"
   },
   {
    "duration": 30,
    "start_time": "2024-10-27T07:35:44.828Z"
   },
   {
    "duration": 25567,
    "start_time": "2024-10-27T07:35:44.860Z"
   },
   {
    "duration": 9218,
    "start_time": "2024-10-27T07:36:10.428Z"
   },
   {
    "duration": 68,
    "start_time": "2024-10-27T07:36:19.647Z"
   },
   {
    "duration": 252,
    "start_time": "2024-10-27T07:36:19.717Z"
   },
   {
    "duration": 17,
    "start_time": "2024-10-27T07:36:19.970Z"
   },
   {
    "duration": 335,
    "start_time": "2024-10-27T07:36:19.989Z"
   },
   {
    "duration": 18,
    "start_time": "2024-10-27T07:36:20.326Z"
   },
   {
    "duration": 76,
    "start_time": "2024-10-27T07:36:20.345Z"
   },
   {
    "duration": 13664,
    "start_time": "2024-10-27T07:36:20.422Z"
   },
   {
    "duration": 7,
    "start_time": "2024-10-27T07:36:34.089Z"
   },
   {
    "duration": 77,
    "start_time": "2024-10-27T07:36:34.098Z"
   },
   {
    "duration": 111,
    "start_time": "2024-10-27T07:36:34.177Z"
   },
   {
    "duration": 70,
    "start_time": "2024-10-27T07:36:34.289Z"
   },
   {
    "duration": 14570,
    "start_time": "2024-10-27T07:36:34.360Z"
   },
   {
    "duration": 1186,
    "start_time": "2024-10-27T07:36:48.932Z"
   },
   {
    "duration": 19865,
    "start_time": "2024-10-27T07:36:50.119Z"
   },
   {
    "duration": 27,
    "start_time": "2024-10-27T07:37:09.985Z"
   },
   {
    "duration": 8,
    "start_time": "2024-10-27T07:37:10.014Z"
   },
   {
    "duration": 50,
    "start_time": "2024-10-27T07:37:10.023Z"
   },
   {
    "duration": 9,
    "start_time": "2024-10-27T07:37:10.075Z"
   },
   {
    "duration": 54,
    "start_time": "2024-10-27T07:37:10.085Z"
   },
   {
    "duration": 59,
    "start_time": "2024-10-27T07:37:10.141Z"
   },
   {
    "duration": 54,
    "start_time": "2024-10-27T07:37:10.202Z"
   },
   {
    "duration": 823,
    "start_time": "2024-10-27T07:37:10.258Z"
   },
   {
    "duration": 14,
    "start_time": "2024-10-27T07:37:11.082Z"
   },
   {
    "duration": 29,
    "start_time": "2024-10-27T07:37:11.097Z"
   },
   {
    "duration": 7,
    "start_time": "2024-10-27T07:37:11.128Z"
   },
   {
    "duration": 15,
    "start_time": "2024-10-27T07:37:11.137Z"
   },
   {
    "duration": 5,
    "start_time": "2024-10-27T07:37:11.153Z"
   },
   {
    "duration": 39,
    "start_time": "2024-10-27T07:37:11.159Z"
   },
   {
    "duration": 20,
    "start_time": "2024-10-27T07:37:11.211Z"
   },
   {
    "duration": 42,
    "start_time": "2024-10-27T07:50:16.041Z"
   },
   {
    "duration": 6,
    "start_time": "2024-10-27T07:50:17.898Z"
   },
   {
    "duration": 2580,
    "start_time": "2024-10-27T07:50:28.819Z"
   },
   {
    "duration": 1479,
    "start_time": "2024-10-27T07:50:31.401Z"
   },
   {
    "duration": 509,
    "start_time": "2024-10-27T07:50:32.881Z"
   },
   {
    "duration": 36,
    "start_time": "2024-10-27T07:50:33.392Z"
   },
   {
    "duration": 27102,
    "start_time": "2024-10-27T07:50:33.429Z"
   },
   {
    "duration": 9054,
    "start_time": "2024-10-27T07:51:00.532Z"
   },
   {
    "duration": 56,
    "start_time": "2024-10-27T07:51:09.588Z"
   },
   {
    "duration": 344,
    "start_time": "2024-10-27T07:51:09.646Z"
   },
   {
    "duration": 27,
    "start_time": "2024-10-27T07:51:09.992Z"
   },
   {
    "duration": 405,
    "start_time": "2024-10-27T07:51:10.021Z"
   },
   {
    "duration": 16,
    "start_time": "2024-10-27T07:51:10.428Z"
   },
   {
    "duration": 71,
    "start_time": "2024-10-27T07:51:10.445Z"
   },
   {
    "duration": 13454,
    "start_time": "2024-10-27T07:51:10.517Z"
   },
   {
    "duration": 7,
    "start_time": "2024-10-27T07:51:23.972Z"
   },
   {
    "duration": 78,
    "start_time": "2024-10-27T07:51:23.981Z"
   },
   {
    "duration": 105,
    "start_time": "2024-10-27T07:51:24.061Z"
   },
   {
    "duration": 73,
    "start_time": "2024-10-27T07:51:24.167Z"
   },
   {
    "duration": 14460,
    "start_time": "2024-10-27T07:51:24.242Z"
   },
   {
    "duration": 1154,
    "start_time": "2024-10-27T07:51:38.704Z"
   },
   {
    "duration": 19449,
    "start_time": "2024-10-27T07:51:39.859Z"
   },
   {
    "duration": 20,
    "start_time": "2024-10-27T07:51:59.309Z"
   },
   {
    "duration": 17,
    "start_time": "2024-10-27T07:51:59.330Z"
   },
   {
    "duration": 28,
    "start_time": "2024-10-27T07:51:59.348Z"
   },
   {
    "duration": 8,
    "start_time": "2024-10-27T07:51:59.377Z"
   },
   {
    "duration": 49,
    "start_time": "2024-10-27T07:51:59.386Z"
   },
   {
    "duration": 62,
    "start_time": "2024-10-27T07:51:59.437Z"
   },
   {
    "duration": 57,
    "start_time": "2024-10-27T07:51:59.501Z"
   },
   {
    "duration": 832,
    "start_time": "2024-10-27T07:51:59.562Z"
   },
   {
    "duration": 18,
    "start_time": "2024-10-27T07:52:00.395Z"
   },
   {
    "duration": 46,
    "start_time": "2024-10-27T07:52:00.414Z"
   },
   {
    "duration": 11,
    "start_time": "2024-10-27T07:52:00.461Z"
   },
   {
    "duration": 11,
    "start_time": "2024-10-27T07:52:00.473Z"
   },
   {
    "duration": 20,
    "start_time": "2024-10-27T07:52:00.485Z"
   },
   {
    "duration": 35,
    "start_time": "2024-10-27T07:52:00.507Z"
   },
   {
    "duration": 18,
    "start_time": "2024-10-27T07:52:00.544Z"
   },
   {
    "duration": 2566,
    "start_time": "2024-10-27T07:53:10.970Z"
   },
   {
    "duration": 1402,
    "start_time": "2024-10-27T07:53:13.538Z"
   },
   {
    "duration": 377,
    "start_time": "2024-10-27T07:53:14.941Z"
   },
   {
    "duration": 31,
    "start_time": "2024-10-27T07:53:15.320Z"
   },
   {
    "duration": 30090,
    "start_time": "2024-10-27T07:53:15.353Z"
   },
   {
    "duration": 9218,
    "start_time": "2024-10-27T07:53:45.445Z"
   },
   {
    "duration": 61,
    "start_time": "2024-10-27T07:53:54.664Z"
   },
   {
    "duration": 313,
    "start_time": "2024-10-27T07:53:54.727Z"
   },
   {
    "duration": 17,
    "start_time": "2024-10-27T07:53:55.041Z"
   },
   {
    "duration": 309,
    "start_time": "2024-10-27T07:53:55.060Z"
   },
   {
    "duration": 17,
    "start_time": "2024-10-27T07:53:55.370Z"
   },
   {
    "duration": 71,
    "start_time": "2024-10-27T07:53:55.389Z"
   },
   {
    "duration": 13857,
    "start_time": "2024-10-27T07:53:55.462Z"
   },
   {
    "duration": 7,
    "start_time": "2024-10-27T07:54:09.321Z"
   },
   {
    "duration": 67,
    "start_time": "2024-10-27T07:54:09.329Z"
   },
   {
    "duration": 120,
    "start_time": "2024-10-27T07:54:09.398Z"
   },
   {
    "duration": 63,
    "start_time": "2024-10-27T07:54:09.520Z"
   },
   {
    "duration": 14772,
    "start_time": "2024-10-27T07:54:09.585Z"
   },
   {
    "duration": 1197,
    "start_time": "2024-10-27T07:54:24.358Z"
   },
   {
    "duration": 20342,
    "start_time": "2024-10-27T07:54:25.557Z"
   },
   {
    "duration": 26,
    "start_time": "2024-10-27T07:54:45.900Z"
   },
   {
    "duration": 8,
    "start_time": "2024-10-27T07:54:45.928Z"
   },
   {
    "duration": 28,
    "start_time": "2024-10-27T07:54:45.938Z"
   },
   {
    "duration": 8,
    "start_time": "2024-10-27T07:54:45.967Z"
   },
   {
    "duration": 89,
    "start_time": "2024-10-27T07:54:45.977Z"
   },
   {
    "duration": 64,
    "start_time": "2024-10-27T07:54:46.068Z"
   },
   {
    "duration": 46,
    "start_time": "2024-10-27T07:54:46.134Z"
   },
   {
    "duration": 843,
    "start_time": "2024-10-27T07:54:46.182Z"
   },
   {
    "duration": 13,
    "start_time": "2024-10-27T07:54:47.027Z"
   },
   {
    "duration": 94,
    "start_time": "2024-10-27T07:54:47.041Z"
   },
   {
    "duration": 7,
    "start_time": "2024-10-27T07:54:47.137Z"
   },
   {
    "duration": 9,
    "start_time": "2024-10-27T07:54:47.145Z"
   },
   {
    "duration": 5,
    "start_time": "2024-10-27T07:54:47.155Z"
   },
   {
    "duration": 60,
    "start_time": "2024-10-27T07:54:47.161Z"
   },
   {
    "duration": 21,
    "start_time": "2024-10-27T07:54:47.223Z"
   },
   {
    "duration": 46,
    "start_time": "2024-10-27T07:57:55.827Z"
   },
   {
    "duration": 2850,
    "start_time": "2024-10-27T07:58:10.058Z"
   },
   {
    "duration": 1554,
    "start_time": "2024-10-27T07:58:12.910Z"
   },
   {
    "duration": 412,
    "start_time": "2024-10-27T07:58:14.466Z"
   },
   {
    "duration": 30,
    "start_time": "2024-10-27T07:58:14.879Z"
   },
   {
    "duration": 27219,
    "start_time": "2024-10-27T07:58:14.911Z"
   },
   {
    "duration": 8998,
    "start_time": "2024-10-27T07:58:42.131Z"
   },
   {
    "duration": 64,
    "start_time": "2024-10-27T07:58:51.130Z"
   },
   {
    "duration": 301,
    "start_time": "2024-10-27T07:58:51.196Z"
   },
   {
    "duration": 25,
    "start_time": "2024-10-27T07:58:51.498Z"
   },
   {
    "duration": 318,
    "start_time": "2024-10-27T07:58:51.525Z"
   },
   {
    "duration": 18,
    "start_time": "2024-10-27T07:58:51.845Z"
   },
   {
    "duration": 68,
    "start_time": "2024-10-27T07:58:51.864Z"
   },
   {
    "duration": 13492,
    "start_time": "2024-10-27T07:58:51.933Z"
   },
   {
    "duration": 7,
    "start_time": "2024-10-27T07:59:05.428Z"
   },
   {
    "duration": 77,
    "start_time": "2024-10-27T07:59:05.436Z"
   },
   {
    "duration": 107,
    "start_time": "2024-10-27T07:59:05.514Z"
   },
   {
    "duration": 64,
    "start_time": "2024-10-27T07:59:05.623Z"
   },
   {
    "duration": 14379,
    "start_time": "2024-10-27T07:59:05.689Z"
   },
   {
    "duration": 1159,
    "start_time": "2024-10-27T07:59:20.070Z"
   },
   {
    "duration": 19569,
    "start_time": "2024-10-27T07:59:21.231Z"
   },
   {
    "duration": 25,
    "start_time": "2024-10-27T07:59:40.802Z"
   },
   {
    "duration": 8,
    "start_time": "2024-10-27T07:59:40.829Z"
   },
   {
    "duration": 36,
    "start_time": "2024-10-27T07:59:40.838Z"
   },
   {
    "duration": 8,
    "start_time": "2024-10-27T07:59:40.875Z"
   },
   {
    "duration": 46,
    "start_time": "2024-10-27T07:59:40.884Z"
   },
   {
    "duration": 58,
    "start_time": "2024-10-27T07:59:40.931Z"
   },
   {
    "duration": 57,
    "start_time": "2024-10-27T07:59:40.990Z"
   },
   {
    "duration": 838,
    "start_time": "2024-10-27T07:59:41.048Z"
   },
   {
    "duration": 12,
    "start_time": "2024-10-27T07:59:41.887Z"
   },
   {
    "duration": 26,
    "start_time": "2024-10-27T07:59:41.900Z"
   },
   {
    "duration": 12,
    "start_time": "2024-10-27T07:59:41.928Z"
   },
   {
    "duration": 6,
    "start_time": "2024-10-27T07:59:41.942Z"
   },
   {
    "duration": 3,
    "start_time": "2024-10-27T07:59:41.949Z"
   },
   {
    "duration": 34,
    "start_time": "2024-10-27T07:59:41.953Z"
   },
   {
    "duration": 1,
    "start_time": "2024-10-27T07:59:41.989Z"
   },
   {
    "duration": 37,
    "start_time": "2024-10-27T07:59:41.992Z"
   },
   {
    "duration": 45,
    "start_time": "2024-10-27T08:04:28.624Z"
   },
   {
    "duration": 2625,
    "start_time": "2024-10-27T08:04:52.941Z"
   },
   {
    "duration": 1381,
    "start_time": "2024-10-27T08:04:55.568Z"
   },
   {
    "duration": 410,
    "start_time": "2024-10-27T08:04:56.951Z"
   },
   {
    "duration": 32,
    "start_time": "2024-10-27T08:04:57.363Z"
   },
   {
    "duration": 29063,
    "start_time": "2024-10-27T08:04:57.397Z"
   },
   {
    "duration": 9149,
    "start_time": "2024-10-27T08:05:26.462Z"
   },
   {
    "duration": 65,
    "start_time": "2024-10-27T08:05:35.612Z"
   },
   {
    "duration": 314,
    "start_time": "2024-10-27T08:05:35.678Z"
   },
   {
    "duration": 23,
    "start_time": "2024-10-27T08:05:35.994Z"
   },
   {
    "duration": 425,
    "start_time": "2024-10-27T08:05:36.019Z"
   },
   {
    "duration": 16,
    "start_time": "2024-10-27T08:05:36.446Z"
   },
   {
    "duration": 68,
    "start_time": "2024-10-27T08:05:36.464Z"
   },
   {
    "duration": 13481,
    "start_time": "2024-10-27T08:05:36.533Z"
   },
   {
    "duration": 7,
    "start_time": "2024-10-27T08:05:50.016Z"
   },
   {
    "duration": 81,
    "start_time": "2024-10-27T08:05:50.024Z"
   },
   {
    "duration": 101,
    "start_time": "2024-10-27T08:05:50.107Z"
   },
   {
    "duration": 62,
    "start_time": "2024-10-27T08:05:50.212Z"
   },
   {
    "duration": 14375,
    "start_time": "2024-10-27T08:05:50.276Z"
   },
   {
    "duration": 1162,
    "start_time": "2024-10-27T08:06:04.653Z"
   },
   {
    "duration": 19660,
    "start_time": "2024-10-27T08:06:05.817Z"
   },
   {
    "duration": 18,
    "start_time": "2024-10-27T08:06:25.479Z"
   },
   {
    "duration": 18,
    "start_time": "2024-10-27T08:06:25.498Z"
   },
   {
    "duration": 28,
    "start_time": "2024-10-27T08:06:25.518Z"
   },
   {
    "duration": 8,
    "start_time": "2024-10-27T08:06:25.547Z"
   },
   {
    "duration": 40,
    "start_time": "2024-10-27T08:06:25.556Z"
   },
   {
    "duration": 75,
    "start_time": "2024-10-27T08:06:25.597Z"
   },
   {
    "duration": 53,
    "start_time": "2024-10-27T08:06:25.674Z"
   },
   {
    "duration": 829,
    "start_time": "2024-10-27T08:06:25.731Z"
   },
   {
    "duration": 12,
    "start_time": "2024-10-27T08:06:26.561Z"
   },
   {
    "duration": 20,
    "start_time": "2024-10-27T08:06:26.574Z"
   },
   {
    "duration": 18,
    "start_time": "2024-10-27T08:06:26.596Z"
   },
   {
    "duration": 7,
    "start_time": "2024-10-27T08:06:26.615Z"
   },
   {
    "duration": 3,
    "start_time": "2024-10-27T08:06:26.623Z"
   },
   {
    "duration": 228,
    "start_time": "2024-10-27T08:06:26.627Z"
   },
   {
    "duration": 53,
    "start_time": "2024-10-27T08:06:26.856Z"
   },
   {
    "duration": 0,
    "start_time": "2024-10-27T08:06:26.910Z"
   },
   {
    "duration": 0,
    "start_time": "2024-10-27T08:06:26.911Z"
   },
   {
    "duration": 0,
    "start_time": "2024-10-27T08:06:26.912Z"
   },
   {
    "duration": 0,
    "start_time": "2024-10-27T08:06:26.914Z"
   },
   {
    "duration": 0,
    "start_time": "2024-10-27T08:06:26.914Z"
   },
   {
    "duration": 116985,
    "start_time": "2024-10-27T08:17:08.379Z"
   },
   {
    "duration": 123359,
    "start_time": "2024-10-27T08:21:29.366Z"
   },
   {
    "duration": 16,
    "start_time": "2024-10-27T08:23:59.444Z"
   },
   {
    "duration": 22,
    "start_time": "2024-10-27T08:24:06.123Z"
   },
   {
    "duration": 15,
    "start_time": "2024-10-27T08:24:37.665Z"
   },
   {
    "duration": 21,
    "start_time": "2024-10-27T08:27:58.772Z"
   },
   {
    "duration": 57,
    "start_time": "2024-10-27T08:29:15.396Z"
   },
   {
    "duration": 2609,
    "start_time": "2024-10-27T08:29:36.073Z"
   },
   {
    "duration": 1519,
    "start_time": "2024-10-27T08:29:38.685Z"
   },
   {
    "duration": 560,
    "start_time": "2024-10-27T08:29:40.206Z"
   },
   {
    "duration": 46,
    "start_time": "2024-10-27T08:29:40.768Z"
   },
   {
    "duration": 30409,
    "start_time": "2024-10-27T08:29:40.816Z"
   },
   {
    "duration": 9358,
    "start_time": "2024-10-27T08:30:11.227Z"
   },
   {
    "duration": 90,
    "start_time": "2024-10-27T08:30:20.586Z"
   },
   {
    "duration": 386,
    "start_time": "2024-10-27T08:30:20.678Z"
   },
   {
    "duration": 32,
    "start_time": "2024-10-27T08:30:21.066Z"
   },
   {
    "duration": 493,
    "start_time": "2024-10-27T08:30:21.100Z"
   },
   {
    "duration": 24,
    "start_time": "2024-10-27T08:30:21.594Z"
   },
   {
    "duration": 61,
    "start_time": "2024-10-27T08:30:21.620Z"
   },
   {
    "duration": 13917,
    "start_time": "2024-10-27T08:30:21.682Z"
   },
   {
    "duration": 8,
    "start_time": "2024-10-27T08:30:35.609Z"
   },
   {
    "duration": 78,
    "start_time": "2024-10-27T08:30:35.619Z"
   },
   {
    "duration": 114,
    "start_time": "2024-10-27T08:30:35.699Z"
   },
   {
    "duration": 74,
    "start_time": "2024-10-27T08:30:35.814Z"
   },
   {
    "duration": 14507,
    "start_time": "2024-10-27T08:30:35.889Z"
   },
   {
    "duration": 1158,
    "start_time": "2024-10-27T08:30:50.397Z"
   },
   {
    "duration": 19797,
    "start_time": "2024-10-27T08:30:51.557Z"
   },
   {
    "duration": 19,
    "start_time": "2024-10-27T08:31:11.355Z"
   },
   {
    "duration": 9,
    "start_time": "2024-10-27T08:31:11.375Z"
   },
   {
    "duration": 72,
    "start_time": "2024-10-27T08:31:11.386Z"
   },
   {
    "duration": 9,
    "start_time": "2024-10-27T08:31:11.459Z"
   },
   {
    "duration": 48,
    "start_time": "2024-10-27T08:31:11.470Z"
   },
   {
    "duration": 70,
    "start_time": "2024-10-27T08:31:11.520Z"
   },
   {
    "duration": 56,
    "start_time": "2024-10-27T08:31:11.592Z"
   },
   {
    "duration": 834,
    "start_time": "2024-10-27T08:31:11.649Z"
   },
   {
    "duration": 12,
    "start_time": "2024-10-27T08:31:12.484Z"
   },
   {
    "duration": 23,
    "start_time": "2024-10-27T08:31:12.497Z"
   },
   {
    "duration": 12,
    "start_time": "2024-10-27T08:31:12.521Z"
   },
   {
    "duration": 9,
    "start_time": "2024-10-27T08:31:12.534Z"
   },
   {
    "duration": 2,
    "start_time": "2024-10-27T08:31:12.544Z"
   },
   {
    "duration": 244,
    "start_time": "2024-10-27T08:31:12.548Z"
   },
   {
    "duration": 119388,
    "start_time": "2024-10-27T08:31:12.793Z"
   },
   {
    "duration": 125053,
    "start_time": "2024-10-27T08:33:12.183Z"
   },
   {
    "duration": 17,
    "start_time": "2024-10-27T08:35:17.237Z"
   },
   {
    "duration": 25,
    "start_time": "2024-10-27T08:35:17.256Z"
   },
   {
    "duration": 30,
    "start_time": "2024-10-27T08:35:17.282Z"
   },
   {
    "duration": 32,
    "start_time": "2024-10-27T08:35:17.313Z"
   },
   {
    "duration": 21,
    "start_time": "2024-10-27T08:35:17.350Z"
   },
   {
    "duration": 36,
    "start_time": "2024-10-27T08:39:19.240Z"
   },
   {
    "duration": 129,
    "start_time": "2024-10-27T09:08:11.045Z"
   },
   {
    "duration": 9,
    "start_time": "2024-10-27T09:08:26.779Z"
   },
   {
    "duration": 37,
    "start_time": "2024-10-27T09:08:34.005Z"
   },
   {
    "duration": 52,
    "start_time": "2024-10-27T09:14:55.211Z"
   },
   {
    "duration": 2570,
    "start_time": "2024-10-27T09:16:12.878Z"
   },
   {
    "duration": 1414,
    "start_time": "2024-10-27T09:16:15.450Z"
   },
   {
    "duration": 506,
    "start_time": "2024-10-27T09:16:16.866Z"
   },
   {
    "duration": 30,
    "start_time": "2024-10-27T09:16:17.374Z"
   },
   {
    "duration": 30712,
    "start_time": "2024-10-27T09:16:17.406Z"
   },
   {
    "duration": 9099,
    "start_time": "2024-10-27T09:16:48.119Z"
   },
   {
    "duration": 128,
    "start_time": "2024-10-27T09:16:57.220Z"
   },
   {
    "duration": 381,
    "start_time": "2024-10-27T09:16:57.350Z"
   },
   {
    "duration": 18,
    "start_time": "2024-10-27T09:16:57.732Z"
   },
   {
    "duration": 391,
    "start_time": "2024-10-27T09:16:57.752Z"
   },
   {
    "duration": 17,
    "start_time": "2024-10-27T09:16:58.144Z"
   },
   {
    "duration": 72,
    "start_time": "2024-10-27T09:16:58.162Z"
   },
   {
    "duration": 13560,
    "start_time": "2024-10-27T09:16:58.235Z"
   },
   {
    "duration": 21,
    "start_time": "2024-10-27T09:17:11.797Z"
   },
   {
    "duration": 70,
    "start_time": "2024-10-27T09:17:11.819Z"
   },
   {
    "duration": 109,
    "start_time": "2024-10-27T09:17:11.890Z"
   },
   {
    "duration": 65,
    "start_time": "2024-10-27T09:17:12.001Z"
   },
   {
    "duration": 14416,
    "start_time": "2024-10-27T09:17:12.067Z"
   },
   {
    "duration": 1227,
    "start_time": "2024-10-27T09:17:26.485Z"
   },
   {
    "duration": 19634,
    "start_time": "2024-10-27T09:17:27.713Z"
   },
   {
    "duration": 18,
    "start_time": "2024-10-27T09:17:47.348Z"
   },
   {
    "duration": 29,
    "start_time": "2024-10-27T09:17:47.367Z"
   },
   {
    "duration": 38,
    "start_time": "2024-10-27T09:17:47.398Z"
   },
   {
    "duration": 8,
    "start_time": "2024-10-27T09:17:47.437Z"
   },
   {
    "duration": 34,
    "start_time": "2024-10-27T09:17:47.446Z"
   },
   {
    "duration": 66,
    "start_time": "2024-10-27T09:17:47.481Z"
   },
   {
    "duration": 47,
    "start_time": "2024-10-27T09:17:47.549Z"
   },
   {
    "duration": 808,
    "start_time": "2024-10-27T09:17:47.614Z"
   },
   {
    "duration": 16,
    "start_time": "2024-10-27T09:17:48.423Z"
   },
   {
    "duration": 23,
    "start_time": "2024-10-27T09:17:48.440Z"
   },
   {
    "duration": 7,
    "start_time": "2024-10-27T09:17:48.465Z"
   },
   {
    "duration": 30,
    "start_time": "2024-10-27T09:17:48.473Z"
   },
   {
    "duration": 3,
    "start_time": "2024-10-27T09:17:48.504Z"
   },
   {
    "duration": 229,
    "start_time": "2024-10-27T09:17:48.508Z"
   },
   {
    "duration": 117647,
    "start_time": "2024-10-27T09:17:48.738Z"
   },
   {
    "duration": 124260,
    "start_time": "2024-10-27T09:19:46.387Z"
   },
   {
    "duration": 16,
    "start_time": "2024-10-27T09:21:50.648Z"
   },
   {
    "duration": 21,
    "start_time": "2024-10-27T09:21:50.665Z"
   },
   {
    "duration": 35,
    "start_time": "2024-10-27T09:21:50.688Z"
   },
   {
    "duration": 33,
    "start_time": "2024-10-27T09:21:50.724Z"
   },
   {
    "duration": 33,
    "start_time": "2024-10-27T09:21:50.758Z"
   },
   {
    "duration": 22,
    "start_time": "2024-10-27T09:21:50.792Z"
   },
   {
    "duration": 20,
    "start_time": "2024-10-27T09:21:50.816Z"
   },
   {
    "duration": 45,
    "start_time": "2024-10-27T09:40:18.084Z"
   },
   {
    "duration": 2611,
    "start_time": "2024-10-27T09:40:34.569Z"
   },
   {
    "duration": 1490,
    "start_time": "2024-10-27T09:40:37.183Z"
   },
   {
    "duration": 515,
    "start_time": "2024-10-27T09:40:38.674Z"
   },
   {
    "duration": 34,
    "start_time": "2024-10-27T09:40:39.191Z"
   },
   {
    "duration": 35487,
    "start_time": "2024-10-27T09:40:39.226Z"
   },
   {
    "duration": 9240,
    "start_time": "2024-10-27T09:41:14.715Z"
   },
   {
    "duration": 113,
    "start_time": "2024-10-27T09:41:23.957Z"
   },
   {
    "duration": 346,
    "start_time": "2024-10-27T09:41:24.072Z"
   },
   {
    "duration": 18,
    "start_time": "2024-10-27T09:41:24.420Z"
   },
   {
    "duration": 379,
    "start_time": "2024-10-27T09:41:24.441Z"
   },
   {
    "duration": 19,
    "start_time": "2024-10-27T09:41:24.821Z"
   },
   {
    "duration": 72,
    "start_time": "2024-10-27T09:41:24.841Z"
   },
   {
    "duration": 13768,
    "start_time": "2024-10-27T09:41:24.914Z"
   },
   {
    "duration": 8,
    "start_time": "2024-10-27T09:41:38.683Z"
   },
   {
    "duration": 74,
    "start_time": "2024-10-27T09:41:38.692Z"
   },
   {
    "duration": 102,
    "start_time": "2024-10-27T09:41:38.768Z"
   },
   {
    "duration": 70,
    "start_time": "2024-10-27T09:41:38.871Z"
   },
   {
    "duration": 14273,
    "start_time": "2024-10-27T09:41:38.943Z"
   },
   {
    "duration": 1168,
    "start_time": "2024-10-27T09:41:53.218Z"
   },
   {
    "duration": 19768,
    "start_time": "2024-10-27T09:41:54.387Z"
   },
   {
    "duration": 19,
    "start_time": "2024-10-27T09:42:14.157Z"
   },
   {
    "duration": 8,
    "start_time": "2024-10-27T09:42:14.178Z"
   },
   {
    "duration": 44,
    "start_time": "2024-10-27T09:42:14.187Z"
   },
   {
    "duration": 8,
    "start_time": "2024-10-27T09:42:14.233Z"
   },
   {
    "duration": 37,
    "start_time": "2024-10-27T09:42:14.242Z"
   },
   {
    "duration": 72,
    "start_time": "2024-10-27T09:42:14.281Z"
   },
   {
    "duration": 57,
    "start_time": "2024-10-27T09:42:14.355Z"
   },
   {
    "duration": 810,
    "start_time": "2024-10-27T09:42:14.415Z"
   },
   {
    "duration": 13,
    "start_time": "2024-10-27T09:42:15.227Z"
   },
   {
    "duration": 18,
    "start_time": "2024-10-27T09:42:15.242Z"
   },
   {
    "duration": 7,
    "start_time": "2024-10-27T09:42:15.262Z"
   },
   {
    "duration": 7,
    "start_time": "2024-10-27T09:42:15.271Z"
   },
   {
    "duration": 32,
    "start_time": "2024-10-27T09:42:15.280Z"
   },
   {
    "duration": 233,
    "start_time": "2024-10-27T09:42:15.314Z"
   },
   {
    "duration": 117231,
    "start_time": "2024-10-27T09:42:15.548Z"
   },
   {
    "duration": 128269,
    "start_time": "2024-10-27T09:44:12.781Z"
   },
   {
    "duration": 16,
    "start_time": "2024-10-27T09:46:21.052Z"
   },
   {
    "duration": 26,
    "start_time": "2024-10-27T09:46:21.069Z"
   },
   {
    "duration": 49,
    "start_time": "2024-10-27T09:46:21.097Z"
   },
   {
    "duration": 43,
    "start_time": "2024-10-27T09:46:21.147Z"
   },
   {
    "duration": 46,
    "start_time": "2024-10-27T09:46:21.191Z"
   },
   {
    "duration": 9,
    "start_time": "2024-10-27T09:46:21.238Z"
   },
   {
    "duration": 20,
    "start_time": "2024-10-27T09:46:21.248Z"
   },
   {
    "duration": 77160,
    "start_time": "2024-10-27T09:46:21.270Z"
   },
   {
    "duration": 3271,
    "start_time": "2024-10-27T17:17:50.789Z"
   },
   {
    "duration": 1634,
    "start_time": "2024-10-27T17:17:54.062Z"
   },
   {
    "duration": 527,
    "start_time": "2024-10-27T17:17:55.698Z"
   },
   {
    "duration": 33,
    "start_time": "2024-10-27T17:17:56.226Z"
   },
   {
    "duration": 34864,
    "start_time": "2024-10-27T17:17:56.261Z"
   },
   {
    "duration": 11075,
    "start_time": "2024-10-27T17:18:31.127Z"
   },
   {
    "duration": 94,
    "start_time": "2024-10-27T17:18:42.204Z"
   },
   {
    "duration": 410,
    "start_time": "2024-10-27T17:18:42.300Z"
   },
   {
    "duration": 23,
    "start_time": "2024-10-27T17:18:42.712Z"
   },
   {
    "duration": 510,
    "start_time": "2024-10-27T17:18:42.736Z"
   },
   {
    "duration": 19,
    "start_time": "2024-10-27T17:18:43.248Z"
   },
   {
    "duration": 78,
    "start_time": "2024-10-27T17:18:43.268Z"
   },
   {
    "duration": 16164,
    "start_time": "2024-10-27T17:18:43.347Z"
   },
   {
    "duration": 8,
    "start_time": "2024-10-27T17:18:59.520Z"
   },
   {
    "duration": 66,
    "start_time": "2024-10-27T17:18:59.529Z"
   },
   {
    "duration": 117,
    "start_time": "2024-10-27T17:18:59.597Z"
   },
   {
    "duration": 63,
    "start_time": "2024-10-27T17:18:59.716Z"
   },
   {
    "duration": 17072,
    "start_time": "2024-10-27T17:18:59.781Z"
   },
   {
    "duration": 1167,
    "start_time": "2024-10-27T17:19:16.854Z"
   },
   {
    "duration": 20558,
    "start_time": "2024-10-27T17:19:18.024Z"
   },
   {
    "duration": 21,
    "start_time": "2024-10-27T17:19:38.584Z"
   },
   {
    "duration": 21,
    "start_time": "2024-10-27T17:19:38.607Z"
   },
   {
    "duration": 39,
    "start_time": "2024-10-27T17:19:38.629Z"
   },
   {
    "duration": 9,
    "start_time": "2024-10-27T17:19:38.669Z"
   },
   {
    "duration": 59,
    "start_time": "2024-10-27T17:19:38.680Z"
   },
   {
    "duration": 81,
    "start_time": "2024-10-27T17:19:38.740Z"
   },
   {
    "duration": 56,
    "start_time": "2024-10-27T17:19:38.823Z"
   },
   {
    "duration": 929,
    "start_time": "2024-10-27T17:19:38.881Z"
   },
   {
    "duration": 19,
    "start_time": "2024-10-27T17:19:39.812Z"
   },
   {
    "duration": 75,
    "start_time": "2024-10-27T17:19:39.832Z"
   },
   {
    "duration": 8,
    "start_time": "2024-10-27T17:19:39.909Z"
   },
   {
    "duration": 23,
    "start_time": "2024-10-27T17:19:39.919Z"
   },
   {
    "duration": 20,
    "start_time": "2024-10-27T17:19:39.944Z"
   },
   {
    "duration": 240,
    "start_time": "2024-10-27T17:19:39.966Z"
   },
   {
    "duration": 122630,
    "start_time": "2024-10-27T17:19:40.208Z"
   },
   {
    "duration": 147227,
    "start_time": "2024-10-27T17:21:42.839Z"
   },
   {
    "duration": 20,
    "start_time": "2024-10-27T17:24:10.067Z"
   },
   {
    "duration": 41,
    "start_time": "2024-10-27T17:24:10.088Z"
   },
   {
    "duration": 23,
    "start_time": "2024-10-27T17:24:10.131Z"
   },
   {
    "duration": 40,
    "start_time": "2024-10-27T17:24:10.156Z"
   },
   {
    "duration": 61,
    "start_time": "2024-10-27T17:24:10.200Z"
   },
   {
    "duration": 12,
    "start_time": "2024-10-27T17:24:10.262Z"
   },
   {
    "duration": 45,
    "start_time": "2024-10-27T17:24:10.276Z"
   },
   {
    "duration": 80834,
    "start_time": "2024-10-27T17:24:10.323Z"
   },
   {
    "duration": 89,
    "start_time": "2024-10-27T17:29:43.273Z"
   },
   {
    "duration": 5,
    "start_time": "2024-10-27T17:40:25.513Z"
   },
   {
    "duration": 7,
    "start_time": "2024-10-27T17:43:26.412Z"
   },
   {
    "duration": 5,
    "start_time": "2024-10-27T17:45:54.792Z"
   },
   {
    "duration": 7,
    "start_time": "2024-10-27T17:52:20.387Z"
   },
   {
    "duration": 938,
    "start_time": "2024-10-27T17:52:33.674Z"
   },
   {
    "duration": 832,
    "start_time": "2024-10-27T17:52:43.959Z"
   },
   {
    "duration": 2273,
    "start_time": "2024-10-27T17:52:49.272Z"
   },
   {
    "duration": 1471,
    "start_time": "2024-10-27T17:52:51.547Z"
   },
   {
    "duration": 540,
    "start_time": "2024-10-27T17:52:53.020Z"
   },
   {
    "duration": 33,
    "start_time": "2024-10-27T17:52:53.562Z"
   },
   {
    "duration": 33947,
    "start_time": "2024-10-27T17:52:53.596Z"
   },
   {
    "duration": 10877,
    "start_time": "2024-10-27T17:53:27.544Z"
   },
   {
    "duration": 87,
    "start_time": "2024-10-27T17:53:38.422Z"
   },
   {
    "duration": 516,
    "start_time": "2024-10-27T17:53:38.510Z"
   },
   {
    "duration": 19,
    "start_time": "2024-10-27T17:53:39.028Z"
   },
   {
    "duration": 511,
    "start_time": "2024-10-27T17:53:39.050Z"
   },
   {
    "duration": 19,
    "start_time": "2024-10-27T17:53:39.563Z"
   },
   {
    "duration": 74,
    "start_time": "2024-10-27T17:53:39.584Z"
   },
   {
    "duration": 15848,
    "start_time": "2024-10-27T17:53:39.660Z"
   },
   {
    "duration": 11,
    "start_time": "2024-10-27T17:53:55.510Z"
   },
   {
    "duration": 99,
    "start_time": "2024-10-27T17:53:55.523Z"
   },
   {
    "duration": 111,
    "start_time": "2024-10-27T17:53:55.623Z"
   },
   {
    "duration": 70,
    "start_time": "2024-10-27T17:53:55.736Z"
   },
   {
    "duration": 16885,
    "start_time": "2024-10-27T17:53:55.807Z"
   },
   {
    "duration": 1128,
    "start_time": "2024-10-27T17:54:12.693Z"
   },
   {
    "duration": 20087,
    "start_time": "2024-10-27T17:54:13.822Z"
   },
   {
    "duration": 24,
    "start_time": "2024-10-27T17:54:33.911Z"
   },
   {
    "duration": 9,
    "start_time": "2024-10-27T17:54:33.936Z"
   },
   {
    "duration": 53,
    "start_time": "2024-10-27T17:54:33.946Z"
   },
   {
    "duration": 9,
    "start_time": "2024-10-27T17:54:34.001Z"
   },
   {
    "duration": 66,
    "start_time": "2024-10-27T17:54:34.012Z"
   },
   {
    "duration": 69,
    "start_time": "2024-10-27T17:54:34.080Z"
   },
   {
    "duration": 104,
    "start_time": "2024-10-27T17:54:34.150Z"
   },
   {
    "duration": 896,
    "start_time": "2024-10-27T17:54:34.257Z"
   },
   {
    "duration": 13,
    "start_time": "2024-10-27T17:54:35.155Z"
   },
   {
    "duration": 21,
    "start_time": "2024-10-27T17:54:35.170Z"
   },
   {
    "duration": 13,
    "start_time": "2024-10-27T17:54:35.193Z"
   },
   {
    "duration": 15,
    "start_time": "2024-10-27T17:54:35.220Z"
   },
   {
    "duration": 22,
    "start_time": "2024-10-27T17:54:35.237Z"
   },
   {
    "duration": 313,
    "start_time": "2024-10-27T17:54:35.260Z"
   },
   {
    "duration": 129069,
    "start_time": "2024-10-27T17:54:35.574Z"
   },
   {
    "duration": 145434,
    "start_time": "2024-10-27T17:56:44.645Z"
   },
   {
    "duration": 19,
    "start_time": "2024-10-27T17:59:10.080Z"
   },
   {
    "duration": 42,
    "start_time": "2024-10-27T17:59:10.101Z"
   },
   {
    "duration": 92,
    "start_time": "2024-10-27T17:59:10.144Z"
   },
   {
    "duration": 40,
    "start_time": "2024-10-27T17:59:10.237Z"
   },
   {
    "duration": 54,
    "start_time": "2024-10-27T17:59:10.278Z"
   },
   {
    "duration": 13,
    "start_time": "2024-10-27T17:59:10.334Z"
   },
   {
    "duration": 16,
    "start_time": "2024-10-27T17:59:10.348Z"
   },
   {
    "duration": 44,
    "start_time": "2024-10-27T17:59:10.366Z"
   },
   {
    "duration": 37,
    "start_time": "2024-10-27T17:59:10.411Z"
   },
   {
    "duration": 52,
    "start_time": "2024-10-27T17:59:10.450Z"
   },
   {
    "duration": 104,
    "start_time": "2024-10-27T17:59:10.503Z"
   },
   {
    "duration": 2367,
    "start_time": "2024-10-27T18:04:16.699Z"
   },
   {
    "duration": 1440,
    "start_time": "2024-10-27T18:04:19.068Z"
   },
   {
    "duration": 513,
    "start_time": "2024-10-27T18:04:20.509Z"
   },
   {
    "duration": 34,
    "start_time": "2024-10-27T18:04:21.023Z"
   },
   {
    "duration": 33970,
    "start_time": "2024-10-27T18:04:21.058Z"
   },
   {
    "duration": 11060,
    "start_time": "2024-10-27T18:04:55.030Z"
   },
   {
    "duration": 58,
    "start_time": "2024-10-27T18:05:06.091Z"
   },
   {
    "duration": 414,
    "start_time": "2024-10-27T18:05:06.151Z"
   },
   {
    "duration": 20,
    "start_time": "2024-10-27T18:05:06.566Z"
   },
   {
    "duration": 481,
    "start_time": "2024-10-27T18:05:06.588Z"
   },
   {
    "duration": 20,
    "start_time": "2024-10-27T18:05:07.070Z"
   },
   {
    "duration": 78,
    "start_time": "2024-10-27T18:05:07.091Z"
   },
   {
    "duration": 16263,
    "start_time": "2024-10-27T18:05:07.171Z"
   },
   {
    "duration": 10,
    "start_time": "2024-10-27T18:05:23.435Z"
   },
   {
    "duration": 86,
    "start_time": "2024-10-27T18:05:23.446Z"
   },
   {
    "duration": 105,
    "start_time": "2024-10-27T18:05:23.534Z"
   },
   {
    "duration": 65,
    "start_time": "2024-10-27T18:05:23.640Z"
   },
   {
    "duration": 17692,
    "start_time": "2024-10-27T18:05:23.707Z"
   },
   {
    "duration": 1114,
    "start_time": "2024-10-27T18:05:41.401Z"
   },
   {
    "duration": 20676,
    "start_time": "2024-10-27T18:05:42.521Z"
   },
   {
    "duration": 33,
    "start_time": "2024-10-27T18:06:03.198Z"
   },
   {
    "duration": 9,
    "start_time": "2024-10-27T18:06:03.233Z"
   },
   {
    "duration": 59,
    "start_time": "2024-10-27T18:06:03.243Z"
   },
   {
    "duration": 9,
    "start_time": "2024-10-27T18:06:03.303Z"
   },
   {
    "duration": 85,
    "start_time": "2024-10-27T18:06:03.313Z"
   },
   {
    "duration": 71,
    "start_time": "2024-10-27T18:06:03.400Z"
   },
   {
    "duration": 59,
    "start_time": "2024-10-27T18:06:03.473Z"
   },
   {
    "duration": 911,
    "start_time": "2024-10-27T18:06:03.536Z"
   },
   {
    "duration": 14,
    "start_time": "2024-10-27T18:06:04.449Z"
   },
   {
    "duration": 29,
    "start_time": "2024-10-27T18:06:04.464Z"
   },
   {
    "duration": 7,
    "start_time": "2024-10-27T18:06:04.495Z"
   },
   {
    "duration": 31,
    "start_time": "2024-10-27T18:06:04.504Z"
   },
   {
    "duration": 19,
    "start_time": "2024-10-27T18:06:04.537Z"
   },
   {
    "duration": 300,
    "start_time": "2024-10-27T18:06:04.557Z"
   },
   {
    "duration": 123377,
    "start_time": "2024-10-27T18:06:04.858Z"
   },
   {
    "duration": 145302,
    "start_time": "2024-10-27T18:08:08.237Z"
   },
   {
    "duration": 21,
    "start_time": "2024-10-27T18:10:33.540Z"
   },
   {
    "duration": 31,
    "start_time": "2024-10-27T18:10:33.563Z"
   },
   {
    "duration": 39,
    "start_time": "2024-10-27T18:10:33.596Z"
   },
   {
    "duration": 36,
    "start_time": "2024-10-27T18:10:33.636Z"
   },
   {
    "duration": 62,
    "start_time": "2024-10-27T18:10:33.674Z"
   },
   {
    "duration": 12,
    "start_time": "2024-10-27T18:10:33.738Z"
   },
   {
    "duration": 25,
    "start_time": "2024-10-27T18:10:33.752Z"
   },
   {
    "duration": 5,
    "start_time": "2024-10-27T18:10:33.779Z"
   },
   {
    "duration": 32,
    "start_time": "2024-10-27T18:10:33.785Z"
   },
   {
    "duration": 50,
    "start_time": "2024-10-27T18:10:33.818Z"
   },
   {
    "duration": 59,
    "start_time": "2024-10-27T18:10:33.870Z"
   },
   {
    "duration": 103,
    "start_time": "2024-10-27T18:10:33.931Z"
   },
   {
    "duration": 84073,
    "start_time": "2024-10-27T18:10:34.036Z"
   },
   {
    "duration": 53,
    "start_time": "2024-10-27T18:31:43.344Z"
   },
   {
    "duration": 2344,
    "start_time": "2024-10-27T18:32:53.623Z"
   },
   {
    "duration": 1618,
    "start_time": "2024-10-27T18:32:55.969Z"
   },
   {
    "duration": 558,
    "start_time": "2024-10-27T18:32:57.588Z"
   },
   {
    "duration": 36,
    "start_time": "2024-10-27T18:32:58.148Z"
   },
   {
    "duration": 38211,
    "start_time": "2024-10-27T18:32:58.186Z"
   },
   {
    "duration": 11011,
    "start_time": "2024-10-27T18:33:36.398Z"
   },
   {
    "duration": 84,
    "start_time": "2024-10-27T18:33:47.411Z"
   },
   {
    "duration": 427,
    "start_time": "2024-10-27T18:33:47.496Z"
   },
   {
    "duration": 18,
    "start_time": "2024-10-27T18:33:47.924Z"
   },
   {
    "duration": 550,
    "start_time": "2024-10-27T18:33:47.944Z"
   },
   {
    "duration": 26,
    "start_time": "2024-10-27T18:33:48.496Z"
   },
   {
    "duration": 95,
    "start_time": "2024-10-27T18:33:48.524Z"
   },
   {
    "duration": 16554,
    "start_time": "2024-10-27T18:33:48.621Z"
   },
   {
    "duration": 10,
    "start_time": "2024-10-27T18:34:05.179Z"
   },
   {
    "duration": 102,
    "start_time": "2024-10-27T18:34:05.190Z"
   },
   {
    "duration": 110,
    "start_time": "2024-10-27T18:34:05.294Z"
   },
   {
    "duration": 69,
    "start_time": "2024-10-27T18:34:05.405Z"
   },
   {
    "duration": 16905,
    "start_time": "2024-10-27T18:34:05.476Z"
   },
   {
    "duration": 1104,
    "start_time": "2024-10-27T18:34:22.382Z"
   },
   {
    "duration": 20678,
    "start_time": "2024-10-27T18:34:23.488Z"
   },
   {
    "duration": 20,
    "start_time": "2024-10-27T18:34:44.167Z"
   },
   {
    "duration": 9,
    "start_time": "2024-10-27T18:34:44.188Z"
   },
   {
    "duration": 52,
    "start_time": "2024-10-27T18:34:44.198Z"
   },
   {
    "duration": 9,
    "start_time": "2024-10-27T18:34:44.251Z"
   },
   {
    "duration": 61,
    "start_time": "2024-10-27T18:34:44.262Z"
   },
   {
    "duration": 71,
    "start_time": "2024-10-27T18:34:44.325Z"
   },
   {
    "duration": 61,
    "start_time": "2024-10-27T18:34:44.397Z"
   },
   {
    "duration": 923,
    "start_time": "2024-10-27T18:34:44.460Z"
   },
   {
    "duration": 15,
    "start_time": "2024-10-27T18:34:45.384Z"
   },
   {
    "duration": 37,
    "start_time": "2024-10-27T18:34:45.400Z"
   },
   {
    "duration": 8,
    "start_time": "2024-10-27T18:34:45.438Z"
   },
   {
    "duration": 43,
    "start_time": "2024-10-27T18:34:45.447Z"
   },
   {
    "duration": 54,
    "start_time": "2024-10-27T18:34:45.491Z"
   },
   {
    "duration": 2,
    "start_time": "2024-10-27T18:34:45.547Z"
   },
   {
    "duration": 303,
    "start_time": "2024-10-27T18:34:45.551Z"
   },
   {
    "duration": 133618,
    "start_time": "2024-10-27T18:34:45.855Z"
   },
   {
    "duration": 145911,
    "start_time": "2024-10-27T18:36:59.475Z"
   },
   {
    "duration": 23,
    "start_time": "2024-10-27T18:39:25.387Z"
   },
   {
    "duration": 32,
    "start_time": "2024-10-27T18:39:25.422Z"
   },
   {
    "duration": 23,
    "start_time": "2024-10-27T18:39:25.456Z"
   },
   {
    "duration": 66,
    "start_time": "2024-10-27T18:39:25.484Z"
   },
   {
    "duration": 49,
    "start_time": "2024-10-27T18:39:25.551Z"
   },
   {
    "duration": 25,
    "start_time": "2024-10-27T18:39:25.601Z"
   },
   {
    "duration": 6,
    "start_time": "2024-10-27T18:39:25.628Z"
   },
   {
    "duration": 16,
    "start_time": "2024-10-27T18:39:25.636Z"
   },
   {
    "duration": 22,
    "start_time": "2024-10-27T18:39:25.654Z"
   },
   {
    "duration": 52,
    "start_time": "2024-10-27T18:39:25.678Z"
   },
   {
    "duration": 28,
    "start_time": "2024-10-27T18:39:25.731Z"
   },
   {
    "duration": 113,
    "start_time": "2024-10-27T18:39:25.760Z"
   },
   {
    "duration": 84827,
    "start_time": "2024-10-27T18:39:25.874Z"
   },
   {
    "duration": 113,
    "start_time": "2024-10-27T18:45:09.123Z"
   },
   {
    "duration": 13,
    "start_time": "2024-10-27T18:45:23.225Z"
   },
   {
    "duration": 16,
    "start_time": "2024-10-27T18:50:25.400Z"
   },
   {
    "duration": 5,
    "start_time": "2024-10-27T18:53:34.953Z"
   },
   {
    "duration": 7,
    "start_time": "2024-10-27T18:53:41.575Z"
   },
   {
    "duration": 5,
    "start_time": "2024-10-27T18:54:06.131Z"
   },
   {
    "duration": 42013,
    "start_time": "2024-10-27T18:56:37.912Z"
   },
   {
    "duration": 9,
    "start_time": "2024-10-27T18:58:43.225Z"
   },
   {
    "duration": 55100,
    "start_time": "2024-10-27T19:01:05.224Z"
   },
   {
    "duration": 52495,
    "start_time": "2024-10-27T19:11:13.729Z"
   },
   {
    "duration": 10,
    "start_time": "2024-10-27T19:14:20.327Z"
   },
   {
    "duration": 90768,
    "start_time": "2024-10-27T19:14:58.456Z"
   },
   {
    "duration": 13,
    "start_time": "2024-10-27T19:17:47.825Z"
   },
   {
    "duration": 25250,
    "start_time": "2024-10-27T19:19:12.175Z"
   },
   {
    "duration": 25513,
    "start_time": "2024-10-27T19:20:23.572Z"
   },
   {
    "duration": 6,
    "start_time": "2024-10-27T19:22:16.104Z"
   },
   {
    "duration": 43438,
    "start_time": "2024-10-27T19:22:21.636Z"
   },
   {
    "duration": 44342,
    "start_time": "2024-10-27T19:25:36.361Z"
   },
   {
    "duration": 12,
    "start_time": "2024-10-27T19:28:50.025Z"
   },
   {
    "duration": 291,
    "start_time": "2024-10-27T19:29:09.312Z"
   },
   {
    "duration": 57,
    "start_time": "2024-10-27T19:31:52.530Z"
   },
   {
    "duration": 16,
    "start_time": "2024-10-27T19:32:19.579Z"
   },
   {
    "duration": 7,
    "start_time": "2024-10-27T19:32:43.963Z"
   },
   {
    "duration": 6,
    "start_time": "2024-10-27T19:33:28.843Z"
   },
   {
    "duration": 2467,
    "start_time": "2024-10-27T19:39:39.625Z"
   },
   {
    "duration": 1505,
    "start_time": "2024-10-27T19:39:42.094Z"
   },
   {
    "duration": 563,
    "start_time": "2024-10-27T19:39:43.600Z"
   },
   {
    "duration": 34,
    "start_time": "2024-10-27T19:39:44.165Z"
   },
   {
    "duration": 33879,
    "start_time": "2024-10-27T19:39:44.201Z"
   },
   {
    "duration": 10810,
    "start_time": "2024-10-27T19:40:18.082Z"
   },
   {
    "duration": 180,
    "start_time": "2024-10-27T19:40:28.893Z"
   },
   {
    "duration": 396,
    "start_time": "2024-10-27T19:40:29.075Z"
   },
   {
    "duration": 20,
    "start_time": "2024-10-27T19:40:29.473Z"
   },
   {
    "duration": 495,
    "start_time": "2024-10-27T19:40:29.496Z"
   },
   {
    "duration": 36,
    "start_time": "2024-10-27T19:40:29.994Z"
   },
   {
    "duration": 85,
    "start_time": "2024-10-27T19:40:30.032Z"
   },
   {
    "duration": 16246,
    "start_time": "2024-10-27T19:40:30.119Z"
   },
   {
    "duration": 9,
    "start_time": "2024-10-27T19:40:46.367Z"
   },
   {
    "duration": 89,
    "start_time": "2024-10-27T19:40:46.378Z"
   },
   {
    "duration": 117,
    "start_time": "2024-10-27T19:40:46.469Z"
   },
   {
    "duration": 74,
    "start_time": "2024-10-27T19:40:46.588Z"
   },
   {
    "duration": 17193,
    "start_time": "2024-10-27T19:40:46.664Z"
   },
   {
    "duration": 1115,
    "start_time": "2024-10-27T19:41:03.859Z"
   },
   {
    "duration": 20708,
    "start_time": "2024-10-27T19:41:04.976Z"
   },
   {
    "duration": 20,
    "start_time": "2024-10-27T19:41:25.686Z"
   },
   {
    "duration": 28,
    "start_time": "2024-10-27T19:41:25.708Z"
   },
   {
    "duration": 72,
    "start_time": "2024-10-27T19:41:25.738Z"
   },
   {
    "duration": 10,
    "start_time": "2024-10-27T19:41:25.811Z"
   },
   {
    "duration": 72,
    "start_time": "2024-10-27T19:41:25.823Z"
   },
   {
    "duration": 69,
    "start_time": "2024-10-27T19:41:25.896Z"
   },
   {
    "duration": 58,
    "start_time": "2024-10-27T19:41:25.967Z"
   },
   {
    "duration": 886,
    "start_time": "2024-10-27T19:41:26.028Z"
   },
   {
    "duration": 14,
    "start_time": "2024-10-27T19:41:26.920Z"
   },
   {
    "duration": 29,
    "start_time": "2024-10-27T19:41:26.935Z"
   },
   {
    "duration": 9,
    "start_time": "2024-10-27T19:41:26.966Z"
   },
   {
    "duration": 12,
    "start_time": "2024-10-27T19:41:26.976Z"
   },
   {
    "duration": 77,
    "start_time": "2024-10-27T19:41:26.989Z"
   },
   {
    "duration": 3,
    "start_time": "2024-10-27T19:41:27.067Z"
   },
   {
    "duration": 334,
    "start_time": "2024-10-27T19:41:27.071Z"
   },
   {
    "duration": 133859,
    "start_time": "2024-10-27T19:41:27.407Z"
   },
   {
    "duration": 143781,
    "start_time": "2024-10-27T19:43:41.268Z"
   },
   {
    "duration": 19,
    "start_time": "2024-10-27T19:46:05.051Z"
   },
   {
    "duration": 36,
    "start_time": "2024-10-27T19:46:05.071Z"
   },
   {
    "duration": 48,
    "start_time": "2024-10-27T19:46:05.109Z"
   },
   {
    "duration": 40,
    "start_time": "2024-10-27T19:46:05.160Z"
   },
   {
    "duration": 47,
    "start_time": "2024-10-27T19:46:05.202Z"
   },
   {
    "duration": 76,
    "start_time": "2024-10-27T19:46:05.250Z"
   },
   {
    "duration": 24,
    "start_time": "2024-10-27T19:46:05.328Z"
   },
   {
    "duration": 25,
    "start_time": "2024-10-27T19:46:05.354Z"
   },
   {
    "duration": 13,
    "start_time": "2024-10-27T19:46:05.380Z"
   },
   {
    "duration": 37,
    "start_time": "2024-10-27T19:46:05.395Z"
   },
   {
    "duration": 27,
    "start_time": "2024-10-27T19:46:05.434Z"
   },
   {
    "duration": 110,
    "start_time": "2024-10-27T19:46:05.463Z"
   },
   {
    "duration": 82270,
    "start_time": "2024-10-27T19:46:05.575Z"
   },
   {
    "duration": 12,
    "start_time": "2024-10-27T19:47:27.847Z"
   },
   {
    "duration": 14,
    "start_time": "2024-10-27T19:47:27.860Z"
   },
   {
    "duration": 5,
    "start_time": "2024-10-27T19:47:27.876Z"
   },
   {
    "duration": 43756,
    "start_time": "2024-10-27T19:47:27.882Z"
   },
   {
    "duration": 15,
    "start_time": "2024-10-27T19:48:11.640Z"
   },
   {
    "duration": 2305,
    "start_time": "2024-10-27T20:16:21.997Z"
   },
   {
    "duration": 1485,
    "start_time": "2024-10-27T20:16:24.304Z"
   },
   {
    "duration": 563,
    "start_time": "2024-10-27T20:16:25.791Z"
   },
   {
    "duration": 33,
    "start_time": "2024-10-27T20:16:26.355Z"
   },
   {
    "duration": 35325,
    "start_time": "2024-10-27T20:16:26.390Z"
   },
   {
    "duration": 10815,
    "start_time": "2024-10-27T20:17:01.721Z"
   },
   {
    "duration": 113,
    "start_time": "2024-10-27T20:17:12.538Z"
   },
   {
    "duration": 406,
    "start_time": "2024-10-27T20:17:12.653Z"
   },
   {
    "duration": 18,
    "start_time": "2024-10-27T20:17:13.060Z"
   },
   {
    "duration": 492,
    "start_time": "2024-10-27T20:17:13.079Z"
   },
   {
    "duration": 20,
    "start_time": "2024-10-27T20:17:13.572Z"
   },
   {
    "duration": 77,
    "start_time": "2024-10-27T20:17:13.593Z"
   },
   {
    "duration": 15421,
    "start_time": "2024-10-27T20:17:13.671Z"
   },
   {
    "duration": 9,
    "start_time": "2024-10-27T20:17:29.095Z"
   },
   {
    "duration": 82,
    "start_time": "2024-10-27T20:17:29.105Z"
   },
   {
    "duration": 120,
    "start_time": "2024-10-27T20:17:29.189Z"
   },
   {
    "duration": 69,
    "start_time": "2024-10-27T20:17:29.310Z"
   },
   {
    "duration": 16518,
    "start_time": "2024-10-27T20:17:29.381Z"
   },
   {
    "duration": 1098,
    "start_time": "2024-10-27T20:17:45.901Z"
   },
   {
    "duration": 19794,
    "start_time": "2024-10-27T20:17:47.001Z"
   },
   {
    "duration": 29,
    "start_time": "2024-10-27T20:18:06.797Z"
   },
   {
    "duration": 9,
    "start_time": "2024-10-27T20:18:06.828Z"
   },
   {
    "duration": 74,
    "start_time": "2024-10-27T20:18:06.838Z"
   },
   {
    "duration": 9,
    "start_time": "2024-10-27T20:18:06.914Z"
   },
   {
    "duration": 47,
    "start_time": "2024-10-27T20:18:06.924Z"
   },
   {
    "duration": 80,
    "start_time": "2024-10-27T20:18:06.973Z"
   },
   {
    "duration": 63,
    "start_time": "2024-10-27T20:18:07.055Z"
   },
   {
    "duration": 881,
    "start_time": "2024-10-27T20:18:07.120Z"
   },
   {
    "duration": 23,
    "start_time": "2024-10-27T20:18:08.002Z"
   },
   {
    "duration": 22,
    "start_time": "2024-10-27T20:18:08.026Z"
   },
   {
    "duration": 9,
    "start_time": "2024-10-27T20:18:08.049Z"
   },
   {
    "duration": 8,
    "start_time": "2024-10-27T20:18:08.059Z"
   },
   {
    "duration": 72,
    "start_time": "2024-10-27T20:18:08.069Z"
   },
   {
    "duration": 3,
    "start_time": "2024-10-27T20:18:08.143Z"
   },
   {
    "duration": 291,
    "start_time": "2024-10-27T20:18:08.147Z"
   },
   {
    "duration": 128158,
    "start_time": "2024-10-27T20:18:08.440Z"
   },
   {
    "duration": 141247,
    "start_time": "2024-10-27T20:20:16.600Z"
   },
   {
    "duration": 17,
    "start_time": "2024-10-27T20:22:37.849Z"
   },
   {
    "duration": 34,
    "start_time": "2024-10-27T20:22:37.867Z"
   },
   {
    "duration": 38,
    "start_time": "2024-10-27T20:22:37.902Z"
   },
   {
    "duration": 49,
    "start_time": "2024-10-27T20:22:37.943Z"
   },
   {
    "duration": 50,
    "start_time": "2024-10-27T20:22:37.993Z"
   },
   {
    "duration": 13,
    "start_time": "2024-10-27T20:22:38.045Z"
   },
   {
    "duration": 6,
    "start_time": "2024-10-27T20:22:38.060Z"
   },
   {
    "duration": 18,
    "start_time": "2024-10-27T20:22:38.069Z"
   },
   {
    "duration": 17,
    "start_time": "2024-10-27T20:22:38.090Z"
   },
   {
    "duration": 40,
    "start_time": "2024-10-27T20:22:38.109Z"
   },
   {
    "duration": 27,
    "start_time": "2024-10-27T20:22:38.151Z"
   },
   {
    "duration": 102,
    "start_time": "2024-10-27T20:22:38.180Z"
   },
   {
    "duration": 82118,
    "start_time": "2024-10-27T20:22:38.283Z"
   },
   {
    "duration": 13,
    "start_time": "2024-10-27T20:24:00.403Z"
   },
   {
    "duration": 14,
    "start_time": "2024-10-27T20:24:00.417Z"
   },
   {
    "duration": 13,
    "start_time": "2024-10-27T20:24:00.433Z"
   },
   {
    "duration": 43067,
    "start_time": "2024-10-27T20:24:00.448Z"
   },
   {
    "duration": 17,
    "start_time": "2024-10-27T20:24:43.516Z"
   },
   {
    "duration": 2290,
    "start_time": "2024-10-27T20:52:09.379Z"
   },
   {
    "duration": 1466,
    "start_time": "2024-10-27T20:52:11.671Z"
   },
   {
    "duration": 559,
    "start_time": "2024-10-27T20:52:13.138Z"
   },
   {
    "duration": 45,
    "start_time": "2024-10-27T20:52:13.699Z"
   },
   {
    "duration": 34659,
    "start_time": "2024-10-27T20:52:13.746Z"
   },
   {
    "duration": 10536,
    "start_time": "2024-10-27T20:52:48.406Z"
   },
   {
    "duration": 110,
    "start_time": "2024-10-27T20:52:58.944Z"
   },
   {
    "duration": 369,
    "start_time": "2024-10-27T20:52:59.055Z"
   },
   {
    "duration": 18,
    "start_time": "2024-10-27T20:52:59.425Z"
   },
   {
    "duration": 531,
    "start_time": "2024-10-27T20:52:59.445Z"
   },
   {
    "duration": 19,
    "start_time": "2024-10-27T20:52:59.977Z"
   },
   {
    "duration": 86,
    "start_time": "2024-10-27T20:52:59.998Z"
   },
   {
    "duration": 15996,
    "start_time": "2024-10-27T20:53:00.085Z"
   },
   {
    "duration": 8,
    "start_time": "2024-10-27T20:53:16.082Z"
   },
   {
    "duration": 87,
    "start_time": "2024-10-27T20:53:16.091Z"
   },
   {
    "duration": 138,
    "start_time": "2024-10-27T20:53:16.180Z"
   },
   {
    "duration": 65,
    "start_time": "2024-10-27T20:53:16.319Z"
   },
   {
    "duration": 16412,
    "start_time": "2024-10-27T20:53:16.385Z"
   },
   {
    "duration": 1105,
    "start_time": "2024-10-27T20:53:32.799Z"
   },
   {
    "duration": 19988,
    "start_time": "2024-10-27T20:53:33.905Z"
   },
   {
    "duration": 27,
    "start_time": "2024-10-27T20:53:53.895Z"
   },
   {
    "duration": 10,
    "start_time": "2024-10-27T20:53:53.923Z"
   },
   {
    "duration": 56,
    "start_time": "2024-10-27T20:53:53.934Z"
   },
   {
    "duration": 9,
    "start_time": "2024-10-27T20:53:53.991Z"
   },
   {
    "duration": 60,
    "start_time": "2024-10-27T20:53:54.002Z"
   },
   {
    "duration": 80,
    "start_time": "2024-10-27T20:53:54.064Z"
   },
   {
    "duration": 55,
    "start_time": "2024-10-27T20:53:54.146Z"
   },
   {
    "duration": 908,
    "start_time": "2024-10-27T20:53:54.205Z"
   },
   {
    "duration": 19,
    "start_time": "2024-10-27T20:53:55.115Z"
   },
   {
    "duration": 22,
    "start_time": "2024-10-27T20:53:55.136Z"
   },
   {
    "duration": 13,
    "start_time": "2024-10-27T20:53:55.160Z"
   },
   {
    "duration": 26,
    "start_time": "2024-10-27T20:53:55.175Z"
   },
   {
    "duration": 66,
    "start_time": "2024-10-27T20:53:55.202Z"
   },
   {
    "duration": 4,
    "start_time": "2024-10-27T20:53:55.269Z"
   },
   {
    "duration": 293,
    "start_time": "2024-10-27T20:53:55.274Z"
   },
   {
    "duration": 130546,
    "start_time": "2024-10-27T20:53:55.569Z"
   },
   {
    "duration": 141615,
    "start_time": "2024-10-27T20:56:06.116Z"
   },
   {
    "duration": 19,
    "start_time": "2024-10-27T20:58:27.732Z"
   },
   {
    "duration": 23,
    "start_time": "2024-10-27T20:58:27.752Z"
   },
   {
    "duration": 24,
    "start_time": "2024-10-27T20:58:27.777Z"
   },
   {
    "duration": 35,
    "start_time": "2024-10-27T20:58:27.820Z"
   },
   {
    "duration": 42,
    "start_time": "2024-10-27T20:58:27.857Z"
   },
   {
    "duration": 29,
    "start_time": "2024-10-27T20:58:27.901Z"
   },
   {
    "duration": 5,
    "start_time": "2024-10-27T20:58:27.931Z"
   },
   {
    "duration": 13,
    "start_time": "2024-10-27T20:58:27.937Z"
   },
   {
    "duration": 5,
    "start_time": "2024-10-27T20:58:27.952Z"
   },
   {
    "duration": 23,
    "start_time": "2024-10-27T20:58:27.958Z"
   },
   {
    "duration": 42,
    "start_time": "2024-10-27T20:58:27.982Z"
   },
   {
    "duration": 102,
    "start_time": "2024-10-27T20:58:28.026Z"
   },
   {
    "duration": 81444,
    "start_time": "2024-10-27T20:58:28.129Z"
   },
   {
    "duration": 12,
    "start_time": "2024-10-27T20:59:49.574Z"
   },
   {
    "duration": 14,
    "start_time": "2024-10-27T20:59:49.588Z"
   },
   {
    "duration": 5,
    "start_time": "2024-10-27T20:59:49.603Z"
   },
   {
    "duration": 49841,
    "start_time": "2024-10-27T20:59:49.609Z"
   },
   {
    "duration": 15,
    "start_time": "2024-10-27T21:00:39.452Z"
   },
   {
    "duration": 2236,
    "start_time": "2024-10-27T21:06:36.688Z"
   },
   {
    "duration": 1465,
    "start_time": "2024-10-27T21:06:38.926Z"
   },
   {
    "duration": 476,
    "start_time": "2024-10-27T21:06:40.392Z"
   },
   {
    "duration": 33,
    "start_time": "2024-10-27T21:06:40.869Z"
   },
   {
    "duration": 33158,
    "start_time": "2024-10-27T21:06:40.904Z"
   },
   {
    "duration": 10751,
    "start_time": "2024-10-27T21:07:14.064Z"
   },
   {
    "duration": 184,
    "start_time": "2024-10-27T21:07:24.821Z"
   },
   {
    "duration": 444,
    "start_time": "2024-10-27T21:07:25.006Z"
   },
   {
    "duration": 20,
    "start_time": "2024-10-27T21:07:25.451Z"
   },
   {
    "duration": 533,
    "start_time": "2024-10-27T21:07:25.473Z"
   },
   {
    "duration": 26,
    "start_time": "2024-10-27T21:07:26.007Z"
   },
   {
    "duration": 79,
    "start_time": "2024-10-27T21:07:26.034Z"
   },
   {
    "duration": 15765,
    "start_time": "2024-10-27T21:07:26.114Z"
   },
   {
    "duration": 8,
    "start_time": "2024-10-27T21:07:41.882Z"
   },
   {
    "duration": 89,
    "start_time": "2024-10-27T21:07:41.891Z"
   },
   {
    "duration": 118,
    "start_time": "2024-10-27T21:07:41.982Z"
   },
   {
    "duration": 73,
    "start_time": "2024-10-27T21:07:42.102Z"
   },
   {
    "duration": 16541,
    "start_time": "2024-10-27T21:07:42.177Z"
   },
   {
    "duration": 1100,
    "start_time": "2024-10-27T21:07:58.721Z"
   },
   {
    "duration": 19737,
    "start_time": "2024-10-27T21:07:59.823Z"
   },
   {
    "duration": 20,
    "start_time": "2024-10-27T21:08:19.561Z"
   },
   {
    "duration": 8,
    "start_time": "2024-10-27T21:08:19.583Z"
   },
   {
    "duration": 51,
    "start_time": "2024-10-27T21:08:19.593Z"
   },
   {
    "duration": 9,
    "start_time": "2024-10-27T21:08:19.646Z"
   },
   {
    "duration": 61,
    "start_time": "2024-10-27T21:08:19.656Z"
   },
   {
    "duration": 73,
    "start_time": "2024-10-27T21:08:19.718Z"
   },
   {
    "duration": 56,
    "start_time": "2024-10-27T21:08:19.793Z"
   },
   {
    "duration": 889,
    "start_time": "2024-10-27T21:08:19.851Z"
   },
   {
    "duration": 13,
    "start_time": "2024-10-27T21:08:20.741Z"
   },
   {
    "duration": 20,
    "start_time": "2024-10-27T21:08:20.755Z"
   },
   {
    "duration": 8,
    "start_time": "2024-10-27T21:08:20.776Z"
   },
   {
    "duration": 145,
    "start_time": "2024-10-27T21:08:20.785Z"
   },
   {
    "duration": 63,
    "start_time": "2024-10-27T21:08:20.932Z"
   },
   {
    "duration": 3,
    "start_time": "2024-10-27T21:08:20.997Z"
   },
   {
    "duration": 330,
    "start_time": "2024-10-27T21:08:21.001Z"
   },
   {
    "duration": 128865,
    "start_time": "2024-10-27T21:08:21.333Z"
   },
   {
    "duration": 142883,
    "start_time": "2024-10-27T21:10:30.200Z"
   },
   {
    "duration": 19,
    "start_time": "2024-10-27T21:12:53.085Z"
   },
   {
    "duration": 35,
    "start_time": "2024-10-27T21:12:53.106Z"
   },
   {
    "duration": 47,
    "start_time": "2024-10-27T21:12:53.142Z"
   },
   {
    "duration": 38,
    "start_time": "2024-10-27T21:12:53.193Z"
   },
   {
    "duration": 38,
    "start_time": "2024-10-27T21:12:53.232Z"
   },
   {
    "duration": 10,
    "start_time": "2024-10-27T21:12:53.271Z"
   },
   {
    "duration": 18,
    "start_time": "2024-10-27T21:12:53.283Z"
   },
   {
    "duration": 9,
    "start_time": "2024-10-27T21:12:53.303Z"
   },
   {
    "duration": 11,
    "start_time": "2024-10-27T21:12:53.313Z"
   },
   {
    "duration": 22,
    "start_time": "2024-10-27T21:12:53.325Z"
   },
   {
    "duration": 25,
    "start_time": "2024-10-27T21:12:53.349Z"
   },
   {
    "duration": 105,
    "start_time": "2024-10-27T21:12:53.376Z"
   },
   {
    "duration": 81939,
    "start_time": "2024-10-27T21:12:53.482Z"
   },
   {
    "duration": 12,
    "start_time": "2024-10-27T21:14:15.423Z"
   },
   {
    "duration": 30,
    "start_time": "2024-10-27T21:14:15.437Z"
   },
   {
    "duration": 5,
    "start_time": "2024-10-27T21:14:15.469Z"
   },
   {
    "duration": 42498,
    "start_time": "2024-10-27T21:14:15.475Z"
   },
   {
    "duration": 17,
    "start_time": "2024-10-27T21:14:57.975Z"
   },
   {
    "duration": 113,
    "start_time": "2024-10-27T21:14:57.994Z"
   },
   {
    "duration": 0,
    "start_time": "2024-10-27T21:14:58.109Z"
   },
   {
    "duration": 5,
    "start_time": "2024-10-27T21:16:24.010Z"
   },
   {
    "duration": 12,
    "start_time": "2024-10-27T21:16:32.826Z"
   },
   {
    "duration": 13,
    "start_time": "2024-10-27T21:22:30.140Z"
   },
   {
    "duration": 350968,
    "start_time": "2024-10-27T21:23:08.178Z"
   },
   {
    "duration": 3622,
    "start_time": "2024-10-28T07:31:49.593Z"
   },
   {
    "duration": 1905,
    "start_time": "2024-10-28T07:31:53.217Z"
   },
   {
    "duration": 652,
    "start_time": "2024-10-28T07:31:55.124Z"
   },
   {
    "duration": 43,
    "start_time": "2024-10-28T07:31:55.777Z"
   },
   {
    "duration": 39263,
    "start_time": "2024-10-28T07:31:55.823Z"
   },
   {
    "duration": 11805,
    "start_time": "2024-10-28T07:32:35.088Z"
   },
   {
    "duration": 89,
    "start_time": "2024-10-28T07:32:46.895Z"
   },
   {
    "duration": 447,
    "start_time": "2024-10-28T07:32:46.985Z"
   },
   {
    "duration": 34,
    "start_time": "2024-10-28T07:32:47.433Z"
   },
   {
    "duration": 566,
    "start_time": "2024-10-28T07:32:47.468Z"
   },
   {
    "duration": 34,
    "start_time": "2024-10-28T07:32:48.036Z"
   },
   {
    "duration": 95,
    "start_time": "2024-10-28T07:32:48.072Z"
   },
   {
    "duration": 17556,
    "start_time": "2024-10-28T07:32:48.169Z"
   },
   {
    "duration": 10,
    "start_time": "2024-10-28T07:33:05.728Z"
   },
   {
    "duration": 104,
    "start_time": "2024-10-28T07:33:05.740Z"
   },
   {
    "duration": 139,
    "start_time": "2024-10-28T07:33:05.846Z"
   },
   {
    "duration": 83,
    "start_time": "2024-10-28T07:33:05.987Z"
   },
   {
    "duration": 18391,
    "start_time": "2024-10-28T07:33:06.072Z"
   },
   {
    "duration": 1277,
    "start_time": "2024-10-28T07:33:24.465Z"
   },
   {
    "duration": 22808,
    "start_time": "2024-10-28T07:33:25.744Z"
   },
   {
    "duration": 23,
    "start_time": "2024-10-28T07:33:48.553Z"
   },
   {
    "duration": 17,
    "start_time": "2024-10-28T07:33:48.577Z"
   },
   {
    "duration": 39,
    "start_time": "2024-10-28T07:33:48.596Z"
   },
   {
    "duration": 10,
    "start_time": "2024-10-28T07:33:48.653Z"
   },
   {
    "duration": 53,
    "start_time": "2024-10-28T07:33:48.665Z"
   },
   {
    "duration": 92,
    "start_time": "2024-10-28T07:33:48.720Z"
   },
   {
    "duration": 70,
    "start_time": "2024-10-28T07:33:48.814Z"
   },
   {
    "duration": 948,
    "start_time": "2024-10-28T07:33:48.886Z"
   },
   {
    "duration": 25,
    "start_time": "2024-10-28T07:33:49.836Z"
   },
   {
    "duration": 58,
    "start_time": "2024-10-28T07:33:49.862Z"
   },
   {
    "duration": 16,
    "start_time": "2024-10-28T07:33:49.922Z"
   },
   {
    "duration": 10,
    "start_time": "2024-10-28T07:33:49.939Z"
   },
   {
    "duration": 59,
    "start_time": "2024-10-28T07:33:49.950Z"
   },
   {
    "duration": 3,
    "start_time": "2024-10-28T07:33:50.011Z"
   },
   {
    "duration": 266,
    "start_time": "2024-10-28T07:33:50.016Z"
   },
   {
    "duration": 148458,
    "start_time": "2024-10-28T07:33:50.283Z"
   },
   {
    "duration": 161817,
    "start_time": "2024-10-28T07:36:18.743Z"
   },
   {
    "duration": 21,
    "start_time": "2024-10-28T07:39:00.561Z"
   },
   {
    "duration": 85,
    "start_time": "2024-10-28T07:39:00.584Z"
   },
   {
    "duration": 35,
    "start_time": "2024-10-28T07:39:00.670Z"
   },
   {
    "duration": 47,
    "start_time": "2024-10-28T07:39:00.710Z"
   },
   {
    "duration": 48,
    "start_time": "2024-10-28T07:39:00.759Z"
   },
   {
    "duration": 59,
    "start_time": "2024-10-28T07:39:00.808Z"
   },
   {
    "duration": 6,
    "start_time": "2024-10-28T07:39:00.869Z"
   },
   {
    "duration": 36,
    "start_time": "2024-10-28T07:39:00.876Z"
   },
   {
    "duration": 12,
    "start_time": "2024-10-28T07:39:00.914Z"
   },
   {
    "duration": 38,
    "start_time": "2024-10-28T07:39:00.927Z"
   },
   {
    "duration": 31,
    "start_time": "2024-10-28T07:39:00.966Z"
   },
   {
    "duration": 126,
    "start_time": "2024-10-28T07:39:00.999Z"
   },
   {
    "duration": 94123,
    "start_time": "2024-10-28T07:39:01.126Z"
   },
   {
    "duration": 15,
    "start_time": "2024-10-28T07:40:35.250Z"
   },
   {
    "duration": 17,
    "start_time": "2024-10-28T07:40:35.267Z"
   },
   {
    "duration": 6,
    "start_time": "2024-10-28T07:40:35.285Z"
   },
   {
    "duration": 50151,
    "start_time": "2024-10-28T07:40:35.292Z"
   },
   {
    "duration": 20,
    "start_time": "2024-10-28T07:41:25.445Z"
   },
   {
    "duration": 461312,
    "start_time": "2024-10-28T07:41:25.467Z"
   },
   {
    "duration": 142,
    "start_time": "2024-10-28T07:49:44.547Z"
   },
   {
    "duration": 6,
    "start_time": "2024-10-28T07:50:10.859Z"
   },
   {
    "duration": 20,
    "start_time": "2024-10-28T07:50:17.057Z"
   },
   {
    "duration": 20,
    "start_time": "2024-10-28T07:51:17.211Z"
   }
  ],
  "kernelspec": {
   "display_name": "Python 3 (ipykernel)",
   "language": "python",
   "name": "python3"
  },
  "language_info": {
   "codemirror_mode": {
    "name": "ipython",
    "version": 3
   },
   "file_extension": ".py",
   "mimetype": "text/x-python",
   "name": "python",
   "nbconvert_exporter": "python",
   "pygments_lexer": "ipython3",
   "version": "3.9.5"
  },
  "toc": {
   "base_numbering": 1,
   "nav_menu": {},
   "number_sections": true,
   "sideBar": true,
   "skip_h1_title": true,
   "title_cell": "Table of Contents",
   "title_sidebar": "Contents",
   "toc_cell": false,
   "toc_position": {},
   "toc_section_display": true,
   "toc_window_display": false
  }
 },
 "nbformat": 4,
 "nbformat_minor": 5
}
